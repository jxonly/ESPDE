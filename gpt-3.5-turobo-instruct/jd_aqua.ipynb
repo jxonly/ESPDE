{
 "cells": [
  {
   "cell_type": "markdown",
   "metadata": {},
   "source": [
    "## 使用davinci-003推理"
   ]
  },
  {
   "cell_type": "code",
   "execution_count": 1,
   "metadata": {},
   "outputs": [],
   "source": [
    "import os\n",
    "# os.environ['HTTP_PROXY']=\"http://172.20.137.69:8001\"\n",
    "# os.environ['HTTPS_PROXY']=\"http://172.20.137.69:8001\"\n",
    "# os.environ['ALL_PROXY']=\"socks5://172.20.137.69:8000\"\n",
    "\n",
    "# os.environ[\"CUDA_VISIBLE_DEVICES\"] = \"0\""
   ]
  },
  {
   "cell_type": "code",
   "execution_count": 2,
   "metadata": {},
   "outputs": [],
   "source": [
    "# from transformers import AutoTokenizer, AutoModel\n",
    "\n",
    "# tokenizer = AutoTokenizer.from_pretrained(\"../models/chatglm_6b\",repo_type=\"model\", trust_remote_code=True)\n",
    "# model = AutoModel.from_pretrained(\"../models/chatglm_6b\",trust_remote_code=True).half().cuda()\n",
    "# model = model.eval()"
   ]
  },
  {
   "cell_type": "code",
   "execution_count": 2,
   "metadata": {},
   "outputs": [],
   "source": [
    "\n",
    "import logging\n",
    "from collections import Counter\n",
    "\n",
    "from utils import  load_data,getKey,write_json,mkpath\n",
    "\n",
    "Result_Folder = \"jx_result\"\n",
    "Err_Result_Folder = \"jx_err_result\"\n",
    "dataset = \"AQuA\"\n",
    "datapath = \"../dataset/AQuA/AQuA_77_2.json\""
   ]
  },
  {
   "cell_type": "code",
   "execution_count": 3,
   "metadata": {},
   "outputs": [
    {
     "name": "stdout",
     "output_type": "stream",
     "text": [
      "时间: 0302_1931\n"
     ]
    }
   ],
   "source": [
    "import datetime\n",
    "\n",
    "# 获取当前时间\n",
    "current_time = datetime.datetime.now()\n",
    "\n",
    "# 将时间格式化为文件夹名称的形式\n",
    "format_time = current_time.strftime(\"%m%d_%H%M\")\n",
    "\n",
    "print(\"时间:\", format_time)\n",
    "\n",
    "if not os.path.exists(Result_Folder):\n",
    "    mkpath(Result_Folder)\n",
    "if not os.path.exists(f\"{Result_Folder}/{dataset}\"):\n",
    "    mkpath(f'{Result_Folder}/{dataset}')\n",
    "if not os.path.exists(Err_Result_Folder):\n",
    "    mkpath(Err_Result_Folder)\n",
    "if not os.path.exists(f\"{Err_Result_Folder}/{dataset}\"):\n",
    "    mkpath(f'{Err_Result_Folder}/{dataset}')\n"
   ]
  },
  {
   "cell_type": "code",
   "execution_count": 4,
   "metadata": {},
   "outputs": [
    {
     "name": "stdout",
     "output_type": "stream",
     "text": [
      "../dataset/AQuA/AQuA_77_2.json\n",
      "问题个数：100\n",
      "答案个数：100\n"
     ]
    },
    {
     "data": {
      "text/plain": [
       "('The height of a room to its semi-perimeter is 2:5. It costs Rs.260 to paper the walls of the room with paper 50cm wide at Rs.2 per meter allowing an area of 15 sq.m for doors and windows. The height of the room is: Answer Choices: (A) 2.6m (B) 3.9m (C) 4m (D) 4.2m (E) 4.4m',\n",
       " 'C')"
      ]
     },
     "execution_count": 4,
     "metadata": {},
     "output_type": "execute_result"
    }
   ],
   "source": [
    "question, answer, ids = load_data(datapath,dataset)\n",
    "assert len(question) == len(answer), \"输入长度不一致\"\n",
    "assert len(question) == len(ids),\"输入长度不一致\"\n",
    "data_scale = len(answer)\n",
    "\n",
    "print(f\"问题个数：{len(question)}\")\n",
    "print(f\"答案个数：{len(answer)}\")\n",
    "\n",
    "question[0],answer[0]"
   ]
  },
  {
   "cell_type": "markdown",
   "metadata": {},
   "source": [
    "## 单条prompt"
   ]
  },
  {
   "cell_type": "markdown",
   "metadata": {},
   "source": [
    "### 两个list分别代表201和202的所有问题的cots;每个列表是n个字典，字典内包含cots"
   ]
  },
  {
   "cell_type": "code",
   "execution_count": 5,
   "metadata": {},
   "outputs": [],
   "source": [
    "from prepare_prompt import get_prompt,construct_input\n",
    "from prediction_runner import basic_runner\n",
    "from extracter import extract_answer,get_precision\n",
    "from tqdm import tqdm\n",
    "\n",
    "\n",
    "engine = \"gpt-3.5-turbo-instruct\"\n",
    "max_length_cot = 512\n",
    "\n",
    "correct = 0\n",
    "# error_count = 0\n",
    "\n",
    "def get_paths(prompt_id,prompt_type,path_num):\n",
    "    res = []\n",
    "    _, prompt = get_prompt(prompt_id=prompt_id,type=prompt_type)\n",
    "    # print(prompt)\n",
    "    Predict_File = f'{Result_Folder}/{dataset}/{format_time}-Type_{prompt_type}-{prompt_id}-Num_{data_scale}-{path_num}.json'\n",
    "    Decoder_Error_File = f'{Err_Result_Folder}/{dataset}/{format_time}-Type_{prompt_type}-{prompt_id}-{path_num}.json'\n",
    "    pred_list = []\n",
    "    for idx, element in tqdm(enumerate(question)):\n",
    "        inputs = construct_input(prompt, element)\n",
    "        try:\n",
    "            get_result, pred_list, error_msg = basic_runner(engine, inputs, max_length_cot,path_num)\n",
    "            res.append({element:pred_list})\n",
    "        except Exception as e:\n",
    "            print(\"没有获取到答案！\\n\")\n",
    "            # error_count += 1\n",
    "            decode_error_data = {\n",
    "                'question': question[idx],\n",
    "                'answer':answer[idx]\n",
    "            }\n",
    "            write_json(decode_error_data, Decoder_Error_File)\n",
    "            print(\n",
    "                f\"an error raised when predicting (question id: {ids[idx]}). \"\n",
    "                f\"ERROR: {getattr(e.__class__, '__name__')}:{str(e)}\"\n",
    "            )\n",
    "            continue   \n",
    "        # print(\"pred_list:\",pred_list)        \n",
    "        if not get_result:\n",
    "            print(\n",
    "                f\"not get predicted result (question id: {ids[idx]}).\"\n",
    "                f\"ERROR Message: {error_msg if error_msg else None}\"\n",
    "            )\n",
    "            continue\n",
    "        json_data = {\n",
    "                        \"ID\": ids[idx],\n",
    "                        \"question\": question[idx],\n",
    "                        \"chain-of-thought\": pred_list,\n",
    "                        # \"pred\": pred_answer,\n",
    "                        \"answer\": answer[idx],\n",
    "                        # \"ans\": ans\n",
    "                    }    \n",
    "        write_json(json_data, Predict_File)\n",
    "\n",
    "    return res"
   ]
  },
  {
   "cell_type": "code",
   "execution_count": 6,
   "metadata": {},
   "outputs": [],
   "source": [
    "def get_all_paths(prompt_id_list,path_num,prompt_type):\n",
    "    res = []\n",
    "    for id in prompt_id_list:\n",
    "        paths = get_paths(prompt_id=id,prompt_type=prompt_type,path_num=path_num)\n",
    "        res.append(paths)\n",
    "    return res\n",
    "\n",
    "def get_combined_paths(res_list:list):\n",
    "    result = []\n",
    "    assert len(res_list) == 2,\"prompt限制两条\"\n",
    "    paths_1 = res_list[0]\n",
    "    paths_2 = res_list[1]\n",
    "    # print(len(paths_1))\n",
    "    assert len(paths_1) == len(question) == len(paths_2),\"path个数和问题个数不匹配\"\n",
    "\n",
    "    for j in range(len(paths_1)):\n",
    "        for k,v in paths_1[j].items():\n",
    "            k1,v1 = k,v\n",
    "        for k,v in paths_2[j].items():\n",
    "            k2,v2 = k,v\n",
    "        # print('----------------')\n",
    "        # print(k1)\n",
    "        # print(k2)\n",
    "        # print(question[j])\n",
    "        # print('----------------')\n",
    "        assert k1 == k2 == question[j]\n",
    "        temp = {\n",
    "            \"question\" : k1,\n",
    "            \"paths\" : v1 + v2,\n",
    "            \"answer\" : answer[j]\n",
    "        }\n",
    "            \n",
    "        result.append(temp)\n",
    "    return result\n",
    "\n",
    "# test_a = [[{'a':[1]},{'b':[2]}],[{'a':[3]},{'b':[4]}]]\n",
    "# get_combined_paths(test_a)\n",
    "        "
   ]
  },
  {
   "cell_type": "code",
   "execution_count": 18,
   "metadata": {},
   "outputs": [
    {
     "data": {
      "text/plain": [
       "(100, 100)"
      ]
     },
     "execution_count": 18,
     "metadata": {},
     "output_type": "execute_result"
    }
   ],
   "source": [
    "import json \n",
    "f1 = []\n",
    "f2 = []\n",
    "with open('./jx_result/AQuA/0228_1554-Type_1-201-Num_100-5.json','r',encoding='utf-8') as f11:\n",
    "    f1 = json.load(f11)\n",
    "with open('./jx_result/AQuA/0228_1554-Type_1-202-Num_100-5.json','r',encoding='utf-8') as f22:\n",
    "    f2 = json.load(f22)    \n",
    "len(f1),len(f2)"
   ]
  },
  {
   "cell_type": "code",
   "execution_count": 9,
   "metadata": {},
   "outputs": [],
   "source": [
    "# f1[0]"
   ]
  },
  {
   "cell_type": "code",
   "execution_count": 19,
   "metadata": {},
   "outputs": [],
   "source": [
    "t1 = []\n",
    "t2 = []\n",
    "for i in range(len(f1)):\n",
    "    temp1 = {}\n",
    "    temp2 = {}\n",
    "    q1 = f1[i]['question']\n",
    "    v1 = f1[i]['chain-of-thought']\n",
    "    temp1[q1] = v1\n",
    "    t1.append(temp1)\n",
    "    q2 = f2[i]['question']\n",
    "    v2 = f2[i]['chain-of-thought']\n",
    "    temp2[q2] = v2\n",
    "    t2.append(temp2)\n",
    "all_paths = []\n",
    "all_paths.append(t1)\n",
    "all_paths.append(t2)"
   ]
  },
  {
   "cell_type": "code",
   "execution_count": 7,
   "metadata": {},
   "outputs": [
    {
     "name": "stderr",
     "output_type": "stream",
     "text": [
      "100it [09:03,  5.44s/it]\n",
      "100it [09:16,  5.57s/it]\n"
     ]
    }
   ],
   "source": [
    "prompt_id_list = [201,202]\n",
    "path_num = 5\n",
    "prompt_type = 1\n",
    "\n",
    "\n",
    "\n",
    "all_paths = get_all_paths(prompt_id_list=prompt_id_list,path_num=path_num,prompt_type=prompt_type)\n",
    "\n",
    "res_paths = get_combined_paths(all_paths)"
   ]
  },
  {
   "cell_type": "code",
   "execution_count": 8,
   "metadata": {},
   "outputs": [],
   "source": [
    "assert len(prompt_id_list) == 2\n",
    "ids = prompt_id_list[0] +prompt_id_list[1]\n",
    "\n",
    "temp_p = f'{Result_Folder}/{dataset}/temp-{format_time}-Type_{prompt_type}-{ids}-Num_{data_scale}-{path_num}.json'\n",
    "# temp_p = \"./jx_result/AQuA/temp-0228_1554-Type_1-201-Num_100_0-5.json\"\n",
    "write_json(res_paths,path=temp_p)"
   ]
  },
  {
   "cell_type": "markdown",
   "metadata": {},
   "source": [
    "## 使用chatGLM抽取答案"
   ]
  },
  {
   "cell_type": "markdown",
   "metadata": {},
   "source": [
    "### 准备数据"
   ]
  },
  {
   "cell_type": "code",
   "execution_count": null,
   "metadata": {},
   "outputs": [],
   "source": [
    "import json\n",
    "# temp_p = \"jx_result/AQuA/temp-1031_1639-Type_1-403-Num_77-5.json\"\n",
    "\n",
    "with open(temp_p,'r',encoding='utf-8') as f:\n",
    "    data = json.load(f)\n",
    "len(data),data[0]"
   ]
  },
  {
   "cell_type": "markdown",
   "metadata": {},
   "source": [
    "### 抽取答案"
   ]
  },
  {
   "cell_type": "code",
   "execution_count": null,
   "metadata": {},
   "outputs": [],
   "source": [
    "def chatGLM(text,history):\n",
    "    res,history  = model.chat(tokenizer,text,history)\n",
    "#     print(res)\n",
    "    return res"
   ]
  },
  {
   "cell_type": "code",
   "execution_count": null,
   "metadata": {},
   "outputs": [],
   "source": [
    "# induce = \"\\nPlease extract the  option from the text.\\n Reply format should be the answer is xxx.\\nJust replay option.\\n Example: The answer is (A) xx.\""
   ]
  },
  {
   "cell_type": "code",
   "execution_count": null,
   "metadata": {},
   "outputs": [],
   "source": [
    "# a = '[Text]:\\n' + data[9]['paths'][5] + induce \n",
    "print(a)"
   ]
  },
  {
   "cell_type": "code",
   "execution_count": null,
   "metadata": {},
   "outputs": [],
   "source": [
    "# chatGLM(a,[])"
   ]
  },
  {
   "cell_type": "code",
   "execution_count": null,
   "metadata": {},
   "outputs": [],
   "source": [
    "from tqdm import tqdm\n",
    "\n",
    "induce = \"\\nPlease extract the answer option from the text.\\n Reply format should be the answer is xxx.\\nJust replay option.\\n Example: The answer is (A) xx.\"\n",
    "for i in tqdm(range(len(data))):\n",
    "    cots = data[i]['paths']\n",
    "    ans = []\n",
    "    for cot in cots:\n",
    "        induce_prompt = '[Text]:\\n' + cot + induce \n",
    "#         print(induce_prompt)\n",
    "        try:\n",
    "            res = chatGLM(induce_prompt,[])\n",
    "            ans.append(res)\n",
    "        except Exception as e:\n",
    "            print('出错了！')\n",
    "            print(e)\n",
    "    data[i]['answers'] = ans    \n",
    "   "
   ]
  },
  {
   "cell_type": "code",
   "execution_count": null,
   "metadata": {},
   "outputs": [],
   "source": [
    "import copy\n",
    "\n",
    "raw_data = copy.deepcopy(data)"
   ]
  },
  {
   "cell_type": "code",
   "execution_count": null,
   "metadata": {},
   "outputs": [],
   "source": [
    "data[50]['answers'],data[50]['answer']"
   ]
  },
  {
   "cell_type": "code",
   "execution_count": null,
   "metadata": {},
   "outputs": [],
   "source": [
    "import re\n",
    "\n",
    "def extract_option(text:str):\n",
    "    pattern = r'A|B|C|D|E'\n",
    "    match = re.search(pattern=pattern,string=text)\n",
    "    if match:\n",
    "        answer = str(match.group())\n",
    "    else:\n",
    "        answer = None\n",
    "    return answer\n",
    "\n",
    "\n",
    "def extract_answer(text: str):\n",
    "    count = 0\n",
    "    pattern_1 = r'\\d+(?:\\.\\d+)?'\n",
    "    # 尝试直接从cot中抽取答案\n",
    "    answer = extract_option(text)\n",
    "    # 如果抽不出来，则将其再次输入chatGLM-6b,得到新的text\n",
    "    if answer == None:\n",
    "        count += 1\n",
    "        answer = 'E'\n",
    "    return answer,count"
   ]
  },
  {
   "cell_type": "code",
   "execution_count": null,
   "metadata": {},
   "outputs": [],
   "source": [
    "from tqdm import  tqdm\n",
    "    \n",
    "for i in tqdm(range(len(data))):\n",
    "    ans = []\n",
    "    answers = data[i]['answers']\n",
    "    for item in answers:\n",
    "        answer,count = extract_answer(item)\n",
    "        ans.append(answer)\n",
    "    data[i]['answers'] = ans\n",
    "count"
   ]
  },
  {
   "cell_type": "code",
   "execution_count": null,
   "metadata": {},
   "outputs": [],
   "source": [
    "from utils import write_json\n",
    "\n",
    "prompt_id_list = [201,202]\n",
    "\n",
    "assert len(prompt_id_list) == 2\n",
    "ids = prompt_id_list[0] +prompt_id_list[1]\n",
    "\n",
    "# res_p = f'{Result_Folder}/{dataset}/res-{format_time}-Type_{prompt_type}-{ids}-Num_{data_scale}-{path_num}.json'\n",
    "res_p = \"jx_result/AQuA/res-1031_1954-Type_1-403-Num_77-5.json\"\n",
    "\n",
    "write_json(data,path=res_p)"
   ]
  },
  {
   "cell_type": "markdown",
   "metadata": {},
   "source": [
    "## 筛选器"
   ]
  },
  {
   "cell_type": "code",
   "execution_count": null,
   "metadata": {},
   "outputs": [],
   "source": [
    "import json\n",
    "\n",
    "with open(res_p,'r',encoding='utf-8') as f:\n",
    "    res_data = json.load(f)\n",
    "len(res_data),res_data[0]"
   ]
  },
  {
   "cell_type": "code",
   "execution_count": null,
   "metadata": {},
   "outputs": [],
   "source": [
    "from collections import Counter\n",
    "\n",
    "for item in data:\n",
    "    answers = item['answers']\n",
    "    jx = Counter(answers).most_common(1)[0][0]\n",
    "    item['pred_answer'] = jx\n",
    "\n",
    "data[0]"
   ]
  },
  {
   "cell_type": "code",
   "execution_count": null,
   "metadata": {},
   "outputs": [],
   "source": [
    "c1 = 0\n",
    "c2 = 0\n",
    "for item in data:\n",
    "    pred = item['pred_answer']\n",
    "    gold = item['answer']\n",
    "    if pred:\n",
    "        if str(pred) == str(gold):\n",
    "            item['ans'] = True\n",
    "            c1 += 1\n",
    "        else:\n",
    "            item['ans'] = False\n",
    "            c2 += 1\n",
    "    else:\n",
    "        c2 += 1\n",
    "assert c1 + c2 == len(data)\n",
    "c1,c2\n",
    "\n"
   ]
  },
  {
   "cell_type": "code",
   "execution_count": null,
   "metadata": {},
   "outputs": [],
   "source": [
    "p = res_p.replace('res-','ses-')\n",
    "\n",
    "write_json(res_data,p)"
   ]
  },
  {
   "cell_type": "code",
   "execution_count": null,
   "metadata": {},
   "outputs": [],
   "source": [
    "28/77"
   ]
  },
  {
   "cell_type": "code",
   "execution_count": null,
   "metadata": {},
   "outputs": [],
   "source": []
  },
  {
   "cell_type": "code",
   "execution_count": null,
   "metadata": {},
   "outputs": [],
   "source": []
  },
  {
   "cell_type": "code",
   "execution_count": null,
   "metadata": {},
   "outputs": [],
   "source": []
  },
  {
   "cell_type": "code",
   "execution_count": null,
   "metadata": {},
   "outputs": [],
   "source": []
  },
  {
   "cell_type": "code",
   "execution_count": null,
   "metadata": {},
   "outputs": [],
   "source": [
    "# import json\n",
    "\n",
    "# path = './jx_result/gsm8k/1018_1021-Type_1-303-Num_100-0.json'\n",
    "\n",
    "# data = []\n",
    "# with open(path,'r') as f:\n",
    "#    for line in f:\n",
    "#         data.append(line)\n",
    "# len(data)\n",
    "\n",
    "# count = 0\n",
    "# pos = 0\n",
    "# neg = 0\n",
    "# for item in data:\n",
    "#     if \"\\\"ans\\\":\" in item:\n",
    "#         count+=1;\n",
    "#         if \"true\" in item:\n",
    "#             pos+=1\n",
    "#         else:\n",
    "#             neg+=1\n",
    "# assert count == pos + neg,\"统计错误\"\n",
    "# print(count,pos)\n",
    "# print(pos/count)"
   ]
  },
  {
   "cell_type": "code",
   "execution_count": null,
   "metadata": {},
   "outputs": [],
   "source": [
    "# print('Brenda will have a total of $450 after 3 years. This can be calculated using the formula for simple interest: \\n\\nTotal Amount = Principal Amount + Interest Earned \\n\\nTotal Amount = 300 + (300 x 0.75 x 3) \\n\\nTotal Amount = 300 + 225 \\n\\nTotal Amount = $450')"
   ]
  },
  {
   "cell_type": "code",
   "execution_count": null,
   "metadata": {},
   "outputs": [],
   "source": [
    "(203+199+198)/900"
   ]
  },
  {
   "cell_type": "code",
   "execution_count": null,
   "metadata": {},
   "outputs": [],
   "source": [
    "(0.397+0.354+0.5)/3"
   ]
  },
  {
   "cell_type": "code",
   "execution_count": null,
   "metadata": {},
   "outputs": [],
   "source": [
    "(184+33)/300"
   ]
  },
  {
   "cell_type": "code",
   "execution_count": null,
   "metadata": {},
   "outputs": [],
   "source": [
    "c1 = 2\n",
    "c2 = 3\n",
    "\n",
    "print(\"计算完毕，准确率：{},正确个数：{}，错误个数：{}\".format(c1/(c1+c2),c1,c2))"
   ]
  }
 ],
 "metadata": {
  "kernelspec": {
   "display_name": "learn",
   "language": "python",
   "name": "python3"
  },
  "language_info": {
   "codemirror_mode": {
    "name": "ipython",
    "version": 3
   },
   "file_extension": ".py",
   "mimetype": "text/x-python",
   "name": "python",
   "nbconvert_exporter": "python",
   "pygments_lexer": "ipython3",
   "version": "3.7.0"
  }
 },
 "nbformat": 4,
 "nbformat_minor": 2
}
