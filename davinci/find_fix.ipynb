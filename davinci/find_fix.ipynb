{
 "cells": [
  {
   "cell_type": "code",
   "execution_count": 1,
   "metadata": {},
   "outputs": [
    {
     "data": {
      "text/plain": [
       "(1, 5)"
      ]
     },
     "execution_count": 1,
     "metadata": {},
     "output_type": "execute_result"
    }
   ],
   "source": [
    "import json\n",
    "\n",
    "p1 = \"./dataset/last_letters/last_letters_200_0.json\"\n",
    "\n",
    "p2 = \"./jx_err_result/last_letters/1129_1904-Type_1-502-5.json\"\n",
    "\n",
    "with open(p1,'r') as f:\n",
    "    raw = json.load(f)\n",
    "\n",
    "with open(p2,'r') as f1:\n",
    "    fix = json.load(f1)\n",
    "\n",
    "len(raw),len(fix)\n"
   ]
  },
  {
   "cell_type": "code",
   "execution_count": null,
   "metadata": {},
   "outputs": [],
   "source": [
    "raw[0],fix[0]"
   ]
  },
  {
   "cell_type": "code",
   "execution_count": null,
   "metadata": {},
   "outputs": [],
   "source": [
    "result = []\n",
    "\n",
    "for item in fix:\n",
    "    for d in raw:\n",
    "        if d[\"sQuestion\"] == item['question']:\n",
    "            result.append(d)\n",
    "            assert float(d[\"lSolutions\"][0]) == float(item['answer'])\n",
    "assert len(result) == len(fix)"
   ]
  },
  {
   "cell_type": "code",
   "execution_count": null,
   "metadata": {},
   "outputs": [],
   "source": [
    "idx = [i['iIndex'] for i in result]\n",
    "idx"
   ]
  },
  {
   "cell_type": "code",
   "execution_count": null,
   "metadata": {},
   "outputs": [],
   "source": [
    "p3 = \"./dataset/AddSub/AddSub_sup.json\"\n",
    "\n",
    "with open (p3,'w',encoding='utf-8') as f:\n",
    "    json.dump(result,f,ensure_ascii=False,indent=1)"
   ]
  },
  {
   "cell_type": "code",
   "execution_count": null,
   "metadata": {},
   "outputs": [],
   "source": []
  },
  {
   "cell_type": "code",
   "execution_count": null,
   "metadata": {},
   "outputs": [],
   "source": []
  },
  {
   "cell_type": "markdown",
   "metadata": {},
   "source": [
    "## for letters"
   ]
  },
  {
   "cell_type": "code",
   "execution_count": 2,
   "metadata": {},
   "outputs": [
    {
     "data": {
      "text/plain": [
       "(1, 5)"
      ]
     },
     "execution_count": 2,
     "metadata": {},
     "output_type": "execute_result"
    }
   ],
   "source": [
    "import json\n",
    "\n",
    "p1 = \"./dataset/last_letters/last_letters_200_0.json\"\n",
    "\n",
    "p2 = \"./jx_err_result/last_letters/1129_1904-Type_1-502-5.json\"\n",
    "\n",
    "with open(p1,'r') as f:\n",
    "    raw = json.load(f)\n",
    "\n",
    "with open(p2,'r') as f1:\n",
    "    fix = json.load(f1)\n",
    "\n",
    "len(raw),len(fix)"
   ]
  },
  {
   "cell_type": "code",
   "execution_count": 3,
   "metadata": {},
   "outputs": [
    {
     "data": {
      "text/plain": [
       "({'question': 'Take the last letters of each words in \"Letty Aimee Elvia Ted\" and concatenate them.',\n",
       "  'answer': 'yead'},\n",
       " {'question': 'Take the last letters of each words in \"Peggy Trent Darrell Pamela\" and concatenate them.',\n",
       "  'answer': 'ytla'})"
      ]
     },
     "execution_count": 3,
     "metadata": {},
     "output_type": "execute_result"
    }
   ],
   "source": [
    "raw['examples'][0],fix[0]"
   ]
  },
  {
   "cell_type": "code",
   "execution_count": 4,
   "metadata": {},
   "outputs": [],
   "source": [
    "result = []\n",
    "index = []\n",
    "\n",
    "for item in fix:\n",
    "    c = -1\n",
    "    for d in raw['examples']:\n",
    "        c+=1\n",
    "        if d[\"question\"] == item['question']:\n",
    "            index.append(c)\n",
    "            result.append(d)\n",
    "            assert str(d[\"answer\"]) == str(item['answer'])\n",
    "assert len(result) == len(fix)"
   ]
  },
  {
   "cell_type": "code",
   "execution_count": 5,
   "metadata": {},
   "outputs": [
    {
     "data": {
      "text/plain": [
       "[92, 94, 127, 139, 147]"
      ]
     },
     "execution_count": 5,
     "metadata": {},
     "output_type": "execute_result"
    }
   ],
   "source": [
    "index"
   ]
  },
  {
   "cell_type": "code",
   "execution_count": 6,
   "metadata": {},
   "outputs": [],
   "source": [
    "p3 = \"./dataset/last_letters/last_letters_sup.json\"\n",
    "res_data = {}\n",
    "res_data['examples'] = result\n",
    "with open (p3,'w',encoding='utf-8') as f:\n",
    "    json.dump(res_data,f,ensure_ascii=False,indent=1)"
   ]
  }
 ],
 "metadata": {
  "kernelspec": {
   "display_name": "learn",
   "language": "python",
   "name": "python3"
  },
  "language_info": {
   "codemirror_mode": {
    "name": "ipython",
    "version": 3
   },
   "file_extension": ".py",
   "mimetype": "text/x-python",
   "name": "python",
   "nbconvert_exporter": "python",
   "pygments_lexer": "ipython3",
   "version": "3.7.0"
  }
 },
 "nbformat": 4,
 "nbformat_minor": 2
}
