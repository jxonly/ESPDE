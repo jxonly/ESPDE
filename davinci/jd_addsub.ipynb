{
 "cells": [
  {
   "cell_type": "markdown",
   "metadata": {},
   "source": [
    "## 使用davinci-003推理"
   ]
  },
  {
   "cell_type": "code",
   "execution_count": 1,
   "metadata": {},
   "outputs": [],
   "source": [
    "import os\n"
   ]
  },
  {
   "cell_type": "code",
   "execution_count": 2,
   "metadata": {},
   "outputs": [],
   "source": [
    "\n",
    "import logging\n",
    "from collections import Counter\n",
    "\n",
    "from utils import  load_data,getKey,write_json,mkpath\n",
    " \n",
    "Result_Folder = \"jx_result\"\n",
    "Err_Result_Folder = \"jx_err_result\"\n",
    "dataset = \"AddSub\"\n",
    "datapath = \"./dataset/AddSub/AddSub_200_1.json\""
   ]
  },
  {
   "cell_type": "code",
   "execution_count": 3,
   "metadata": {},
   "outputs": [
    {
     "name": "stdout",
     "output_type": "stream",
     "text": [
      "时间: 0104_1037\n"
     ]
    }
   ],
   "source": [
    "import datetime\n",
    "\n",
    "# 获取当前时间\n",
    "current_time = datetime.datetime.now()\n",
    "\n",
    "# 将时间格式化为文件夹名称的形式\n",
    "format_time = current_time.strftime(\"%m%d_%H%M\")\n",
    "\n",
    "print(\"时间:\", format_time)\n",
    "\n",
    "if not os.path.exists(Result_Folder):\n",
    "    mkpath(Result_Folder)\n",
    "if not os.path.exists(f\"{Result_Folder}/{dataset}\"):\n",
    "    mkpath(f'{Result_Folder}/{dataset}')\n",
    "if not os.path.exists(Err_Result_Folder):\n",
    "    mkpath(Err_Result_Folder)\n",
    "if not os.path.exists(f\"{Err_Result_Folder}/{dataset}\"):\n",
    "    mkpath(f'{Err_Result_Folder}/{dataset}')\n"
   ]
  },
  {
   "cell_type": "code",
   "execution_count": 4,
   "metadata": {},
   "outputs": [
    {
     "name": "stdout",
     "output_type": "stream",
     "text": [
      "问题个数：195\n",
      "答案个数：195\n"
     ]
    },
    {
     "data": {
      "text/plain": [
       "(\"At the beach , Miki and her sister both built sandcastles and then measured their heights . Miki 's sandcastle was 0.8333333333333334 foot tall and her sister 's was 0.5 foot tall . How much taller was Miki 's sandcastle than her sister 's ? \",\n",
       " 0.3333333333333333)"
      ]
     },
     "execution_count": 4,
     "metadata": {},
     "output_type": "execute_result"
    }
   ],
   "source": [
    "question, answer, ids = load_data(datapath,dataset)\n",
    "assert len(question) == len(answer), \"输入长度不一致\"\n",
    "assert len(question) == len(ids),\"输入长度不一致\"\n",
    "data_scale = len(answer)\n",
    "print(f\"问题个数：{len(question)}\")\n",
    "print(f\"答案个数：{len(answer)}\")\n",
    "\n",
    "question[0],answer[0]"
   ]
  },
  {
   "cell_type": "markdown",
   "metadata": {},
   "source": [
    "## 单条prompt"
   ]
  },
  {
   "cell_type": "markdown",
   "metadata": {},
   "source": [
    "### 两个list分别代表201和202的所有问题的cots;每个列表是n个字典，字典内包含cots"
   ]
  },
  {
   "cell_type": "code",
   "execution_count": 5,
   "metadata": {},
   "outputs": [],
   "source": [
    "from prepare_prompt import get_prompt,construct_input\n",
    "from prediction_runner import basic_runner\n",
    "from extracter import extract_answer,get_precision\n",
    "from tqdm import tqdm\n",
    "\n",
    "\n",
    "engine = \"text-davinci-003\"\n",
    "max_length_cot = 512\n",
    "key_index = 0\n",
    "\n",
    "\n",
    "def get_paths(prompt_id,prompt_type,path_num):\n",
    "    res = []\n",
    "    _, prompt = get_prompt(prompt_id=prompt_id,type=prompt_type)\n",
    "    # print(prompt)\n",
    "    Predict_File = f'{Result_Folder}/{dataset}/{format_time}-Type_{prompt_type}-{prompt_id}-Num_{data_scale}-{path_num}.json'\n",
    "    Decoder_Error_File = f'{Err_Result_Folder}/{dataset}/{format_time}-Type_{prompt_type}-{prompt_id}-{path_num}.json'\n",
    "    pred_list = []\n",
    "    for idx, element in tqdm(enumerate(question)):\n",
    "        inputs = construct_input(prompt, element)\n",
    "        try:\n",
    "            get_result, pred_list, error_msg = basic_runner(engine, inputs, max_length_cot, key_index,path_num)\n",
    "            res.append({element:pred_list})\n",
    "        except Exception as e:\n",
    "            print(\"没有获取到答案！\\n\")\n",
    "            decode_error_data = {\n",
    "                'question': question[idx],\n",
    "                'answer':answer[idx]\n",
    "            }\n",
    "            write_json(decode_error_data, Decoder_Error_File)\n",
    "            print(\n",
    "                f\"an error raised when predicting (question id: {ids[idx]}). \"\n",
    "                f\"ERROR: {getattr(e.__class__, '__name__')}:{str(e)}\"\n",
    "            )\n",
    "            continue   \n",
    "        # print(\"pred_list:\",pred_list)        \n",
    "        if not get_result:\n",
    "            print(\n",
    "                f\"not get predicted result (question id: {ids[idx]}).\"\n",
    "                f\"ERROR Message: {error_msg if error_msg else None}\"\n",
    "            )\n",
    "            continue\n",
    "        json_data = {\n",
    "                        \"ID\": ids[idx],\n",
    "                        \"question\": question[idx],\n",
    "                        \"chain-of-thought\": pred_list,\n",
    "                        # \"pred\": pred_answer,\n",
    "                        \"answer\": answer[idx],\n",
    "                        # \"ans\": ans\n",
    "                    }    \n",
    "        write_json(json_data, Predict_File)\n",
    "\n",
    "    return res"
   ]
  },
  {
   "cell_type": "code",
   "execution_count": 6,
   "metadata": {},
   "outputs": [],
   "source": [
    "\n",
    "\n",
    "def get_all_paths(prompt_id_list,path_num,prompt_type):\n",
    "    res = []\n",
    "    for id in prompt_id_list:\n",
    "        paths = get_paths(prompt_id=id,prompt_type=prompt_type,path_num=path_num)\n",
    "        res.append(paths)\n",
    "    return res\n",
    "\n",
    "def get_combined_paths(res_list:list):\n",
    "    result = []\n",
    "    assert len(res_list) == 2,\"prompt限制两条\"\n",
    "    paths_1 = res_list[0]\n",
    "    paths_2 = res_list[1]\n",
    "    # print(len(paths_1))\n",
    "    assert len(paths_1) == len(question) == len(paths_2),\"path个数和问题个数不匹配\"\n",
    "\n",
    "    for j in range(len(paths_1)):\n",
    "        for k,v in paths_1[j].items():\n",
    "            k1,v1 = k,v\n",
    "        for k,v in paths_2[j].items():\n",
    "            k2,v2 = k,v\n",
    "        # print('----------------')\n",
    "        # print(k1)\n",
    "        # print(k2)\n",
    "        # print(question[j])\n",
    "        # print('----------------')\n",
    "        assert k1 == k2 == question[j]\n",
    "        temp = {\n",
    "            \"question\" : k1,\n",
    "            \"paths\" : v1 + v2,\n",
    "            \"answer\" : answer[j]\n",
    "        }\n",
    "            \n",
    "        result.append(temp)\n",
    "    return result\n",
    "\n",
    "# test_a = [[{'a':[1]},{'b':[2]}],[{'a':[3]},{'b':[4]}]]\n",
    "# get_combined_paths(test_a)\n",
    "        "
   ]
  },
  {
   "cell_type": "code",
   "execution_count": 16,
   "metadata": {},
   "outputs": [],
   "source": [
    "# import json \n",
    "# f1 = []\n",
    "# f2 = []\n",
    "# with open('./jx_result/gsm8k/1101_1812-Type_1-201-Num_266-5.json','r',encoding='utf-8') as f11:\n",
    "#     f1 = json.load(f11)\n",
    "# with open('./jx_result/gsm8k/1101_1909-Type_1-202-Num_266-5.json','r',encoding='utf-8') as f22:\n",
    "#     f2 = json.load(f22)    \n",
    "# len(f1),len(f2)"
   ]
  },
  {
   "cell_type": "code",
   "execution_count": 17,
   "metadata": {},
   "outputs": [],
   "source": [
    "# t1 = []\n",
    "# t2 = []\n",
    "# for i in range(len(f1)):\n",
    "#     temp1 = {}\n",
    "#     temp2 = {}\n",
    "#     q1 = f1[i]['question']\n",
    "#     v1 = f1[i]['chain-of-thought']\n",
    "#     temp1[q1] = v1\n",
    "#     t1.append(temp1)\n",
    "#     q2 = f2[i]['question']\n",
    "#     v2 = f2[i]['chain-of-thought']\n",
    "#     temp2[q2] = v2\n",
    "#     t2.append(temp2)\n",
    "# all_paths = []\n",
    "# all_paths.append(t1)\n",
    "# all_paths.append(t2)"
   ]
  },
  {
   "cell_type": "code",
   "execution_count": 8,
   "metadata": {},
   "outputs": [
    {
     "data": {
      "text/plain": [
       "459.7"
      ]
     },
     "execution_count": 8,
     "metadata": {},
     "output_type": "execute_result"
    }
   ],
   "source": [
    "91.8+59.3+92.2+46+94.7+75.7"
   ]
  },
  {
   "cell_type": "code",
   "execution_count": 12,
   "metadata": {},
   "outputs": [
    {
     "data": {
      "text/plain": [
       "73.0"
      ]
     },
     "execution_count": 12,
     "metadata": {},
     "output_type": "execute_result"
    }
   ],
   "source": [
    "(46+59.3+91.8+92.2+75.7)/5"
   ]
  },
  {
   "cell_type": "code",
   "execution_count": 14,
   "metadata": {},
   "outputs": [
    {
     "data": {
      "text/plain": [
       "73.97999999999999"
      ]
     },
     "execution_count": 14,
     "metadata": {},
     "output_type": "execute_result"
    }
   ],
   "source": [
    "(44.5+60.7+93.3+92.9+78.5)/5"
   ]
  },
  {
   "cell_type": "code",
   "execution_count": 7,
   "metadata": {},
   "outputs": [
    {
     "name": "stderr",
     "output_type": "stream",
     "text": [
      "0it [00:00, ?it/s]"
     ]
    },
    {
     "name": "stderr",
     "output_type": "stream",
     "text": [
      "104it [10:21,  5.99s/it]"
     ]
    },
    {
     "name": "stdout",
     "output_type": "stream",
     "text": [
      "达到每日200条限制的key： sess-VpQIrNTw4RryCWl7zBDV6yGaJ7s7sOemhpvy5uKB\n"
     ]
    },
    {
     "name": "stderr",
     "output_type": "stream",
     "text": [
      "107it [10:46,  7.56s/it]"
     ]
    },
    {
     "name": "stdout",
     "output_type": "stream",
     "text": [
      "达到每日200条限制的key： sess-VpQIrNTw4RryCWl7zBDV6yGaJ7s7sOemhpvy5uKB\n"
     ]
    },
    {
     "name": "stderr",
     "output_type": "stream",
     "text": [
      "109it [11:00,  7.24s/it]"
     ]
    },
    {
     "name": "stdout",
     "output_type": "stream",
     "text": [
      "达到每日200条限制的key： sess-VpQIrNTw4RryCWl7zBDV6yGaJ7s7sOemhpvy5uKB\n"
     ]
    },
    {
     "name": "stderr",
     "output_type": "stream",
     "text": [
      "112it [11:25,  7.59s/it]"
     ]
    },
    {
     "name": "stdout",
     "output_type": "stream",
     "text": [
      "达到每日200条限制的key： sess-VpQIrNTw4RryCWl7zBDV6yGaJ7s7sOemhpvy5uKB\n"
     ]
    },
    {
     "name": "stderr",
     "output_type": "stream",
     "text": [
      "115it [11:46,  7.41s/it]"
     ]
    },
    {
     "name": "stdout",
     "output_type": "stream",
     "text": [
      "达到每日200条限制的key： sess-VpQIrNTw4RryCWl7zBDV6yGaJ7s7sOemhpvy5uKB\n"
     ]
    },
    {
     "name": "stderr",
     "output_type": "stream",
     "text": [
      "117it [12:02,  7.32s/it]"
     ]
    },
    {
     "name": "stdout",
     "output_type": "stream",
     "text": [
      "达到每日200条限制的key： sess-VpQIrNTw4RryCWl7zBDV6yGaJ7s7sOemhpvy5uKB\n"
     ]
    },
    {
     "name": "stderr",
     "output_type": "stream",
     "text": [
      "119it [12:21,  8.54s/it]"
     ]
    },
    {
     "name": "stdout",
     "output_type": "stream",
     "text": [
      "达到每日200条限制的key： sess-VpQIrNTw4RryCWl7zBDV6yGaJ7s7sOemhpvy5uKB\n"
     ]
    },
    {
     "name": "stderr",
     "output_type": "stream",
     "text": [
      "138it [14:19,  6.56s/it]"
     ]
    },
    {
     "name": "stdout",
     "output_type": "stream",
     "text": [
      "达到每日200条限制的key： sess-3zdbY5n092GargF9ekM4z6v5ZdN41u5WitJR7vI4\n"
     ]
    },
    {
     "name": "stderr",
     "output_type": "stream",
     "text": [
      "140it [14:35,  7.17s/it]"
     ]
    },
    {
     "name": "stdout",
     "output_type": "stream",
     "text": [
      "达到每日200条限制的key： sess-3zdbY5n092GargF9ekM4z6v5ZdN41u5WitJR7vI4\n"
     ]
    },
    {
     "name": "stderr",
     "output_type": "stream",
     "text": [
      "143it [14:56,  7.04s/it]"
     ]
    },
    {
     "name": "stdout",
     "output_type": "stream",
     "text": [
      "达到每日200条限制的key： sess-3zdbY5n092GargF9ekM4z6v5ZdN41u5WitJR7vI4\n"
     ]
    },
    {
     "name": "stderr",
     "output_type": "stream",
     "text": [
      "145it [15:13,  7.52s/it]"
     ]
    },
    {
     "name": "stdout",
     "output_type": "stream",
     "text": [
      "达到每日200条限制的key： sess-3zdbY5n092GargF9ekM4z6v5ZdN41u5WitJR7vI4\n"
     ]
    },
    {
     "name": "stderr",
     "output_type": "stream",
     "text": [
      "184it [19:08,  6.31s/it]"
     ]
    },
    {
     "name": "stdout",
     "output_type": "stream",
     "text": [
      "达到每日200条限制的key： sess-gPGgdK6xzCjwfKZ8EscG44LgHHeeJv2llPIngo3z\n"
     ]
    },
    {
     "name": "stderr",
     "output_type": "stream",
     "text": [
      "186it [19:24,  6.81s/it]"
     ]
    },
    {
     "name": "stdout",
     "output_type": "stream",
     "text": [
      "达到每日200条限制的key： sess-gPGgdK6xzCjwfKZ8EscG44LgHHeeJv2llPIngo3z\n"
     ]
    },
    {
     "name": "stderr",
     "output_type": "stream",
     "text": [
      "189it [19:46,  7.55s/it]"
     ]
    },
    {
     "name": "stdout",
     "output_type": "stream",
     "text": [
      "达到每日200条限制的key： sess-gPGgdK6xzCjwfKZ8EscG44LgHHeeJv2llPIngo3z\n"
     ]
    },
    {
     "name": "stderr",
     "output_type": "stream",
     "text": [
      "192it [20:09,  7.65s/it]"
     ]
    },
    {
     "name": "stdout",
     "output_type": "stream",
     "text": [
      "达到每日200条限制的key： sess-gPGgdK6xzCjwfKZ8EscG44LgHHeeJv2llPIngo3z\n"
     ]
    },
    {
     "name": "stderr",
     "output_type": "stream",
     "text": [
      "194it [20:23,  7.25s/it]"
     ]
    },
    {
     "name": "stdout",
     "output_type": "stream",
     "text": [
      "达到每日200条限制的key： sess-gPGgdK6xzCjwfKZ8EscG44LgHHeeJv2llPIngo3z\n"
     ]
    },
    {
     "name": "stderr",
     "output_type": "stream",
     "text": [
      "195it [20:30,  6.31s/it]\n",
      "2it [00:15,  8.41s/it]"
     ]
    },
    {
     "name": "stdout",
     "output_type": "stream",
     "text": [
      "达到每日200条限制的key： sess-gPGgdK6xzCjwfKZ8EscG44LgHHeeJv2llPIngo3z\n"
     ]
    },
    {
     "name": "stderr",
     "output_type": "stream",
     "text": [
      "5it [00:38,  7.87s/it]"
     ]
    },
    {
     "name": "stdout",
     "output_type": "stream",
     "text": [
      "达到每日200条限制的key： sess-gPGgdK6xzCjwfKZ8EscG44LgHHeeJv2llPIngo3z\n"
     ]
    },
    {
     "name": "stderr",
     "output_type": "stream",
     "text": [
      "7it [00:53,  7.46s/it]"
     ]
    },
    {
     "name": "stdout",
     "output_type": "stream",
     "text": [
      "达到每日200条限制的key： sess-gPGgdK6xzCjwfKZ8EscG44LgHHeeJv2llPIngo3z\n"
     ]
    },
    {
     "name": "stderr",
     "output_type": "stream",
     "text": [
      "10it [01:15,  7.80s/it]"
     ]
    },
    {
     "name": "stdout",
     "output_type": "stream",
     "text": [
      "达到每日200条限制的key： sess-gPGgdK6xzCjwfKZ8EscG44LgHHeeJv2llPIngo3z\n"
     ]
    },
    {
     "name": "stderr",
     "output_type": "stream",
     "text": [
      "13it [01:38,  7.92s/it]"
     ]
    },
    {
     "name": "stdout",
     "output_type": "stream",
     "text": [
      "达到每日200条限制的key： sess-gPGgdK6xzCjwfKZ8EscG44LgHHeeJv2llPIngo3z\n"
     ]
    },
    {
     "name": "stderr",
     "output_type": "stream",
     "text": [
      "16it [01:59,  7.31s/it]"
     ]
    },
    {
     "name": "stdout",
     "output_type": "stream",
     "text": [
      "达到每日200条限制的key： sess-gPGgdK6xzCjwfKZ8EscG44LgHHeeJv2llPIngo3z\n"
     ]
    },
    {
     "name": "stderr",
     "output_type": "stream",
     "text": [
      "18it [02:17,  7.93s/it]"
     ]
    },
    {
     "name": "stdout",
     "output_type": "stream",
     "text": [
      "达到每日200条限制的key： sess-gPGgdK6xzCjwfKZ8EscG44LgHHeeJv2llPIngo3z\n"
     ]
    },
    {
     "name": "stderr",
     "output_type": "stream",
     "text": [
      "20it [02:32,  7.66s/it]"
     ]
    },
    {
     "name": "stdout",
     "output_type": "stream",
     "text": [
      "达到每日200条限制的key： sess-gPGgdK6xzCjwfKZ8EscG44LgHHeeJv2llPIngo3z\n"
     ]
    },
    {
     "name": "stderr",
     "output_type": "stream",
     "text": [
      "23it [02:56,  8.06s/it]"
     ]
    },
    {
     "name": "stdout",
     "output_type": "stream",
     "text": [
      "达到每日200条限制的key： sess-gPGgdK6xzCjwfKZ8EscG44LgHHeeJv2llPIngo3z\n"
     ]
    },
    {
     "name": "stderr",
     "output_type": "stream",
     "text": [
      "26it [03:18,  7.93s/it]"
     ]
    },
    {
     "name": "stdout",
     "output_type": "stream",
     "text": [
      "达到每日200条限制的key： sess-gPGgdK6xzCjwfKZ8EscG44LgHHeeJv2llPIngo3z\n"
     ]
    },
    {
     "name": "stderr",
     "output_type": "stream",
     "text": [
      "28it [03:32,  7.23s/it]"
     ]
    },
    {
     "name": "stdout",
     "output_type": "stream",
     "text": [
      "达到每日200条限制的key： sess-gPGgdK6xzCjwfKZ8EscG44LgHHeeJv2llPIngo3z\n"
     ]
    },
    {
     "name": "stderr",
     "output_type": "stream",
     "text": [
      "30it [03:45,  6.65s/it]"
     ]
    },
    {
     "name": "stdout",
     "output_type": "stream",
     "text": [
      "出问题的key: sess-gPGgdK6xzCjwfKZ8EscG44LgHHeeJv2llPIngo3z\n"
     ]
    },
    {
     "name": "stderr",
     "output_type": "stream",
     "text": [
      "31it [03:56,  7.98s/it]"
     ]
    },
    {
     "name": "stdout",
     "output_type": "stream",
     "text": [
      "出问题的key: sess-gPGgdK6xzCjwfKZ8EscG44LgHHeeJv2llPIngo3z\n"
     ]
    },
    {
     "name": "stderr",
     "output_type": "stream",
     "text": [
      "32it [04:04,  7.99s/it]"
     ]
    },
    {
     "name": "stdout",
     "output_type": "stream",
     "text": [
      "出问题的key: sess-gPGgdK6xzCjwfKZ8EscG44LgHHeeJv2llPIngo3z\n"
     ]
    },
    {
     "name": "stderr",
     "output_type": "stream",
     "text": [
      "33it [04:09,  7.25s/it]"
     ]
    },
    {
     "name": "stdout",
     "output_type": "stream",
     "text": [
      "出问题的key: sess-gPGgdK6xzCjwfKZ8EscG44LgHHeeJv2llPIngo3z\n"
     ]
    },
    {
     "name": "stderr",
     "output_type": "stream",
     "text": [
      "34it [04:19,  8.02s/it]"
     ]
    },
    {
     "name": "stdout",
     "output_type": "stream",
     "text": [
      "出问题的key: sess-gPGgdK6xzCjwfKZ8EscG44LgHHeeJv2llPIngo3z\n"
     ]
    },
    {
     "name": "stderr",
     "output_type": "stream",
     "text": [
      "35it [04:24,  7.20s/it]"
     ]
    },
    {
     "name": "stdout",
     "output_type": "stream",
     "text": [
      "出问题的key: sess-gPGgdK6xzCjwfKZ8EscG44LgHHeeJv2llPIngo3z\n"
     ]
    },
    {
     "name": "stderr",
     "output_type": "stream",
     "text": [
      "36it [04:32,  7.36s/it]"
     ]
    },
    {
     "name": "stdout",
     "output_type": "stream",
     "text": [
      "出问题的key: sess-gPGgdK6xzCjwfKZ8EscG44LgHHeeJv2llPIngo3z\n"
     ]
    },
    {
     "name": "stderr",
     "output_type": "stream",
     "text": [
      "37it [04:40,  7.48s/it]"
     ]
    },
    {
     "name": "stdout",
     "output_type": "stream",
     "text": [
      "出问题的key: sess-gPGgdK6xzCjwfKZ8EscG44LgHHeeJv2llPIngo3z\n"
     ]
    },
    {
     "name": "stderr",
     "output_type": "stream",
     "text": [
      "38it [04:45,  6.77s/it]"
     ]
    },
    {
     "name": "stdout",
     "output_type": "stream",
     "text": [
      "出问题的key: sess-gPGgdK6xzCjwfKZ8EscG44LgHHeeJv2llPIngo3z\n"
     ]
    },
    {
     "name": "stderr",
     "output_type": "stream",
     "text": [
      "39it [04:55,  7.69s/it]"
     ]
    },
    {
     "name": "stdout",
     "output_type": "stream",
     "text": [
      "出问题的key: sess-gPGgdK6xzCjwfKZ8EscG44LgHHeeJv2llPIngo3z\n"
     ]
    },
    {
     "name": "stderr",
     "output_type": "stream",
     "text": [
      "40it [05:03,  7.84s/it]"
     ]
    },
    {
     "name": "stdout",
     "output_type": "stream",
     "text": [
      "出问题的key: sess-gPGgdK6xzCjwfKZ8EscG44LgHHeeJv2llPIngo3z\n"
     ]
    },
    {
     "name": "stderr",
     "output_type": "stream",
     "text": [
      "41it [05:09,  7.29s/it]"
     ]
    },
    {
     "name": "stdout",
     "output_type": "stream",
     "text": [
      "出问题的key: sess-gPGgdK6xzCjwfKZ8EscG44LgHHeeJv2llPIngo3z\n"
     ]
    },
    {
     "name": "stderr",
     "output_type": "stream",
     "text": [
      "42it [05:19,  7.98s/it]"
     ]
    },
    {
     "name": "stdout",
     "output_type": "stream",
     "text": [
      "出问题的key: sess-gPGgdK6xzCjwfKZ8EscG44LgHHeeJv2llPIngo3z\n"
     ]
    },
    {
     "name": "stderr",
     "output_type": "stream",
     "text": [
      "43it [05:26,  7.86s/it]"
     ]
    },
    {
     "name": "stdout",
     "output_type": "stream",
     "text": [
      "出问题的key: sess-gPGgdK6xzCjwfKZ8EscG44LgHHeeJv2llPIngo3z\n"
     ]
    },
    {
     "name": "stderr",
     "output_type": "stream",
     "text": [
      "44it [05:32,  7.10s/it]"
     ]
    },
    {
     "name": "stdout",
     "output_type": "stream",
     "text": [
      "出问题的key: sess-gPGgdK6xzCjwfKZ8EscG44LgHHeeJv2llPIngo3z\n"
     ]
    },
    {
     "name": "stderr",
     "output_type": "stream",
     "text": [
      "45it [05:39,  7.24s/it]"
     ]
    },
    {
     "name": "stdout",
     "output_type": "stream",
     "text": [
      "出问题的key: sess-gPGgdK6xzCjwfKZ8EscG44LgHHeeJv2llPIngo3z\n",
      "达到每日200条限制的key： sess-ruBHsVOxY2EgZPRQjZGLCztqaAeBxan7zTwjharK\n"
     ]
    },
    {
     "name": "stderr",
     "output_type": "stream",
     "text": [
      "46it [05:50,  8.25s/it]"
     ]
    },
    {
     "name": "stdout",
     "output_type": "stream",
     "text": [
      "出问题的key: sess-gPGgdK6xzCjwfKZ8EscG44LgHHeeJv2llPIngo3z\n"
     ]
    },
    {
     "name": "stderr",
     "output_type": "stream",
     "text": [
      "47it [06:01,  9.03s/it]"
     ]
    },
    {
     "name": "stdout",
     "output_type": "stream",
     "text": [
      "出问题的key: sess-gPGgdK6xzCjwfKZ8EscG44LgHHeeJv2llPIngo3z\n",
      "达到每日200条限制的key： sess-ruBHsVOxY2EgZPRQjZGLCztqaAeBxan7zTwjharK\n"
     ]
    },
    {
     "name": "stderr",
     "output_type": "stream",
     "text": [
      "48it [06:09,  8.74s/it]"
     ]
    },
    {
     "name": "stdout",
     "output_type": "stream",
     "text": [
      "出问题的key: sess-gPGgdK6xzCjwfKZ8EscG44LgHHeeJv2llPIngo3z\n"
     ]
    },
    {
     "name": "stderr",
     "output_type": "stream",
     "text": [
      "49it [06:19,  9.17s/it]"
     ]
    },
    {
     "name": "stdout",
     "output_type": "stream",
     "text": [
      "出问题的key: sess-gPGgdK6xzCjwfKZ8EscG44LgHHeeJv2llPIngo3z\n",
      "达到每日200条限制的key： sess-ruBHsVOxY2EgZPRQjZGLCztqaAeBxan7zTwjharK\n"
     ]
    },
    {
     "name": "stderr",
     "output_type": "stream",
     "text": [
      "50it [06:27,  8.90s/it]"
     ]
    },
    {
     "name": "stdout",
     "output_type": "stream",
     "text": [
      "出问题的key: sess-gPGgdK6xzCjwfKZ8EscG44LgHHeeJv2llPIngo3z\n"
     ]
    },
    {
     "name": "stderr",
     "output_type": "stream",
     "text": [
      "51it [06:37,  9.17s/it]"
     ]
    },
    {
     "name": "stdout",
     "output_type": "stream",
     "text": [
      "出问题的key: sess-gPGgdK6xzCjwfKZ8EscG44LgHHeeJv2llPIngo3z\n"
     ]
    },
    {
     "name": "stderr",
     "output_type": "stream",
     "text": [
      "52it [06:45,  8.71s/it]"
     ]
    },
    {
     "name": "stdout",
     "output_type": "stream",
     "text": [
      "出问题的key: sess-gPGgdK6xzCjwfKZ8EscG44LgHHeeJv2llPIngo3z\n",
      "达到每日200条限制的key： sess-ruBHsVOxY2EgZPRQjZGLCztqaAeBxan7zTwjharK\n"
     ]
    },
    {
     "name": "stderr",
     "output_type": "stream",
     "text": [
      "53it [06:54,  9.08s/it]"
     ]
    },
    {
     "name": "stdout",
     "output_type": "stream",
     "text": [
      "出问题的key: sess-gPGgdK6xzCjwfKZ8EscG44LgHHeeJv2llPIngo3z\n"
     ]
    },
    {
     "name": "stderr",
     "output_type": "stream",
     "text": [
      "54it [07:02,  8.57s/it]"
     ]
    },
    {
     "name": "stdout",
     "output_type": "stream",
     "text": [
      "出问题的key: sess-gPGgdK6xzCjwfKZ8EscG44LgHHeeJv2llPIngo3z\n",
      "达到每日200条限制的key： sess-ruBHsVOxY2EgZPRQjZGLCztqaAeBxan7zTwjharK\n"
     ]
    },
    {
     "name": "stderr",
     "output_type": "stream",
     "text": [
      "55it [07:12,  8.95s/it]"
     ]
    },
    {
     "name": "stdout",
     "output_type": "stream",
     "text": [
      "出问题的key: sess-gPGgdK6xzCjwfKZ8EscG44LgHHeeJv2llPIngo3z\n"
     ]
    },
    {
     "name": "stderr",
     "output_type": "stream",
     "text": [
      "56it [07:18,  8.31s/it]"
     ]
    },
    {
     "name": "stdout",
     "output_type": "stream",
     "text": [
      "出问题的key: sess-gPGgdK6xzCjwfKZ8EscG44LgHHeeJv2llPIngo3z\n"
     ]
    },
    {
     "name": "stderr",
     "output_type": "stream",
     "text": [
      "57it [07:29,  8.96s/it]"
     ]
    },
    {
     "name": "stdout",
     "output_type": "stream",
     "text": [
      "出问题的key: sess-gPGgdK6xzCjwfKZ8EscG44LgHHeeJv2llPIngo3z\n",
      "达到每日200条限制的key： sess-ruBHsVOxY2EgZPRQjZGLCztqaAeBxan7zTwjharK\n"
     ]
    },
    {
     "name": "stderr",
     "output_type": "stream",
     "text": [
      "58it [07:38,  9.12s/it]"
     ]
    },
    {
     "name": "stdout",
     "output_type": "stream",
     "text": [
      "出问题的key: sess-gPGgdK6xzCjwfKZ8EscG44LgHHeeJv2llPIngo3z\n"
     ]
    },
    {
     "name": "stderr",
     "output_type": "stream",
     "text": [
      "59it [07:46,  8.60s/it]"
     ]
    },
    {
     "name": "stdout",
     "output_type": "stream",
     "text": [
      "出问题的key: sess-gPGgdK6xzCjwfKZ8EscG44LgHHeeJv2llPIngo3z\n",
      "达到每日200条限制的key： sess-ruBHsVOxY2EgZPRQjZGLCztqaAeBxan7zTwjharK\n"
     ]
    },
    {
     "name": "stderr",
     "output_type": "stream",
     "text": [
      "60it [07:55,  8.82s/it]"
     ]
    },
    {
     "name": "stdout",
     "output_type": "stream",
     "text": [
      "出问题的key: sess-gPGgdK6xzCjwfKZ8EscG44LgHHeeJv2llPIngo3z\n"
     ]
    },
    {
     "name": "stderr",
     "output_type": "stream",
     "text": [
      "61it [08:02,  8.25s/it]"
     ]
    },
    {
     "name": "stdout",
     "output_type": "stream",
     "text": [
      "出问题的key: sess-gPGgdK6xzCjwfKZ8EscG44LgHHeeJv2llPIngo3z\n",
      "达到每日200条限制的key： sess-ruBHsVOxY2EgZPRQjZGLCztqaAeBxan7zTwjharK\n"
     ]
    },
    {
     "name": "stderr",
     "output_type": "stream",
     "text": [
      "62it [08:12,  8.65s/it]"
     ]
    },
    {
     "name": "stdout",
     "output_type": "stream",
     "text": [
      "出问题的key: sess-gPGgdK6xzCjwfKZ8EscG44LgHHeeJv2llPIngo3z\n"
     ]
    },
    {
     "name": "stderr",
     "output_type": "stream",
     "text": [
      "63it [08:18,  8.09s/it]"
     ]
    },
    {
     "name": "stdout",
     "output_type": "stream",
     "text": [
      "出问题的key: sess-gPGgdK6xzCjwfKZ8EscG44LgHHeeJv2llPIngo3z\n"
     ]
    },
    {
     "name": "stderr",
     "output_type": "stream",
     "text": [
      "64it [08:30,  9.07s/it]"
     ]
    },
    {
     "name": "stdout",
     "output_type": "stream",
     "text": [
      "出问题的key: sess-gPGgdK6xzCjwfKZ8EscG44LgHHeeJv2llPIngo3z\n",
      "达到每日200条限制的key： sess-ruBHsVOxY2EgZPRQjZGLCztqaAeBxan7zTwjharK\n"
     ]
    },
    {
     "name": "stderr",
     "output_type": "stream",
     "text": [
      "65it [08:40,  9.48s/it]"
     ]
    },
    {
     "name": "stdout",
     "output_type": "stream",
     "text": [
      "出问题的key: sess-gPGgdK6xzCjwfKZ8EscG44LgHHeeJv2llPIngo3z\n",
      "达到每日200条限制的key： sess-ruBHsVOxY2EgZPRQjZGLCztqaAeBxan7zTwjharK\n"
     ]
    },
    {
     "name": "stderr",
     "output_type": "stream",
     "text": [
      "66it [08:47,  8.69s/it]"
     ]
    },
    {
     "name": "stdout",
     "output_type": "stream",
     "text": [
      "出问题的key: sess-gPGgdK6xzCjwfKZ8EscG44LgHHeeJv2llPIngo3z\n"
     ]
    },
    {
     "name": "stderr",
     "output_type": "stream",
     "text": [
      "67it [08:56,  8.81s/it]"
     ]
    },
    {
     "name": "stdout",
     "output_type": "stream",
     "text": [
      "出问题的key: sess-gPGgdK6xzCjwfKZ8EscG44LgHHeeJv2llPIngo3z\n"
     ]
    },
    {
     "name": "stderr",
     "output_type": "stream",
     "text": [
      "68it [09:03,  8.33s/it]"
     ]
    },
    {
     "name": "stdout",
     "output_type": "stream",
     "text": [
      "出问题的key: sess-gPGgdK6xzCjwfKZ8EscG44LgHHeeJv2llPIngo3z\n",
      "达到每日200条限制的key： sess-ruBHsVOxY2EgZPRQjZGLCztqaAeBxan7zTwjharK\n"
     ]
    },
    {
     "name": "stderr",
     "output_type": "stream",
     "text": [
      "69it [09:12,  8.48s/it]"
     ]
    },
    {
     "name": "stdout",
     "output_type": "stream",
     "text": [
      "出问题的key: sess-gPGgdK6xzCjwfKZ8EscG44LgHHeeJv2llPIngo3z\n"
     ]
    },
    {
     "name": "stderr",
     "output_type": "stream",
     "text": [
      "70it [09:19,  8.01s/it]"
     ]
    },
    {
     "name": "stdout",
     "output_type": "stream",
     "text": [
      "出问题的key: sess-gPGgdK6xzCjwfKZ8EscG44LgHHeeJv2llPIngo3z\n",
      "达到每日200条限制的key： sess-ruBHsVOxY2EgZPRQjZGLCztqaAeBxan7zTwjharK\n"
     ]
    },
    {
     "name": "stderr",
     "output_type": "stream",
     "text": [
      "71it [09:31,  9.29s/it]"
     ]
    },
    {
     "name": "stdout",
     "output_type": "stream",
     "text": [
      "出问题的key: sess-gPGgdK6xzCjwfKZ8EscG44LgHHeeJv2llPIngo3z\n"
     ]
    },
    {
     "name": "stderr",
     "output_type": "stream",
     "text": [
      "72it [09:39,  8.74s/it]"
     ]
    },
    {
     "name": "stdout",
     "output_type": "stream",
     "text": [
      "出问题的key: sess-gPGgdK6xzCjwfKZ8EscG44LgHHeeJv2llPIngo3z\n",
      "达到每日200条限制的key： sess-ruBHsVOxY2EgZPRQjZGLCztqaAeBxan7zTwjharK\n"
     ]
    },
    {
     "name": "stderr",
     "output_type": "stream",
     "text": [
      "73it [09:49,  9.29s/it]"
     ]
    },
    {
     "name": "stdout",
     "output_type": "stream",
     "text": [
      "出问题的key: sess-gPGgdK6xzCjwfKZ8EscG44LgHHeeJv2llPIngo3z\n"
     ]
    },
    {
     "name": "stderr",
     "output_type": "stream",
     "text": [
      "74it [09:59,  9.51s/it]"
     ]
    },
    {
     "name": "stdout",
     "output_type": "stream",
     "text": [
      "出问题的key: sess-gPGgdK6xzCjwfKZ8EscG44LgHHeeJv2llPIngo3z\n",
      "达到每日200条限制的key： sess-ruBHsVOxY2EgZPRQjZGLCztqaAeBxan7zTwjharK\n"
     ]
    },
    {
     "name": "stderr",
     "output_type": "stream",
     "text": [
      "75it [10:07,  8.92s/it]"
     ]
    },
    {
     "name": "stdout",
     "output_type": "stream",
     "text": [
      "出问题的key: sess-gPGgdK6xzCjwfKZ8EscG44LgHHeeJv2llPIngo3z\n"
     ]
    },
    {
     "name": "stderr",
     "output_type": "stream",
     "text": [
      "76it [10:17,  9.09s/it]"
     ]
    },
    {
     "name": "stdout",
     "output_type": "stream",
     "text": [
      "出问题的key: sess-gPGgdK6xzCjwfKZ8EscG44LgHHeeJv2llPIngo3z\n"
     ]
    },
    {
     "name": "stderr",
     "output_type": "stream",
     "text": [
      "77it [10:24,  8.73s/it]"
     ]
    },
    {
     "name": "stdout",
     "output_type": "stream",
     "text": [
      "出问题的key: sess-gPGgdK6xzCjwfKZ8EscG44LgHHeeJv2llPIngo3z\n",
      "达到每日200条限制的key： sess-ruBHsVOxY2EgZPRQjZGLCztqaAeBxan7zTwjharK\n"
     ]
    },
    {
     "name": "stderr",
     "output_type": "stream",
     "text": [
      "78it [10:34,  9.07s/it]"
     ]
    },
    {
     "name": "stdout",
     "output_type": "stream",
     "text": [
      "出问题的key: sess-gPGgdK6xzCjwfKZ8EscG44LgHHeeJv2llPIngo3z\n"
     ]
    },
    {
     "name": "stderr",
     "output_type": "stream",
     "text": [
      "79it [10:42,  8.69s/it]"
     ]
    },
    {
     "name": "stdout",
     "output_type": "stream",
     "text": [
      "出问题的key: sess-gPGgdK6xzCjwfKZ8EscG44LgHHeeJv2llPIngo3z\n",
      "达到每日200条限制的key： sess-ruBHsVOxY2EgZPRQjZGLCztqaAeBxan7zTwjharK\n"
     ]
    },
    {
     "name": "stderr",
     "output_type": "stream",
     "text": [
      "80it [10:52,  9.02s/it]"
     ]
    },
    {
     "name": "stdout",
     "output_type": "stream",
     "text": [
      "出问题的key: sess-gPGgdK6xzCjwfKZ8EscG44LgHHeeJv2llPIngo3z\n"
     ]
    },
    {
     "name": "stderr",
     "output_type": "stream",
     "text": [
      "81it [10:59,  8.58s/it]"
     ]
    },
    {
     "name": "stdout",
     "output_type": "stream",
     "text": [
      "出问题的key: sess-gPGgdK6xzCjwfKZ8EscG44LgHHeeJv2llPIngo3z\n",
      "达到每日200条限制的key： sess-ruBHsVOxY2EgZPRQjZGLCztqaAeBxan7zTwjharK\n"
     ]
    },
    {
     "name": "stderr",
     "output_type": "stream",
     "text": [
      "82it [11:09,  8.94s/it]"
     ]
    },
    {
     "name": "stdout",
     "output_type": "stream",
     "text": [
      "出问题的key: sess-gPGgdK6xzCjwfKZ8EscG44LgHHeeJv2llPIngo3z\n"
     ]
    },
    {
     "name": "stderr",
     "output_type": "stream",
     "text": [
      "83it [11:22, 10.07s/it]"
     ]
    },
    {
     "name": "stdout",
     "output_type": "stream",
     "text": [
      "出问题的key: sess-gPGgdK6xzCjwfKZ8EscG44LgHHeeJv2llPIngo3z\n",
      "达到每日200条限制的key： sess-ruBHsVOxY2EgZPRQjZGLCztqaAeBxan7zTwjharK\n"
     ]
    },
    {
     "name": "stderr",
     "output_type": "stream",
     "text": [
      "84it [11:30,  9.39s/it]"
     ]
    },
    {
     "name": "stdout",
     "output_type": "stream",
     "text": [
      "出问题的key: sess-gPGgdK6xzCjwfKZ8EscG44LgHHeeJv2llPIngo3z\n"
     ]
    },
    {
     "name": "stderr",
     "output_type": "stream",
     "text": [
      "85it [11:40,  9.66s/it]"
     ]
    },
    {
     "name": "stdout",
     "output_type": "stream",
     "text": [
      "出问题的key: sess-gPGgdK6xzCjwfKZ8EscG44LgHHeeJv2llPIngo3z\n",
      "出问题的key: sess-ruBHsVOxY2EgZPRQjZGLCztqaAeBxan7zTwjharK\n"
     ]
    },
    {
     "name": "stderr",
     "output_type": "stream",
     "text": [
      "86it [11:48,  9.06s/it]"
     ]
    },
    {
     "name": "stdout",
     "output_type": "stream",
     "text": [
      "出问题的key: sess-gPGgdK6xzCjwfKZ8EscG44LgHHeeJv2llPIngo3z\n",
      "出问题的key: sess-ruBHsVOxY2EgZPRQjZGLCztqaAeBxan7zTwjharK\n"
     ]
    },
    {
     "name": "stderr",
     "output_type": "stream",
     "text": [
      "87it [11:58,  9.45s/it]"
     ]
    },
    {
     "name": "stdout",
     "output_type": "stream",
     "text": [
      "出问题的key: sess-gPGgdK6xzCjwfKZ8EscG44LgHHeeJv2llPIngo3z\n",
      "出问题的key: sess-ruBHsVOxY2EgZPRQjZGLCztqaAeBxan7zTwjharK\n"
     ]
    },
    {
     "name": "stderr",
     "output_type": "stream",
     "text": [
      "88it [12:06,  8.89s/it]"
     ]
    },
    {
     "name": "stdout",
     "output_type": "stream",
     "text": [
      "出问题的key: sess-gPGgdK6xzCjwfKZ8EscG44LgHHeeJv2llPIngo3z\n",
      "出问题的key: sess-ruBHsVOxY2EgZPRQjZGLCztqaAeBxan7zTwjharK\n"
     ]
    },
    {
     "name": "stderr",
     "output_type": "stream",
     "text": [
      "89it [12:16,  9.34s/it]"
     ]
    },
    {
     "name": "stdout",
     "output_type": "stream",
     "text": [
      "出问题的key: sess-gPGgdK6xzCjwfKZ8EscG44LgHHeeJv2llPIngo3z\n",
      "出问题的key: sess-ruBHsVOxY2EgZPRQjZGLCztqaAeBxan7zTwjharK\n"
     ]
    },
    {
     "name": "stderr",
     "output_type": "stream",
     "text": [
      "90it [12:23,  8.65s/it]"
     ]
    },
    {
     "name": "stdout",
     "output_type": "stream",
     "text": [
      "出问题的key: sess-gPGgdK6xzCjwfKZ8EscG44LgHHeeJv2llPIngo3z\n",
      "出问题的key: sess-ruBHsVOxY2EgZPRQjZGLCztqaAeBxan7zTwjharK\n"
     ]
    },
    {
     "name": "stderr",
     "output_type": "stream",
     "text": [
      "91it [12:34,  9.41s/it]"
     ]
    },
    {
     "name": "stdout",
     "output_type": "stream",
     "text": [
      "出问题的key: sess-gPGgdK6xzCjwfKZ8EscG44LgHHeeJv2llPIngo3z\n",
      "出问题的key: sess-ruBHsVOxY2EgZPRQjZGLCztqaAeBxan7zTwjharK\n"
     ]
    },
    {
     "name": "stderr",
     "output_type": "stream",
     "text": [
      "92it [12:42,  8.80s/it]"
     ]
    },
    {
     "name": "stdout",
     "output_type": "stream",
     "text": [
      "出问题的key: sess-gPGgdK6xzCjwfKZ8EscG44LgHHeeJv2llPIngo3z\n",
      "出问题的key: sess-ruBHsVOxY2EgZPRQjZGLCztqaAeBxan7zTwjharK\n"
     ]
    },
    {
     "name": "stderr",
     "output_type": "stream",
     "text": [
      "93it [12:51,  9.13s/it]"
     ]
    },
    {
     "name": "stdout",
     "output_type": "stream",
     "text": [
      "出问题的key: sess-gPGgdK6xzCjwfKZ8EscG44LgHHeeJv2llPIngo3z\n",
      "出问题的key: sess-ruBHsVOxY2EgZPRQjZGLCztqaAeBxan7zTwjharK\n"
     ]
    },
    {
     "name": "stderr",
     "output_type": "stream",
     "text": [
      "94it [12:59,  8.63s/it]"
     ]
    },
    {
     "name": "stdout",
     "output_type": "stream",
     "text": [
      "出问题的key: sess-gPGgdK6xzCjwfKZ8EscG44LgHHeeJv2llPIngo3z\n",
      "出问题的key: sess-ruBHsVOxY2EgZPRQjZGLCztqaAeBxan7zTwjharK\n"
     ]
    },
    {
     "name": "stderr",
     "output_type": "stream",
     "text": [
      "95it [13:12,  9.82s/it]"
     ]
    },
    {
     "name": "stdout",
     "output_type": "stream",
     "text": [
      "出问题的key: sess-gPGgdK6xzCjwfKZ8EscG44LgHHeeJv2llPIngo3z\n",
      "出问题的key: sess-ruBHsVOxY2EgZPRQjZGLCztqaAeBxan7zTwjharK\n"
     ]
    },
    {
     "name": "stderr",
     "output_type": "stream",
     "text": [
      "96it [13:19,  9.11s/it]"
     ]
    },
    {
     "name": "stdout",
     "output_type": "stream",
     "text": [
      "出问题的key: sess-gPGgdK6xzCjwfKZ8EscG44LgHHeeJv2llPIngo3z\n",
      "出问题的key: sess-ruBHsVOxY2EgZPRQjZGLCztqaAeBxan7zTwjharK\n"
     ]
    },
    {
     "name": "stderr",
     "output_type": "stream",
     "text": [
      "97it [13:29,  9.25s/it]"
     ]
    },
    {
     "name": "stdout",
     "output_type": "stream",
     "text": [
      "出问题的key: sess-gPGgdK6xzCjwfKZ8EscG44LgHHeeJv2llPIngo3z\n",
      "出问题的key: sess-ruBHsVOxY2EgZPRQjZGLCztqaAeBxan7zTwjharK\n"
     ]
    },
    {
     "name": "stderr",
     "output_type": "stream",
     "text": [
      "98it [13:38,  9.34s/it]"
     ]
    },
    {
     "name": "stdout",
     "output_type": "stream",
     "text": [
      "出问题的key: sess-gPGgdK6xzCjwfKZ8EscG44LgHHeeJv2llPIngo3z\n",
      "出问题的key: sess-ruBHsVOxY2EgZPRQjZGLCztqaAeBxan7zTwjharK\n"
     ]
    },
    {
     "name": "stderr",
     "output_type": "stream",
     "text": [
      "99it [13:45,  8.73s/it]"
     ]
    },
    {
     "name": "stdout",
     "output_type": "stream",
     "text": [
      "出问题的key: sess-gPGgdK6xzCjwfKZ8EscG44LgHHeeJv2llPIngo3z\n",
      "出问题的key: sess-ruBHsVOxY2EgZPRQjZGLCztqaAeBxan7zTwjharK\n"
     ]
    },
    {
     "name": "stderr",
     "output_type": "stream",
     "text": [
      "100it [13:55,  9.05s/it]"
     ]
    },
    {
     "name": "stdout",
     "output_type": "stream",
     "text": [
      "出问题的key: sess-gPGgdK6xzCjwfKZ8EscG44LgHHeeJv2llPIngo3z\n",
      "出问题的key: sess-ruBHsVOxY2EgZPRQjZGLCztqaAeBxan7zTwjharK\n",
      "达到每日200条限制的key： sess-uLBuIDSph40osgozARarK4xm2cRXeidKvTmrNRMo\n"
     ]
    },
    {
     "name": "stderr",
     "output_type": "stream",
     "text": [
      "101it [14:07,  9.97s/it]"
     ]
    },
    {
     "name": "stdout",
     "output_type": "stream",
     "text": [
      "出问题的key: sess-gPGgdK6xzCjwfKZ8EscG44LgHHeeJv2llPIngo3z\n",
      "出问题的key: sess-ruBHsVOxY2EgZPRQjZGLCztqaAeBxan7zTwjharK\n"
     ]
    },
    {
     "name": "stderr",
     "output_type": "stream",
     "text": [
      "102it [14:17,  9.99s/it]"
     ]
    },
    {
     "name": "stdout",
     "output_type": "stream",
     "text": [
      "出问题的key: sess-gPGgdK6xzCjwfKZ8EscG44LgHHeeJv2llPIngo3z\n",
      "出问题的key: sess-ruBHsVOxY2EgZPRQjZGLCztqaAeBxan7zTwjharK\n",
      "达到每日200条限制的key： sess-uLBuIDSph40osgozARarK4xm2cRXeidKvTmrNRMo\n"
     ]
    },
    {
     "name": "stderr",
     "output_type": "stream",
     "text": [
      "103it [14:29, 10.57s/it]"
     ]
    },
    {
     "name": "stdout",
     "output_type": "stream",
     "text": [
      "出问题的key: sess-gPGgdK6xzCjwfKZ8EscG44LgHHeeJv2llPIngo3z\n",
      "出问题的key: sess-ruBHsVOxY2EgZPRQjZGLCztqaAeBxan7zTwjharK\n"
     ]
    },
    {
     "name": "stderr",
     "output_type": "stream",
     "text": [
      "104it [14:40, 10.71s/it]"
     ]
    },
    {
     "name": "stdout",
     "output_type": "stream",
     "text": [
      "出问题的key: sess-gPGgdK6xzCjwfKZ8EscG44LgHHeeJv2llPIngo3z\n",
      "出问题的key: sess-ruBHsVOxY2EgZPRQjZGLCztqaAeBxan7zTwjharK\n",
      "达到每日200条限制的key： sess-uLBuIDSph40osgozARarK4xm2cRXeidKvTmrNRMo\n"
     ]
    },
    {
     "name": "stderr",
     "output_type": "stream",
     "text": [
      "105it [14:51, 10.58s/it]"
     ]
    },
    {
     "name": "stdout",
     "output_type": "stream",
     "text": [
      "出问题的key: sess-gPGgdK6xzCjwfKZ8EscG44LgHHeeJv2llPIngo3z\n",
      "出问题的key: sess-ruBHsVOxY2EgZPRQjZGLCztqaAeBxan7zTwjharK\n",
      "达到每日200条限制的key： sess-uLBuIDSph40osgozARarK4xm2cRXeidKvTmrNRMo\n"
     ]
    },
    {
     "name": "stderr",
     "output_type": "stream",
     "text": [
      "106it [15:03, 11.17s/it]"
     ]
    },
    {
     "name": "stdout",
     "output_type": "stream",
     "text": [
      "出问题的key: sess-gPGgdK6xzCjwfKZ8EscG44LgHHeeJv2llPIngo3z\n",
      "出问题的key: sess-ruBHsVOxY2EgZPRQjZGLCztqaAeBxan7zTwjharK\n"
     ]
    },
    {
     "name": "stderr",
     "output_type": "stream",
     "text": [
      "107it [15:14, 11.07s/it]"
     ]
    },
    {
     "name": "stdout",
     "output_type": "stream",
     "text": [
      "出问题的key: sess-gPGgdK6xzCjwfKZ8EscG44LgHHeeJv2llPIngo3z\n",
      "出问题的key: sess-ruBHsVOxY2EgZPRQjZGLCztqaAeBxan7zTwjharK\n",
      "达到每日200条限制的key： sess-uLBuIDSph40osgozARarK4xm2cRXeidKvTmrNRMo\n"
     ]
    },
    {
     "name": "stderr",
     "output_type": "stream",
     "text": [
      "108it [15:26, 11.37s/it]"
     ]
    },
    {
     "name": "stdout",
     "output_type": "stream",
     "text": [
      "出问题的key: sess-gPGgdK6xzCjwfKZ8EscG44LgHHeeJv2llPIngo3z\n",
      "出问题的key: sess-ruBHsVOxY2EgZPRQjZGLCztqaAeBxan7zTwjharK\n"
     ]
    },
    {
     "name": "stderr",
     "output_type": "stream",
     "text": [
      "109it [15:36, 11.05s/it]"
     ]
    },
    {
     "name": "stdout",
     "output_type": "stream",
     "text": [
      "出问题的key: sess-gPGgdK6xzCjwfKZ8EscG44LgHHeeJv2llPIngo3z\n",
      "出问题的key: sess-ruBHsVOxY2EgZPRQjZGLCztqaAeBxan7zTwjharK\n",
      "达到每日200条限制的key： sess-uLBuIDSph40osgozARarK4xm2cRXeidKvTmrNRMo\n"
     ]
    },
    {
     "name": "stderr",
     "output_type": "stream",
     "text": [
      "110it [15:49, 11.54s/it]"
     ]
    },
    {
     "name": "stdout",
     "output_type": "stream",
     "text": [
      "出问题的key: sess-gPGgdK6xzCjwfKZ8EscG44LgHHeeJv2llPIngo3z\n",
      "出问题的key: sess-ruBHsVOxY2EgZPRQjZGLCztqaAeBxan7zTwjharK\n"
     ]
    },
    {
     "name": "stderr",
     "output_type": "stream",
     "text": [
      "111it [15:59, 10.93s/it]"
     ]
    },
    {
     "name": "stdout",
     "output_type": "stream",
     "text": [
      "出问题的key: sess-gPGgdK6xzCjwfKZ8EscG44LgHHeeJv2llPIngo3z\n",
      "出问题的key: sess-ruBHsVOxY2EgZPRQjZGLCztqaAeBxan7zTwjharK\n",
      "达到每日200条限制的key： sess-uLBuIDSph40osgozARarK4xm2cRXeidKvTmrNRMo\n"
     ]
    },
    {
     "name": "stderr",
     "output_type": "stream",
     "text": [
      "112it [16:12, 11.55s/it]"
     ]
    },
    {
     "name": "stdout",
     "output_type": "stream",
     "text": [
      "出问题的key: sess-gPGgdK6xzCjwfKZ8EscG44LgHHeeJv2llPIngo3z\n",
      "出问题的key: sess-ruBHsVOxY2EgZPRQjZGLCztqaAeBxan7zTwjharK\n",
      "达到每日200条限制的key： sess-uLBuIDSph40osgozARarK4xm2cRXeidKvTmrNRMo\n"
     ]
    },
    {
     "name": "stderr",
     "output_type": "stream",
     "text": [
      "113it [16:22, 11.10s/it]"
     ]
    },
    {
     "name": "stdout",
     "output_type": "stream",
     "text": [
      "出问题的key: sess-gPGgdK6xzCjwfKZ8EscG44LgHHeeJv2llPIngo3z\n",
      "出问题的key: sess-ruBHsVOxY2EgZPRQjZGLCztqaAeBxan7zTwjharK\n"
     ]
    },
    {
     "name": "stderr",
     "output_type": "stream",
     "text": [
      "114it [16:32, 10.78s/it]"
     ]
    },
    {
     "name": "stdout",
     "output_type": "stream",
     "text": [
      "出问题的key: sess-gPGgdK6xzCjwfKZ8EscG44LgHHeeJv2llPIngo3z\n",
      "出问题的key: sess-ruBHsVOxY2EgZPRQjZGLCztqaAeBxan7zTwjharK\n",
      "达到每日200条限制的key： sess-uLBuIDSph40osgozARarK4xm2cRXeidKvTmrNRMo\n"
     ]
    },
    {
     "name": "stderr",
     "output_type": "stream",
     "text": [
      "115it [16:44, 11.33s/it]"
     ]
    },
    {
     "name": "stdout",
     "output_type": "stream",
     "text": [
      "出问题的key: sess-gPGgdK6xzCjwfKZ8EscG44LgHHeeJv2llPIngo3z\n",
      "出问题的key: sess-ruBHsVOxY2EgZPRQjZGLCztqaAeBxan7zTwjharK\n"
     ]
    },
    {
     "name": "stderr",
     "output_type": "stream",
     "text": [
      "116it [16:56, 11.37s/it]"
     ]
    },
    {
     "name": "stdout",
     "output_type": "stream",
     "text": [
      "出问题的key: sess-gPGgdK6xzCjwfKZ8EscG44LgHHeeJv2llPIngo3z\n",
      "出问题的key: sess-ruBHsVOxY2EgZPRQjZGLCztqaAeBxan7zTwjharK\n",
      "达到每日200条限制的key： sess-uLBuIDSph40osgozARarK4xm2cRXeidKvTmrNRMo\n"
     ]
    },
    {
     "name": "stderr",
     "output_type": "stream",
     "text": [
      "117it [17:08, 11.51s/it]"
     ]
    },
    {
     "name": "stdout",
     "output_type": "stream",
     "text": [
      "出问题的key: sess-gPGgdK6xzCjwfKZ8EscG44LgHHeeJv2llPIngo3z\n",
      "出问题的key: sess-ruBHsVOxY2EgZPRQjZGLCztqaAeBxan7zTwjharK\n"
     ]
    },
    {
     "name": "stderr",
     "output_type": "stream",
     "text": [
      "118it [17:18, 11.30s/it]"
     ]
    },
    {
     "name": "stdout",
     "output_type": "stream",
     "text": [
      "出问题的key: sess-gPGgdK6xzCjwfKZ8EscG44LgHHeeJv2llPIngo3z\n",
      "出问题的key: sess-ruBHsVOxY2EgZPRQjZGLCztqaAeBxan7zTwjharK\n"
     ]
    },
    {
     "name": "stderr",
     "output_type": "stream",
     "text": [
      "119it [17:27, 10.38s/it]"
     ]
    },
    {
     "name": "stdout",
     "output_type": "stream",
     "text": [
      "出问题的key: sess-gPGgdK6xzCjwfKZ8EscG44LgHHeeJv2llPIngo3z\n",
      "出问题的key: sess-ruBHsVOxY2EgZPRQjZGLCztqaAeBxan7zTwjharK\n"
     ]
    },
    {
     "name": "stderr",
     "output_type": "stream",
     "text": [
      "120it [17:37, 10.46s/it]"
     ]
    },
    {
     "name": "stdout",
     "output_type": "stream",
     "text": [
      "出问题的key: sess-gPGgdK6xzCjwfKZ8EscG44LgHHeeJv2llPIngo3z\n",
      "出问题的key: sess-ruBHsVOxY2EgZPRQjZGLCztqaAeBxan7zTwjharK\n",
      "达到每日200条限制的key： sess-uLBuIDSph40osgozARarK4xm2cRXeidKvTmrNRMo\n"
     ]
    },
    {
     "name": "stderr",
     "output_type": "stream",
     "text": [
      "121it [17:49, 10.80s/it]"
     ]
    },
    {
     "name": "stdout",
     "output_type": "stream",
     "text": [
      "出问题的key: sess-gPGgdK6xzCjwfKZ8EscG44LgHHeeJv2llPIngo3z\n",
      "出问题的key: sess-ruBHsVOxY2EgZPRQjZGLCztqaAeBxan7zTwjharK\n"
     ]
    },
    {
     "name": "stderr",
     "output_type": "stream",
     "text": [
      "122it [17:59, 10.47s/it]"
     ]
    },
    {
     "name": "stdout",
     "output_type": "stream",
     "text": [
      "出问题的key: sess-gPGgdK6xzCjwfKZ8EscG44LgHHeeJv2llPIngo3z\n",
      "出问题的key: sess-ruBHsVOxY2EgZPRQjZGLCztqaAeBxan7zTwjharK\n",
      "达到每日200条限制的key： sess-uLBuIDSph40osgozARarK4xm2cRXeidKvTmrNRMo\n"
     ]
    },
    {
     "name": "stderr",
     "output_type": "stream",
     "text": [
      "123it [18:11, 10.92s/it]"
     ]
    },
    {
     "name": "stdout",
     "output_type": "stream",
     "text": [
      "出问题的key: sess-gPGgdK6xzCjwfKZ8EscG44LgHHeeJv2llPIngo3z\n",
      "出问题的key: sess-ruBHsVOxY2EgZPRQjZGLCztqaAeBxan7zTwjharK\n",
      "达到每日200条限制的key： sess-uLBuIDSph40osgozARarK4xm2cRXeidKvTmrNRMo\n"
     ]
    },
    {
     "name": "stderr",
     "output_type": "stream",
     "text": [
      "124it [18:21, 10.88s/it]"
     ]
    },
    {
     "name": "stdout",
     "output_type": "stream",
     "text": [
      "出问题的key: sess-gPGgdK6xzCjwfKZ8EscG44LgHHeeJv2llPIngo3z\n",
      "出问题的key: sess-ruBHsVOxY2EgZPRQjZGLCztqaAeBxan7zTwjharK\n"
     ]
    },
    {
     "name": "stderr",
     "output_type": "stream",
     "text": [
      "125it [18:32, 10.82s/it]"
     ]
    },
    {
     "name": "stdout",
     "output_type": "stream",
     "text": [
      "出问题的key: sess-gPGgdK6xzCjwfKZ8EscG44LgHHeeJv2llPIngo3z\n",
      "出问题的key: sess-ruBHsVOxY2EgZPRQjZGLCztqaAeBxan7zTwjharK\n",
      "达到每日200条限制的key： sess-uLBuIDSph40osgozARarK4xm2cRXeidKvTmrNRMo\n"
     ]
    },
    {
     "name": "stderr",
     "output_type": "stream",
     "text": [
      "126it [18:45, 11.42s/it]"
     ]
    },
    {
     "name": "stdout",
     "output_type": "stream",
     "text": [
      "出问题的key: sess-gPGgdK6xzCjwfKZ8EscG44LgHHeeJv2llPIngo3z\n",
      "出问题的key: sess-ruBHsVOxY2EgZPRQjZGLCztqaAeBxan7zTwjharK\n"
     ]
    },
    {
     "name": "stderr",
     "output_type": "stream",
     "text": [
      "127it [18:55, 10.96s/it]"
     ]
    },
    {
     "name": "stdout",
     "output_type": "stream",
     "text": [
      "出问题的key: sess-gPGgdK6xzCjwfKZ8EscG44LgHHeeJv2llPIngo3z\n",
      "出问题的key: sess-ruBHsVOxY2EgZPRQjZGLCztqaAeBxan7zTwjharK\n",
      "达到每日200条限制的key： sess-uLBuIDSph40osgozARarK4xm2cRXeidKvTmrNRMo\n"
     ]
    },
    {
     "name": "stderr",
     "output_type": "stream",
     "text": [
      "128it [19:07, 11.36s/it]"
     ]
    },
    {
     "name": "stdout",
     "output_type": "stream",
     "text": [
      "出问题的key: sess-gPGgdK6xzCjwfKZ8EscG44LgHHeeJv2llPIngo3z\n",
      "出问题的key: sess-ruBHsVOxY2EgZPRQjZGLCztqaAeBxan7zTwjharK\n"
     ]
    },
    {
     "name": "stderr",
     "output_type": "stream",
     "text": [
      "129it [19:17, 10.91s/it]"
     ]
    },
    {
     "name": "stdout",
     "output_type": "stream",
     "text": [
      "出问题的key: sess-gPGgdK6xzCjwfKZ8EscG44LgHHeeJv2llPIngo3z\n",
      "出问题的key: sess-ruBHsVOxY2EgZPRQjZGLCztqaAeBxan7zTwjharK\n",
      "达到每日200条限制的key： sess-uLBuIDSph40osgozARarK4xm2cRXeidKvTmrNRMo\n"
     ]
    },
    {
     "name": "stderr",
     "output_type": "stream",
     "text": [
      "130it [19:29, 11.41s/it]"
     ]
    },
    {
     "name": "stdout",
     "output_type": "stream",
     "text": [
      "出问题的key: sess-gPGgdK6xzCjwfKZ8EscG44LgHHeeJv2llPIngo3z\n",
      "出问题的key: sess-ruBHsVOxY2EgZPRQjZGLCztqaAeBxan7zTwjharK\n"
     ]
    },
    {
     "name": "stderr",
     "output_type": "stream",
     "text": [
      "131it [19:39, 10.85s/it]"
     ]
    },
    {
     "name": "stdout",
     "output_type": "stream",
     "text": [
      "出问题的key: sess-gPGgdK6xzCjwfKZ8EscG44LgHHeeJv2llPIngo3z\n",
      "出问题的key: sess-ruBHsVOxY2EgZPRQjZGLCztqaAeBxan7zTwjharK\n",
      "达到每日200条限制的key： sess-uLBuIDSph40osgozARarK4xm2cRXeidKvTmrNRMo\n"
     ]
    },
    {
     "name": "stderr",
     "output_type": "stream",
     "text": [
      "132it [19:51, 11.22s/it]"
     ]
    },
    {
     "name": "stdout",
     "output_type": "stream",
     "text": [
      "出问题的key: sess-gPGgdK6xzCjwfKZ8EscG44LgHHeeJv2llPIngo3z\n",
      "出问题的key: sess-ruBHsVOxY2EgZPRQjZGLCztqaAeBxan7zTwjharK\n",
      "达到每日200条限制的key： sess-uLBuIDSph40osgozARarK4xm2cRXeidKvTmrNRMo\n"
     ]
    },
    {
     "name": "stderr",
     "output_type": "stream",
     "text": [
      "133it [20:01, 10.87s/it]"
     ]
    },
    {
     "name": "stdout",
     "output_type": "stream",
     "text": [
      "出问题的key: sess-gPGgdK6xzCjwfKZ8EscG44LgHHeeJv2llPIngo3z\n",
      "出问题的key: sess-ruBHsVOxY2EgZPRQjZGLCztqaAeBxan7zTwjharK\n"
     ]
    },
    {
     "name": "stderr",
     "output_type": "stream",
     "text": [
      "134it [20:13, 11.19s/it]"
     ]
    },
    {
     "name": "stdout",
     "output_type": "stream",
     "text": [
      "出问题的key: sess-gPGgdK6xzCjwfKZ8EscG44LgHHeeJv2llPIngo3z\n",
      "出问题的key: sess-ruBHsVOxY2EgZPRQjZGLCztqaAeBxan7zTwjharK\n",
      "达到每日200条限制的key： sess-uLBuIDSph40osgozARarK4xm2cRXeidKvTmrNRMo\n"
     ]
    },
    {
     "name": "stderr",
     "output_type": "stream",
     "text": [
      "135it [20:26, 11.71s/it]"
     ]
    },
    {
     "name": "stdout",
     "output_type": "stream",
     "text": [
      "出问题的key: sess-gPGgdK6xzCjwfKZ8EscG44LgHHeeJv2llPIngo3z\n",
      "出问题的key: sess-ruBHsVOxY2EgZPRQjZGLCztqaAeBxan7zTwjharK\n"
     ]
    },
    {
     "name": "stderr",
     "output_type": "stream",
     "text": [
      "136it [20:36, 11.17s/it]"
     ]
    },
    {
     "name": "stdout",
     "output_type": "stream",
     "text": [
      "出问题的key: sess-gPGgdK6xzCjwfKZ8EscG44LgHHeeJv2llPIngo3z\n",
      "出问题的key: sess-ruBHsVOxY2EgZPRQjZGLCztqaAeBxan7zTwjharK\n",
      "达到每日200条限制的key： sess-uLBuIDSph40osgozARarK4xm2cRXeidKvTmrNRMo\n"
     ]
    },
    {
     "name": "stderr",
     "output_type": "stream",
     "text": [
      "137it [20:48, 11.44s/it]"
     ]
    },
    {
     "name": "stdout",
     "output_type": "stream",
     "text": [
      "出问题的key: sess-gPGgdK6xzCjwfKZ8EscG44LgHHeeJv2llPIngo3z\n",
      "出问题的key: sess-ruBHsVOxY2EgZPRQjZGLCztqaAeBxan7zTwjharK\n"
     ]
    },
    {
     "name": "stderr",
     "output_type": "stream",
     "text": [
      "138it [20:58, 11.05s/it]"
     ]
    },
    {
     "name": "stdout",
     "output_type": "stream",
     "text": [
      "出问题的key: sess-gPGgdK6xzCjwfKZ8EscG44LgHHeeJv2llPIngo3z\n",
      "出问题的key: sess-ruBHsVOxY2EgZPRQjZGLCztqaAeBxan7zTwjharK\n",
      "达到每日200条限制的key： sess-uLBuIDSph40osgozARarK4xm2cRXeidKvTmrNRMo\n"
     ]
    },
    {
     "name": "stderr",
     "output_type": "stream",
     "text": [
      "139it [21:10, 11.38s/it]"
     ]
    },
    {
     "name": "stdout",
     "output_type": "stream",
     "text": [
      "出问题的key: sess-gPGgdK6xzCjwfKZ8EscG44LgHHeeJv2llPIngo3z\n",
      "出问题的key: sess-ruBHsVOxY2EgZPRQjZGLCztqaAeBxan7zTwjharK\n",
      "达到每日200条限制的key： sess-uLBuIDSph40osgozARarK4xm2cRXeidKvTmrNRMo\n"
     ]
    },
    {
     "name": "stderr",
     "output_type": "stream",
     "text": [
      "140it [21:20, 10.92s/it]"
     ]
    },
    {
     "name": "stdout",
     "output_type": "stream",
     "text": [
      "出问题的key: sess-gPGgdK6xzCjwfKZ8EscG44LgHHeeJv2llPIngo3z\n",
      "出问题的key: sess-ruBHsVOxY2EgZPRQjZGLCztqaAeBxan7zTwjharK\n"
     ]
    },
    {
     "name": "stderr",
     "output_type": "stream",
     "text": [
      "141it [21:30, 10.71s/it]"
     ]
    },
    {
     "name": "stdout",
     "output_type": "stream",
     "text": [
      "出问题的key: sess-gPGgdK6xzCjwfKZ8EscG44LgHHeeJv2llPIngo3z\n",
      "出问题的key: sess-ruBHsVOxY2EgZPRQjZGLCztqaAeBxan7zTwjharK\n",
      "达到每日200条限制的key： sess-uLBuIDSph40osgozARarK4xm2cRXeidKvTmrNRMo\n"
     ]
    },
    {
     "name": "stderr",
     "output_type": "stream",
     "text": [
      "142it [21:42, 11.04s/it]"
     ]
    },
    {
     "name": "stdout",
     "output_type": "stream",
     "text": [
      "出问题的key: sess-gPGgdK6xzCjwfKZ8EscG44LgHHeeJv2llPIngo3z\n",
      "出问题的key: sess-ruBHsVOxY2EgZPRQjZGLCztqaAeBxan7zTwjharK\n"
     ]
    },
    {
     "name": "stderr",
     "output_type": "stream",
     "text": [
      "143it [21:55, 11.57s/it]"
     ]
    },
    {
     "name": "stdout",
     "output_type": "stream",
     "text": [
      "出问题的key: sess-gPGgdK6xzCjwfKZ8EscG44LgHHeeJv2llPIngo3z\n",
      "出问题的key: sess-ruBHsVOxY2EgZPRQjZGLCztqaAeBxan7zTwjharK\n",
      "达到每日200条限制的key： sess-uLBuIDSph40osgozARarK4xm2cRXeidKvTmrNRMo\n"
     ]
    },
    {
     "name": "stderr",
     "output_type": "stream",
     "text": [
      "144it [22:08, 11.95s/it]"
     ]
    },
    {
     "name": "stdout",
     "output_type": "stream",
     "text": [
      "出问题的key: sess-gPGgdK6xzCjwfKZ8EscG44LgHHeeJv2llPIngo3z\n",
      "出问题的key: sess-ruBHsVOxY2EgZPRQjZGLCztqaAeBxan7zTwjharK\n"
     ]
    },
    {
     "name": "stderr",
     "output_type": "stream",
     "text": [
      "145it [22:18, 11.54s/it]"
     ]
    },
    {
     "name": "stdout",
     "output_type": "stream",
     "text": [
      "出问题的key: sess-gPGgdK6xzCjwfKZ8EscG44LgHHeeJv2llPIngo3z\n",
      "出问题的key: sess-ruBHsVOxY2EgZPRQjZGLCztqaAeBxan7zTwjharK\n",
      "达到每日200条限制的key： sess-uLBuIDSph40osgozARarK4xm2cRXeidKvTmrNRMo\n"
     ]
    },
    {
     "name": "stderr",
     "output_type": "stream",
     "text": [
      "146it [22:30, 11.65s/it]"
     ]
    },
    {
     "name": "stdout",
     "output_type": "stream",
     "text": [
      "出问题的key: sess-gPGgdK6xzCjwfKZ8EscG44LgHHeeJv2llPIngo3z\n",
      "出问题的key: sess-ruBHsVOxY2EgZPRQjZGLCztqaAeBxan7zTwjharK\n",
      "达到每日200条限制的key： sess-uLBuIDSph40osgozARarK4xm2cRXeidKvTmrNRMo\n"
     ]
    },
    {
     "name": "stderr",
     "output_type": "stream",
     "text": [
      "147it [22:40, 11.17s/it]"
     ]
    },
    {
     "name": "stdout",
     "output_type": "stream",
     "text": [
      "出问题的key: sess-gPGgdK6xzCjwfKZ8EscG44LgHHeeJv2llPIngo3z\n",
      "出问题的key: sess-ruBHsVOxY2EgZPRQjZGLCztqaAeBxan7zTwjharK\n"
     ]
    },
    {
     "name": "stderr",
     "output_type": "stream",
     "text": [
      "148it [22:50, 10.84s/it]"
     ]
    },
    {
     "name": "stdout",
     "output_type": "stream",
     "text": [
      "出问题的key: sess-gPGgdK6xzCjwfKZ8EscG44LgHHeeJv2llPIngo3z\n",
      "出问题的key: sess-ruBHsVOxY2EgZPRQjZGLCztqaAeBxan7zTwjharK\n",
      "达到每日200条限制的key： sess-uLBuIDSph40osgozARarK4xm2cRXeidKvTmrNRMo\n"
     ]
    },
    {
     "name": "stderr",
     "output_type": "stream",
     "text": [
      "149it [23:03, 11.24s/it]"
     ]
    },
    {
     "name": "stdout",
     "output_type": "stream",
     "text": [
      "出问题的key: sess-gPGgdK6xzCjwfKZ8EscG44LgHHeeJv2llPIngo3z\n",
      "出问题的key: sess-ruBHsVOxY2EgZPRQjZGLCztqaAeBxan7zTwjharK\n"
     ]
    },
    {
     "name": "stderr",
     "output_type": "stream",
     "text": [
      "150it [23:13, 11.03s/it]"
     ]
    },
    {
     "name": "stdout",
     "output_type": "stream",
     "text": [
      "出问题的key: sess-gPGgdK6xzCjwfKZ8EscG44LgHHeeJv2llPIngo3z\n",
      "出问题的key: sess-ruBHsVOxY2EgZPRQjZGLCztqaAeBxan7zTwjharK\n",
      "达到每日200条限制的key： sess-uLBuIDSph40osgozARarK4xm2cRXeidKvTmrNRMo\n"
     ]
    },
    {
     "name": "stderr",
     "output_type": "stream",
     "text": [
      "151it [23:26, 11.63s/it]"
     ]
    },
    {
     "name": "stdout",
     "output_type": "stream",
     "text": [
      "出问题的key: sess-gPGgdK6xzCjwfKZ8EscG44LgHHeeJv2llPIngo3z\n",
      "出问题的key: sess-ruBHsVOxY2EgZPRQjZGLCztqaAeBxan7zTwjharK\n"
     ]
    },
    {
     "name": "stderr",
     "output_type": "stream",
     "text": [
      "152it [23:38, 11.56s/it]"
     ]
    },
    {
     "name": "stdout",
     "output_type": "stream",
     "text": [
      "出问题的key: sess-gPGgdK6xzCjwfKZ8EscG44LgHHeeJv2llPIngo3z\n",
      "出问题的key: sess-ruBHsVOxY2EgZPRQjZGLCztqaAeBxan7zTwjharK\n",
      "达到每日200条限制的key： sess-uLBuIDSph40osgozARarK4xm2cRXeidKvTmrNRMo\n"
     ]
    },
    {
     "name": "stderr",
     "output_type": "stream",
     "text": [
      "153it [23:50, 11.86s/it]"
     ]
    },
    {
     "name": "stdout",
     "output_type": "stream",
     "text": [
      "出问题的key: sess-gPGgdK6xzCjwfKZ8EscG44LgHHeeJv2llPIngo3z\n",
      "出问题的key: sess-ruBHsVOxY2EgZPRQjZGLCztqaAeBxan7zTwjharK\n",
      "达到每日200条限制的key： sess-uLBuIDSph40osgozARarK4xm2cRXeidKvTmrNRMo\n"
     ]
    },
    {
     "name": "stderr",
     "output_type": "stream",
     "text": [
      "154it [24:00, 11.22s/it]"
     ]
    },
    {
     "name": "stdout",
     "output_type": "stream",
     "text": [
      "出问题的key: sess-gPGgdK6xzCjwfKZ8EscG44LgHHeeJv2llPIngo3z\n",
      "出问题的key: sess-ruBHsVOxY2EgZPRQjZGLCztqaAeBxan7zTwjharK\n"
     ]
    },
    {
     "name": "stderr",
     "output_type": "stream",
     "text": [
      "155it [24:09, 10.73s/it]"
     ]
    },
    {
     "name": "stdout",
     "output_type": "stream",
     "text": [
      "出问题的key: sess-gPGgdK6xzCjwfKZ8EscG44LgHHeeJv2llPIngo3z\n",
      "出问题的key: sess-ruBHsVOxY2EgZPRQjZGLCztqaAeBxan7zTwjharK\n"
     ]
    },
    {
     "name": "stderr",
     "output_type": "stream",
     "text": [
      "156it [24:21, 11.04s/it]"
     ]
    },
    {
     "name": "stdout",
     "output_type": "stream",
     "text": [
      "出问题的key: sess-gPGgdK6xzCjwfKZ8EscG44LgHHeeJv2llPIngo3z\n",
      "出问题的key: sess-ruBHsVOxY2EgZPRQjZGLCztqaAeBxan7zTwjharK\n",
      "达到每日200条限制的key： sess-uLBuIDSph40osgozARarK4xm2cRXeidKvTmrNRMo\n"
     ]
    },
    {
     "name": "stderr",
     "output_type": "stream",
     "text": [
      "157it [24:31, 10.70s/it]"
     ]
    },
    {
     "name": "stdout",
     "output_type": "stream",
     "text": [
      "出问题的key: sess-gPGgdK6xzCjwfKZ8EscG44LgHHeeJv2llPIngo3z\n",
      "出问题的key: sess-ruBHsVOxY2EgZPRQjZGLCztqaAeBxan7zTwjharK\n"
     ]
    },
    {
     "name": "stderr",
     "output_type": "stream",
     "text": [
      "158it [24:38,  9.71s/it]"
     ]
    },
    {
     "name": "stdout",
     "output_type": "stream",
     "text": [
      "出问题的key: sess-gPGgdK6xzCjwfKZ8EscG44LgHHeeJv2llPIngo3z\n",
      "出问题的key: sess-ruBHsVOxY2EgZPRQjZGLCztqaAeBxan7zTwjharK\n"
     ]
    },
    {
     "name": "stderr",
     "output_type": "stream",
     "text": [
      "159it [24:50, 10.34s/it]"
     ]
    },
    {
     "name": "stdout",
     "output_type": "stream",
     "text": [
      "出问题的key: sess-gPGgdK6xzCjwfKZ8EscG44LgHHeeJv2llPIngo3z\n",
      "出问题的key: sess-ruBHsVOxY2EgZPRQjZGLCztqaAeBxan7zTwjharK\n",
      "达到每日200条限制的key： sess-uLBuIDSph40osgozARarK4xm2cRXeidKvTmrNRMo\n"
     ]
    },
    {
     "name": "stderr",
     "output_type": "stream",
     "text": [
      "160it [25:00, 10.00s/it]"
     ]
    },
    {
     "name": "stdout",
     "output_type": "stream",
     "text": [
      "出问题的key: sess-gPGgdK6xzCjwfKZ8EscG44LgHHeeJv2llPIngo3z\n",
      "出问题的key: sess-ruBHsVOxY2EgZPRQjZGLCztqaAeBxan7zTwjharK\n"
     ]
    },
    {
     "name": "stderr",
     "output_type": "stream",
     "text": [
      "161it [25:09,  9.88s/it]"
     ]
    },
    {
     "name": "stdout",
     "output_type": "stream",
     "text": [
      "出问题的key: sess-gPGgdK6xzCjwfKZ8EscG44LgHHeeJv2llPIngo3z\n",
      "出问题的key: sess-ruBHsVOxY2EgZPRQjZGLCztqaAeBxan7zTwjharK\n"
     ]
    },
    {
     "name": "stderr",
     "output_type": "stream",
     "text": [
      "162it [25:21, 10.54s/it]"
     ]
    },
    {
     "name": "stdout",
     "output_type": "stream",
     "text": [
      "达到每日200条限制的key： sess-uLBuIDSph40osgozARarK4xm2cRXeidKvTmrNRMo\n"
     ]
    },
    {
     "name": "stderr",
     "output_type": "stream",
     "text": [
      "165it [25:41,  8.12s/it]"
     ]
    },
    {
     "name": "stdout",
     "output_type": "stream",
     "text": [
      "达到每日200条限制的key： sess-uLBuIDSph40osgozARarK4xm2cRXeidKvTmrNRMo\n"
     ]
    },
    {
     "name": "stderr",
     "output_type": "stream",
     "text": [
      "166it [25:50,  8.25s/it]"
     ]
    },
    {
     "name": "stdout",
     "output_type": "stream",
     "text": [
      "达到每日200条限制的key： sess-m1vvBQ2trxJuuKZfYGB3NPybVBeaMzBW1Rg9EPYw\n"
     ]
    },
    {
     "name": "stderr",
     "output_type": "stream",
     "text": [
      "169it [26:12,  7.89s/it]"
     ]
    },
    {
     "name": "stdout",
     "output_type": "stream",
     "text": [
      "达到每日200条限制的key： sess-m1vvBQ2trxJuuKZfYGB3NPybVBeaMzBW1Rg9EPYw\n"
     ]
    },
    {
     "name": "stderr",
     "output_type": "stream",
     "text": [
      "171it [26:26,  7.33s/it]"
     ]
    },
    {
     "name": "stdout",
     "output_type": "stream",
     "text": [
      "达到每日200条限制的key： sess-m1vvBQ2trxJuuKZfYGB3NPybVBeaMzBW1Rg9EPYw\n"
     ]
    },
    {
     "name": "stderr",
     "output_type": "stream",
     "text": [
      "174it [26:46,  6.69s/it]"
     ]
    },
    {
     "name": "stdout",
     "output_type": "stream",
     "text": [
      "达到每日200条限制的key： sess-m1vvBQ2trxJuuKZfYGB3NPybVBeaMzBW1Rg9EPYw\n"
     ]
    },
    {
     "name": "stderr",
     "output_type": "stream",
     "text": [
      "177it [27:10,  7.27s/it]"
     ]
    },
    {
     "name": "stdout",
     "output_type": "stream",
     "text": [
      "达到每日200条限制的key： sess-m1vvBQ2trxJuuKZfYGB3NPybVBeaMzBW1Rg9EPYw\n"
     ]
    },
    {
     "name": "stderr",
     "output_type": "stream",
     "text": [
      "180it [27:35,  8.18s/it]"
     ]
    },
    {
     "name": "stdout",
     "output_type": "stream",
     "text": [
      "达到每日200条限制的key： sess-m1vvBQ2trxJuuKZfYGB3NPybVBeaMzBW1Rg9EPYw\n"
     ]
    },
    {
     "name": "stderr",
     "output_type": "stream",
     "text": [
      "182it [27:49,  7.45s/it]"
     ]
    },
    {
     "name": "stdout",
     "output_type": "stream",
     "text": [
      "达到每日200条限制的key： sess-m1vvBQ2trxJuuKZfYGB3NPybVBeaMzBW1Rg9EPYw\n"
     ]
    },
    {
     "name": "stderr",
     "output_type": "stream",
     "text": [
      "185it [28:12,  7.49s/it]"
     ]
    },
    {
     "name": "stdout",
     "output_type": "stream",
     "text": [
      "达到每日200条限制的key： sess-m1vvBQ2trxJuuKZfYGB3NPybVBeaMzBW1Rg9EPYw\n"
     ]
    },
    {
     "name": "stderr",
     "output_type": "stream",
     "text": [
      "188it [28:34,  7.64s/it]"
     ]
    },
    {
     "name": "stdout",
     "output_type": "stream",
     "text": [
      "达到每日200条限制的key： sess-m1vvBQ2trxJuuKZfYGB3NPybVBeaMzBW1Rg9EPYw\n"
     ]
    },
    {
     "name": "stderr",
     "output_type": "stream",
     "text": [
      "190it [28:47,  6.89s/it]"
     ]
    },
    {
     "name": "stdout",
     "output_type": "stream",
     "text": [
      "达到每日200条限制的key： sess-m1vvBQ2trxJuuKZfYGB3NPybVBeaMzBW1Rg9EPYw\n"
     ]
    },
    {
     "name": "stderr",
     "output_type": "stream",
     "text": [
      "193it [29:10,  7.25s/it]"
     ]
    },
    {
     "name": "stdout",
     "output_type": "stream",
     "text": [
      "达到每日200条限制的key： sess-m1vvBQ2trxJuuKZfYGB3NPybVBeaMzBW1Rg9EPYw\n"
     ]
    },
    {
     "name": "stderr",
     "output_type": "stream",
     "text": [
      "195it [29:23,  9.04s/it]\n"
     ]
    }
   ],
   "source": [
    "prompt_id_list = [211,212]\n",
    "path_num = 5\n",
    "prompt_type = 1\n",
    "\"\"\n",
    " \n",
    "\n",
    "all_paths = get_all_paths(prompt_id_list=prompt_id_list,path_num=path_num,prompt_type=prompt_type)\n",
    "# res_paths = get_combined_paths(all_paths)"
   ]
  },
  {
   "cell_type": "code",
   "execution_count": null,
   "metadata": {},
   "outputs": [],
   "source": [
    "assert len(prompt_id_list) == 2\n",
    "ids = prompt_id_list[0] +prompt_id_list[1]\n",
    "\n",
    "temp_p = f'{Result_Folder}/{dataset}/temp-{format_time}-Type_{prompt_type}-{ids}-Num_{data_scale}-{path_num}.json'\n",
    "# temp_p = './jx_result/gsm8k/temp-1101_1812-Type_1-201-Num_266-5.json'\n",
    "write_json(res_paths,path=temp_p)"
   ]
  },
  {
   "cell_type": "markdown",
   "metadata": {},
   "source": [
    "## 使用chatGLM抽取答案"
   ]
  },
  {
   "cell_type": "code",
   "execution_count": 1,
   "metadata": {},
   "outputs": [
    {
     "data": {
      "text/plain": [
       "'PlanaSolution:1Identifythewordsinthegivenstring2Takethelastletterofeachword3ConcatenatethelastlettersSolvetheProblem:1Identifythewordsinthegivenstring:Lucky,Mireya,Jj,Kc2Takethelastletterofeachword:y,a,j,c3Concatenatethelastletters:yajc'"
      ]
     },
     "execution_count": 1,
     "metadata": {},
     "output_type": "execute_result"
    }
   ],
   "source": [
    "import re\n",
    "\n",
    "text = \"\\nPlan a Solution: \\n1. Identify the words in the given string. \\n2. Take the last letter of each word. \\n3. Concatenate the last letters. \\n\\nSolve the Problem: \\n1. Identify the words in the given string: \\\"Lucky\\\", \\\"Mireya\\\", \\\"Jj\\\", \\\"Kc\\\". \\n2. Take the last letter of each word: \\\"y\\\", \\\"a\\\", \\\"j\\\", \\\"c\\\". \\n3. Concatenate the last letters: \\\"yajc\\\".\"\n",
    "\n",
    "re.sub(\"\\\"|\\'|\\n|\\.|\\s\", \"\", text)"
   ]
  },
  {
   "cell_type": "code",
   "execution_count": 4,
   "metadata": {},
   "outputs": [
    {
     "data": {
      "text/plain": [
       "'xaqud'"
      ]
     },
     "execution_count": 4,
     "metadata": {},
     "output_type": "execute_result"
    }
   ],
   "source": [
    "text = \"The answer is xaqud\".split('The answer is')[-1]\n",
    "\n",
    "re.sub(\"\\\"|\\'|\\n|\\.|\\s\", \"\", text)"
   ]
  },
  {
   "cell_type": "markdown",
   "metadata": {},
   "source": [
    "### 准备数据"
   ]
  },
  {
   "cell_type": "code",
   "execution_count": null,
   "metadata": {},
   "outputs": [],
   "source": [
    "import json\n",
    "\n",
    "# temp_p = \"./jx_result/gsm8k/temp-1031_0933-Type_1-403-Num_100-5.json\"\n",
    "with open(temp_p,'r') as f:\n",
    "    data = json.load(f)\n",
    "len(data),data[0]"
   ]
  },
  {
   "cell_type": "markdown",
   "metadata": {},
   "source": [
    "### 抽取答案"
   ]
  },
  {
   "cell_type": "code",
   "execution_count": null,
   "metadata": {},
   "outputs": [],
   "source": [
    "def chatGLM(text,history):\n",
    "    res,history  = model.chat(tokenizer,text,history)\n",
    "#     print(res)\n",
    "    return res"
   ]
  },
  {
   "cell_type": "code",
   "execution_count": null,
   "metadata": {},
   "outputs": [],
   "source": [
    "\n",
    "\n",
    "\n",
    "\n",
    "induce = \"Please extract the answer from the text.\\n[Output]: The answer is xxx.\\n\"\n",
    "\n",
    "for item in data:\n",
    "    cots = item['paths']\n",
    "    ans = []\n",
    "    for cot in cots:\n",
    "        induce_prompt = induce + '[Text]:\\n' + cot\n",
    "        try:\n",
    "            res = chatGLM(induce_prompt,[])\n",
    "            ans.append(res)\n",
    "        except Exception as e:\n",
    "            print(e)\n",
    "    item['answers'] = ans    \n",
    "   "
   ]
  },
  {
   "cell_type": "code",
   "execution_count": null,
   "metadata": {},
   "outputs": [],
   "source": [
    "import re\n",
    "\n",
    "def extract_number(text:str):\n",
    "    pattern = r'(?<=answer\\s).*?(\\d+(?:\\.\\d+)?)'\n",
    "    match = re.search(pattern=pattern,string=text)\n",
    "    if match:\n",
    "        answer = float(match.group(1))\n",
    "    else:\n",
    "        answer = None\n",
    "    return answer\n",
    "\n",
    "\n",
    "def extract_answer(text: str):\n",
    "    \n",
    "    pattern_1 = r'\\d+(?:\\.\\d+)?'\n",
    "    # 尝试直接从cot中抽取答案\n",
    "    answer = extract_number(text)\n",
    "    # 如果抽不出来，则将其再次输入chatGLM-6b,得到新的text\n",
    "    if answer == None:\n",
    "        try:\n",
    "            induce_prompt = induce + '[Text]:\\n' + text\n",
    "            text = chatGLM(induce_prompt,[])\n",
    "            answer = extract_number(text)\n",
    "        except Exception as e:\n",
    "            print(e)\n",
    "    # 如果仍旧抽不出来，则区第一个出现的数字\n",
    "    if answer == None:    \n",
    "        match = re.search(pattern=pattern_1,string=text)\n",
    "        if match:\n",
    "            answer = float(match.group())\n",
    "            # print(\"Answer:\", answer)\n",
    "        else:\n",
    "            answer =None\n",
    "    return answer"
   ]
  },
  {
   "cell_type": "code",
   "execution_count": null,
   "metadata": {},
   "outputs": [],
   "source": [
    "from tqdm import  tqdm\n",
    "\n",
    "for i in tqdm(range(len(data))):\n",
    "    ans = []\n",
    "    answers = data[i]['answers']\n",
    "    for item in answers:\n",
    "        answer = extract_answer(item)\n",
    "        ans.append(answer)\n",
    "    data[i]['answers'] = ans\n",
    "# data"
   ]
  },
  {
   "cell_type": "code",
   "execution_count": null,
   "metadata": {},
   "outputs": [],
   "source": [
    "from utils import write_json\n",
    "\n",
    "prompt_id_list = [201,202]\n",
    "\n",
    "assert len(prompt_id_list) == 2\n",
    "ids = prompt_id_list[0] +prompt_id_list[1]\n",
    "\n",
    "res_p = f'{Result_Folder}/{dataset}/res-{format_time}-Type_{prompt_type}-{ids}-Num_{data_scale}-{path_num}.json'\n",
    "# res_p = \"./jx_result/gsm8k/res-1031_0933-Type_1-403-Num_100-5.json\"\n",
    "\n",
    "write_json(data,path=res_p)"
   ]
  },
  {
   "cell_type": "markdown",
   "metadata": {},
   "source": [
    "## 筛选器"
   ]
  },
  {
   "cell_type": "code",
   "execution_count": null,
   "metadata": {},
   "outputs": [],
   "source": [
    "import json\n",
    "\n",
    "with open(res_p,'r',encoding='utf-8') as f:\n",
    "    res_data = json.load(f)\n",
    "len(res_data),res_data[0]"
   ]
  },
  {
   "cell_type": "code",
   "execution_count": null,
   "metadata": {},
   "outputs": [],
   "source": [
    "from collections import Counter\n",
    "\n",
    "for item in res_data:\n",
    "    answers = item['answers']\n",
    "    jx = Counter(answers).most_common(1)[0][0]\n",
    "    item['pred_answer'] = jx\n",
    "\n",
    "data[0]\n",
    "    "
   ]
  },
  {
   "cell_type": "code",
   "execution_count": null,
   "metadata": {},
   "outputs": [],
   "source": [
    "c1 = 0\n",
    "c2 = 0\n",
    "for item in res_data:\n",
    "    pred = item['pred_answer']\n",
    "    gold = item['answer']\n",
    "    if pred:\n",
    "        if float(pred) == float(gold):\n",
    "            item['ans'] = True\n",
    "            c1 += 1\n",
    "        else:\n",
    "            item['ans'] = False\n",
    "            c2 += 1\n",
    "    else:\n",
    "        c2 += 1\n",
    "assert c1 + c2 == len(data)\n",
    "c1,c2"
   ]
  },
  {
   "cell_type": "code",
   "execution_count": null,
   "metadata": {},
   "outputs": [],
   "source": [
    "res_p"
   ]
  },
  {
   "cell_type": "code",
   "execution_count": null,
   "metadata": {},
   "outputs": [],
   "source": [
    "p = res_p.replace('res-','ses-')\n",
    "\n",
    "write_json(res_data,p)"
   ]
  },
  {
   "cell_type": "code",
   "execution_count": null,
   "metadata": {},
   "outputs": [],
   "source": [
    "1"
   ]
  },
  {
   "cell_type": "code",
   "execution_count": null,
   "metadata": {},
   "outputs": [],
   "source": []
  },
  {
   "cell_type": "markdown",
   "metadata": {},
   "source": [
    "## 测试数据集之间是否有重复"
   ]
  },
  {
   "cell_type": "code",
   "execution_count": null,
   "metadata": {},
   "outputs": [],
   "source": [
    "import json\n",
    "\n",
    "path = './raw_data/SVAMP/SVAMP.json'\n",
    "path_1 = \"./dataset/SVAMP/svamp_300_1.json\"\n",
    "p2 = \"./dataset/SVAMP/svamp_400.json\"\n",
    "p3 = \"./dataset/SVAMP/svamp_300_0.json\"\n",
    "data = []\n",
    "data_1 = []\n",
    "d2 = []\n",
    "d3 = []\n",
    "with open (path,'r') as f:\n",
    "    data = json.load(f)\n",
    "with open (path_1,'r') as f:\n",
    "    data_1 = json.load(f)\n",
    "with open (p2,'r') as f:\n",
    "    d2 = json.load(f)    \n",
    "with open (p3,'r') as f:\n",
    "    d3 = json.load(f)        \n",
    "len(data),len(data_1),len(d2),len(d3)"
   ]
  },
  {
   "cell_type": "code",
   "execution_count": null,
   "metadata": {},
   "outputs": [],
   "source": [
    "data[0]"
   ]
  },
  {
   "cell_type": "code",
   "execution_count": null,
   "metadata": {},
   "outputs": [],
   "source": [
    "q = [q['Question'] for q in data]\n",
    "q1 = [q['Question'] for q in data_1]\n",
    "q2 = [q['Question'] for q in d2]\n",
    "q3 = [q['Question'] for q in d3]"
   ]
  },
  {
   "cell_type": "code",
   "execution_count": null,
   "metadata": {},
   "outputs": [],
   "source": [
    "q == q3+q1+q2"
   ]
  },
  {
   "cell_type": "code",
   "execution_count": null,
   "metadata": {},
   "outputs": [],
   "source": [
    "from collections import Counter\n",
    "\n",
    "def find_duplicates(lst):\n",
    "    counter = Counter(lst)\n",
    "    duplicates = [element for element, count in counter.items() if count > 1]\n",
    "    return duplicates"
   ]
  },
  {
   "cell_type": "code",
   "execution_count": null,
   "metadata": {},
   "outputs": [],
   "source": [
    "a = find_duplicates(q)\n",
    "a1 = find_duplicates(q1)\n",
    "a2 = find_duplicates(q2)\n",
    "len(a),len(a1),len(a2)"
   ]
  },
  {
   "cell_type": "code",
   "execution_count": null,
   "metadata": {},
   "outputs": [],
   "source": [
    "s1 = set(q1)\n",
    "s2 = set(q2)\n",
    "s3 = set(q)\n",
    "# t1 = [1,1,2]\n",
    "t = set()\n",
    "len(s1),len(s2),len(s3)"
   ]
  },
  {
   "cell_type": "code",
   "execution_count": null,
   "metadata": {},
   "outputs": [],
   "source": [
    "# import json\n",
    "\n",
    "# path = './jx_result/gsm8k/1018_1021-Type_1-303-Num_100-0.json'\n",
    "\n",
    "# data = []\n",
    "# with open(path,'r') as f:\n",
    "#    for line in f:\n",
    "#         data.append(line)\n",
    "# len(data)\n",
    "\n",
    "# count = 0\n",
    "# pos = 0\n",
    "# neg = 0\n",
    "# for item in data:\n",
    "#     if \"\\\"ans\\\":\" in item:\n",
    "#         count+=1;\n",
    "#         if \"true\" in item:\n",
    "#             pos+=1\n",
    "#         else:\n",
    "#             neg+=1\n",
    "# assert count == pos + neg,\"统计错误\"\n",
    "# print(count,pos)\n",
    "# print(pos/count)"
   ]
  },
  {
   "cell_type": "code",
   "execution_count": null,
   "metadata": {},
   "outputs": [],
   "source": [
    "print('Brenda will have a total of $450 after 3 years. This can be calculated using the formula for simple interest: \\n\\nTotal Amount = Principal Amount + Interest Earned \\n\\nTotal Amount = 300 + (300 x 0.75 x 3) \\n\\nTotal Amount = 300 + 225 \\n\\nTotal Amount = $450')"
   ]
  },
  {
   "cell_type": "code",
   "execution_count": null,
   "metadata": {},
   "outputs": [],
   "source": [
    "(203+199+198)/900"
   ]
  },
  {
   "cell_type": "code",
   "execution_count": null,
   "metadata": {},
   "outputs": [],
   "source": [
    "(0.397+0.354+0.5)/3"
   ]
  },
  {
   "cell_type": "code",
   "execution_count": null,
   "metadata": {},
   "outputs": [],
   "source": [
    "(184+33)/300"
   ]
  },
  {
   "cell_type": "code",
   "execution_count": null,
   "metadata": {},
   "outputs": [],
   "source": [
    "199/300"
   ]
  },
  {
   "cell_type": "code",
   "execution_count": null,
   "metadata": {},
   "outputs": [],
   "source": [
    "import json \n",
    "f1 = []\n",
    "f2 = []\n",
    "with open('./jx_result/SVAMP/1103_1520-Type_1-201-Num_400-5.json','r',encoding='utf-8') as f11:\n",
    "    f1 = json.load(f11)\n",
    "with open('./jx_result/SVAMP/1106_1348-Type_1-202-Num_400-5.json','r',encoding='utf-8') as f22:\n",
    "    f2 = json.load(f22)    \n",
    "len(f1),len(f2)\n",
    "\n",
    "\n",
    "# In[5]:\n",
    "\n",
    "\n",
    "t1 = []\n",
    "t2 = []\n",
    "for i in range(len(f1)):\n",
    "    print(i)\n",
    "    temp1 = {}\n",
    "    temp2 = {}\n",
    "    q1 = f1[i]['question']\n",
    "    v1 = f1[i]['chain-of-thought']\n",
    "    temp1[q1] = v1\n",
    "    t1.append(temp1)\n",
    "    q2 = f2[i]['question']\n",
    "    v2 = f2[i]['chain-of-thought']\n",
    "    temp2[q2] = v2\n",
    "    t2.append(temp2)\n",
    "all_paths = []\n",
    "all_paths.append(t1)\n",
    "all_paths.append(t2)"
   ]
  }
 ],
 "metadata": {
  "kernelspec": {
   "display_name": "learn",
   "language": "python",
   "name": "python3"
  },
  "language_info": {
   "codemirror_mode": {
    "name": "ipython",
    "version": 3
   },
   "file_extension": ".py",
   "mimetype": "text/x-python",
   "name": "python",
   "nbconvert_exporter": "python",
   "pygments_lexer": "ipython3",
   "version": "3.7.0"
  }
 },
 "nbformat": 4,
 "nbformat_minor": 2
}
