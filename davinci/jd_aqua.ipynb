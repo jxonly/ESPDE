{
 "cells": [
  {
   "cell_type": "markdown",
   "metadata": {},
   "source": [
    "## 使用davinci-003推理"
   ]
  },
  {
   "cell_type": "code",
   "execution_count": 8,
   "metadata": {},
   "outputs": [
    {
     "name": "stdout",
     "output_type": "stream",
     "text": [
      "Wed Dec 27 20:43:55 2023       \n",
      "+---------------------------------------------------------------------------------------+\n",
      "| NVIDIA-SMI 537.32                 Driver Version: 537.32       CUDA Version: 12.2     |\n",
      "|-----------------------------------------+----------------------+----------------------+\n",
      "| GPU  Name                     TCC/WDDM  | Bus-Id        Disp.A | Volatile Uncorr. ECC |\n",
      "| Fan  Temp   Perf          Pwr:Usage/Cap |         Memory-Usage | GPU-Util  Compute M. |\n",
      "|                                         |                      |               MIG M. |\n",
      "|=========================================+======================+======================|\n",
      "|   0  NVIDIA GeForce RTX 4060 ...  WDDM  | 00000000:01:00.0  On |                  N/A |\n",
      "| N/A   37C    P8               5W /  80W |   1122MiB /  8188MiB |     25%      Default |\n",
      "|                                         |                      |                  N/A |\n",
      "+-----------------------------------------+----------------------+----------------------+\n",
      "                                                                                         \n",
      "+---------------------------------------------------------------------------------------+\n",
      "| Processes:                                                                            |\n",
      "|  GPU   GI   CI        PID   Type   Process name                            GPU Memory |\n",
      "|        ID   ID                                                             Usage      |\n",
      "|=======================================================================================|\n",
      "|    0   N/A  N/A      3472    C+G   ...am Files\\Microsoft VS Code\\Code.exe    N/A      |\n",
      "|    0   N/A  N/A      5848    C+G   ...12.0_x64__8wekyb3d8bbwe\\GameBar.exe    N/A      |\n",
      "|    0   N/A  N/A      6412    C+G   ...wekyb3d8bbwe\\XboxGameBarWidgets.exe    N/A      |\n",
      "|    0   N/A  N/A      9648    C+G   C:\\Windows\\explorer.exe                   N/A      |\n",
      "|    0   N/A  N/A     10032    C+G   ...siveControlPanel\\SystemSettings.exe    N/A      |\n",
      "|    0   N/A  N/A     12540    C+G   ...nt.CBS_cw5n1h2txyewy\\SearchHost.exe    N/A      |\n",
      "|    0   N/A  N/A     12564    C+G   ...2txyewy\\StartMenuExperienceHost.exe    N/A      |\n",
      "|    0   N/A  N/A     15668    C+G   ...CBS_cw5n1h2txyewy\\TextInputHost.exe    N/A      |\n",
      "|    0   N/A  N/A     16920    C+G   ...crosoft\\Edge\\Application\\msedge.exe    N/A      |\n",
      "|    0   N/A  N/A     17344    C+G   ...oogle\\Chrome\\Application\\chrome.exe    N/A      |\n",
      "|    0   N/A  N/A     18816    C+G   ....100\\native\\DesktopAssistantApp.exe    N/A      |\n",
      "|    0   N/A  N/A     19060    C+G   ...les\\Microsoft OneDrive\\OneDrive.exe    N/A      |\n",
      "|    0   N/A  N/A     22360    C+G   C:\\Windows\\explorer.exe                   N/A      |\n",
      "|    0   N/A  N/A     23140    C+G   ...1.0_x64__p7pnf6hceqser\\snipaste.exe    N/A      |\n",
      "|    0   N/A  N/A     23424    C+G   ...5n1h2txyewy\\ShellExperienceHost.exe    N/A      |\n",
      "|    0   N/A  N/A     24104    C+G   ...2.0_x64__w2gh52qy24etm\\Nahimic3.exe    N/A      |\n",
      "|    0   N/A  N/A     25624    C+G   ...9\\extracted\\runtime\\WeChatAppEx.exe    N/A      |\n",
      "|    0   N/A  N/A     31592    C+G   ...t.LockApp_cw5n1h2txyewy\\LockApp.exe    N/A      |\n",
      "+---------------------------------------------------------------------------------------+\n"
     ]
    }
   ],
   "source": [
    "!nvidia-smi"
   ]
  },
  {
   "cell_type": "code",
   "execution_count": 1,
   "metadata": {},
   "outputs": [],
   "source": [
    "import os\n",
    "# os.environ['HTTP_PROXY']=\"http://172.20.137.69:8001\"\n",
    "# os.environ['HTTPS_PROXY']=\"http://172.20.137.69:8001\"\n",
    "# os.environ['ALL_PROXY']=\"socks5://172.20.137.69:8000\"\n",
    "\n",
    "# os.environ[\"CUDA_VISIBLE_DEVICES\"] = \"0\""
   ]
  },
  {
   "cell_type": "code",
   "execution_count": 10,
   "metadata": {},
   "outputs": [],
   "source": [
    "# from transformers import AutoTokenizer, AutoModel\n",
    "\n",
    "# tokenizer = AutoTokenizer.from_pretrained(\"../models/chatglm_6b\",repo_type=\"model\", trust_remote_code=True)\n",
    "# model = AutoModel.from_pretrained(\"../models/chatglm_6b\",trust_remote_code=True).half().cuda()\n",
    "# model = model.eval()"
   ]
  },
  {
   "cell_type": "code",
   "execution_count": 2,
   "metadata": {},
   "outputs": [],
   "source": [
    "\n",
    "import logging\n",
    "from collections import Counter\n",
    "\n",
    "from utils import  load_data,getKey,write_json,mkpath\n",
    "\n",
    "Result_Folder = \"jx_result\"\n",
    "Err_Result_Folder = \"jx_err_result\"\n",
    "dataset = \"AQuA\"\n",
    "datapath = \"./dataset/AQuA/AQuA.json\""
   ]
  },
  {
   "cell_type": "code",
   "execution_count": 3,
   "metadata": {},
   "outputs": [
    {
     "name": "stdout",
     "output_type": "stream",
     "text": [
      "时间: 0105_0851\n"
     ]
    }
   ],
   "source": [
    "import datetime\n",
    "\n",
    "# 获取当前时间\n",
    "current_time = datetime.datetime.now()\n",
    "\n",
    "# 将时间格式化为文件夹名称的形式\n",
    "format_time = current_time.strftime(\"%m%d_%H%M\")\n",
    "\n",
    "print(\"时间:\", format_time)\n",
    "\n",
    "if not os.path.exists(Result_Folder):\n",
    "    mkpath(Result_Folder)\n",
    "if not os.path.exists(f\"{Result_Folder}/{dataset}\"):\n",
    "    mkpath(f'{Result_Folder}/{dataset}')\n",
    "if not os.path.exists(Err_Result_Folder):\n",
    "    mkpath(Err_Result_Folder)\n",
    "if not os.path.exists(f\"{Err_Result_Folder}/{dataset}\"):\n",
    "    mkpath(f'{Err_Result_Folder}/{dataset}')\n"
   ]
  },
  {
   "cell_type": "code",
   "execution_count": 4,
   "metadata": {},
   "outputs": [
    {
     "name": "stdout",
     "output_type": "stream",
     "text": [
      "./dataset/AQuA/AQuA.json\n",
      "问题个数：254\n",
      "答案个数：254\n"
     ]
    },
    {
     "data": {
      "text/plain": [
       "('A car is being driven, in a straight line and at a uniform speed, towards the base of a vertical tower. The top of the tower is observed from the car and, in the process, it takes 10 minutes for the angle of elevation to change from 45° to 60°. After how much more time will this car reach the base of the tower? Answer Choices: (A) 5 (√3 + 1)  (B) 6 (√3 + √2)  (C) 7 (√3 – 1)  (D) 8 (√3 – 2)  (E) None of these',\n",
       " 'A')"
      ]
     },
     "execution_count": 4,
     "metadata": {},
     "output_type": "execute_result"
    }
   ],
   "source": [
    "question, answer, ids = load_data(datapath,dataset)\n",
    "assert len(question) == len(answer), \"输入长度不一致\"\n",
    "assert len(question) == len(ids),\"输入长度不一致\"\n",
    "data_scale = len(answer)\n",
    "print(f\"问题个数：{len(question)}\")\n",
    "print(f\"答案个数：{len(answer)}\")\n",
    "\n",
    "question[0],answer[0]"
   ]
  },
  {
   "cell_type": "markdown",
   "metadata": {},
   "source": [
    "## 单条prompt"
   ]
  },
  {
   "cell_type": "markdown",
   "metadata": {},
   "source": [
    "### 两个list分别代表201和202的所有问题的cots;每个列表是n个字典，字典内包含cots"
   ]
  },
  {
   "cell_type": "code",
   "execution_count": 5,
   "metadata": {},
   "outputs": [],
   "source": [
    "from prepare_prompt import get_prompt,construct_input\n",
    "from prediction_runner import basic_runner\n",
    "from extracter import extract_answer,get_precision\n",
    "from tqdm import tqdm\n",
    "\n",
    "\n",
    "engine = \"text-davinci-003\"\n",
    "max_length_cot = 512\n",
    "key_index = 0\n",
    "correct = 0\n",
    "# error_count = 0\n",
    "\n",
    "\n",
    "def get_paths(prompt_id,prompt_type,path_num):\n",
    "    res = []\n",
    "    _, prompt = get_prompt(prompt_id=prompt_id,type=prompt_type)\n",
    "    # print(prompt)\n",
    "    Predict_File = f'{Result_Folder}/{dataset}/{format_time}-Type_{prompt_type}-{prompt_id}-Num_{data_scale}-{path_num}.json'\n",
    "    Decoder_Error_File = f'{Err_Result_Folder}/{dataset}/{format_time}-Type_{prompt_type}-{prompt_id}-{path_num}.json'\n",
    "    pred_list = []\n",
    "    for idx, element in tqdm(enumerate(question)):\n",
    "        inputs = construct_input(prompt, element)\n",
    "        try:\n",
    "            get_result, pred_list, error_msg = basic_runner(engine, inputs, max_length_cot, key_index,path_num)\n",
    "            res.append({element:pred_list})\n",
    "        except Exception as e:\n",
    "            print(\"没有获取到答案！\\n\")\n",
    "            # error_count += 1\n",
    "            decode_error_data = {\n",
    "                'question': question[idx],\n",
    "                'answer':answer[idx]\n",
    "            }\n",
    "            write_json(decode_error_data, Decoder_Error_File)\n",
    "            print(\n",
    "                f\"an error raised when predicting (question id: {ids[idx]}). \"\n",
    "                f\"ERROR: {getattr(e.__class__, '__name__')}:{str(e)}\"\n",
    "            )\n",
    "            continue   \n",
    "        # print(\"pred_list:\",pred_list)        \n",
    "        if not get_result:\n",
    "            print(\n",
    "                f\"not get predicted result (question id: {ids[idx]}).\"\n",
    "                f\"ERROR Message: {error_msg if error_msg else None}\"\n",
    "            )\n",
    "            continue\n",
    "        json_data = {\n",
    "                        \"ID\": ids[idx],\n",
    "                        \"question\": question[idx],\n",
    "                        \"chain-of-thought\": pred_list,\n",
    "                        # \"pred\": pred_answer,\n",
    "                        \"answer\": answer[idx],\n",
    "                        # \"ans\": ans\n",
    "                    }    \n",
    "        write_json(json_data, Predict_File)\n",
    "\n",
    "    return res"
   ]
  },
  {
   "cell_type": "code",
   "execution_count": 6,
   "metadata": {},
   "outputs": [],
   "source": [
    "def get_all_paths(prompt_id_list,path_num,prompt_type):\n",
    "    res = []\n",
    "    for id in prompt_id_list:\n",
    "        paths = get_paths(prompt_id=id,prompt_type=prompt_type,path_num=path_num)\n",
    "        res.append(paths)\n",
    "    return res\n",
    "\n",
    "def get_combined_paths(res_list:list):\n",
    "    result = []\n",
    "    assert len(res_list) == 2,\"prompt限制两条\"\n",
    "    paths_1 = res_list[0]\n",
    "    paths_2 = res_list[1]\n",
    "    # print(len(paths_1))\n",
    "    assert len(paths_1) == len(question) == len(paths_2),\"path个数和问题个数不匹配\"\n",
    "\n",
    "    for j in range(len(paths_1)):\n",
    "        for k,v in paths_1[j].items():\n",
    "            k1,v1 = k,v\n",
    "        for k,v in paths_2[j].items():\n",
    "            k2,v2 = k,v\n",
    "        # print('----------------')\n",
    "        # print(k1)\n",
    "        # print(k2)\n",
    "        # print(question[j])\n",
    "        # print('----------------')\n",
    "        assert k1 == k2 == question[j]\n",
    "        temp = {\n",
    "            \"question\" : k1,\n",
    "            \"paths\" : v1 + v2,\n",
    "            \"answer\" : answer[j]\n",
    "        }\n",
    "            \n",
    "        result.append(temp)\n",
    "    return result\n",
    "\n",
    "# test_a = [[{'a':[1]},{'b':[2]}],[{'a':[3]},{'b':[4]}]]\n",
    "# get_combined_paths(test_a)\n",
    "        "
   ]
  },
  {
   "cell_type": "code",
   "execution_count": 16,
   "metadata": {},
   "outputs": [],
   "source": [
    "# import json \n",
    "# f1 = []\n",
    "# f2 = []\n",
    "# with open('./jx_result/AQuA/1031_1954-Type_1-201-Num_77-5.json','r',encoding='utf-8') as f11:\n",
    "#     f1 = json.load(f11)\n",
    "# with open('./jx_result/AQuA/1031_1954-Type_1-202-Num_77-5.json','r',encoding='utf-8') as f22:\n",
    "#     f2 = json.load(f22)    \n",
    "# len(f1),len(f2)"
   ]
  },
  {
   "cell_type": "code",
   "execution_count": 17,
   "metadata": {},
   "outputs": [],
   "source": [
    "# f1[0]"
   ]
  },
  {
   "cell_type": "code",
   "execution_count": 18,
   "metadata": {},
   "outputs": [],
   "source": [
    "# t1 = []\n",
    "# t2 = []\n",
    "# for i in range(len(f1)):\n",
    "#     temp1 = {}\n",
    "#     temp2 = {}\n",
    "#     q1 = f1[i]['question']\n",
    "#     v1 = f1[i]['chain-of-thought']\n",
    "#     temp1[q1] = v1\n",
    "#     t1.append(temp1)\n",
    "#     q2 = f2[i]['question']\n",
    "#     v2 = f2[i]['chain-of-thought']\n",
    "#     temp2[q2] = v2\n",
    "#     t2.append(temp2)\n",
    "# all_paths = []\n",
    "# all_paths.append(t1)\n",
    "# all_paths.append(t2)"
   ]
  },
  {
   "cell_type": "code",
   "execution_count": 7,
   "metadata": {},
   "outputs": [
    {
     "name": "stderr",
     "output_type": "stream",
     "text": [
      "177it [20:27,  7.34s/it]"
     ]
    },
    {
     "name": "stdout",
     "output_type": "stream",
     "text": [
      "达到每日200条限制的key： sess-m1vvBQ2trxJuuKZfYGB3NPybVBeaMzBW1Rg9EPYw\n"
     ]
    },
    {
     "name": "stderr",
     "output_type": "stream",
     "text": [
      "179it [20:47,  8.63s/it]"
     ]
    },
    {
     "name": "stdout",
     "output_type": "stream",
     "text": [
      "达到每日200条限制的key： sess-m1vvBQ2trxJuuKZfYGB3NPybVBeaMzBW1Rg9EPYw\n"
     ]
    },
    {
     "name": "stderr",
     "output_type": "stream",
     "text": [
      "181it [21:01,  8.01s/it]"
     ]
    },
    {
     "name": "stdout",
     "output_type": "stream",
     "text": [
      "达到每日200条限制的key： sess-m1vvBQ2trxJuuKZfYGB3NPybVBeaMzBW1Rg9EPYw\n"
     ]
    },
    {
     "name": "stderr",
     "output_type": "stream",
     "text": [
      "184it [21:25,  7.90s/it]"
     ]
    },
    {
     "name": "stdout",
     "output_type": "stream",
     "text": [
      "达到每日200条限制的key： sess-m1vvBQ2trxJuuKZfYGB3NPybVBeaMzBW1Rg9EPYw\n"
     ]
    },
    {
     "name": "stderr",
     "output_type": "stream",
     "text": [
      "186it [21:42,  8.40s/it]"
     ]
    },
    {
     "name": "stdout",
     "output_type": "stream",
     "text": [
      "达到每日200条限制的key： sess-m1vvBQ2trxJuuKZfYGB3NPybVBeaMzBW1Rg9EPYw\n"
     ]
    },
    {
     "name": "stderr",
     "output_type": "stream",
     "text": [
      "189it [22:07,  8.42s/it]"
     ]
    },
    {
     "name": "stdout",
     "output_type": "stream",
     "text": [
      "达到每日200条限制的key： sess-m1vvBQ2trxJuuKZfYGB3NPybVBeaMzBW1Rg9EPYw\n"
     ]
    },
    {
     "name": "stderr",
     "output_type": "stream",
     "text": [
      "191it [22:24,  8.75s/it]"
     ]
    },
    {
     "name": "stdout",
     "output_type": "stream",
     "text": [
      "达到每日200条限制的key： sess-m1vvBQ2trxJuuKZfYGB3NPybVBeaMzBW1Rg9EPYw\n"
     ]
    },
    {
     "name": "stderr",
     "output_type": "stream",
     "text": [
      "193it [22:44,  9.46s/it]"
     ]
    },
    {
     "name": "stdout",
     "output_type": "stream",
     "text": [
      "达到每日200条限制的key： sess-m1vvBQ2trxJuuKZfYGB3NPybVBeaMzBW1Rg9EPYw\n"
     ]
    },
    {
     "name": "stderr",
     "output_type": "stream",
     "text": [
      "195it [23:04,  9.61s/it]"
     ]
    },
    {
     "name": "stdout",
     "output_type": "stream",
     "text": [
      "达到每日200条限制的key： sess-m1vvBQ2trxJuuKZfYGB3NPybVBeaMzBW1Rg9EPYw\n"
     ]
    },
    {
     "name": "stderr",
     "output_type": "stream",
     "text": [
      "198it [23:25,  7.84s/it]"
     ]
    },
    {
     "name": "stdout",
     "output_type": "stream",
     "text": [
      "达到每日200条限制的key： sess-m1vvBQ2trxJuuKZfYGB3NPybVBeaMzBW1Rg9EPYw\n"
     ]
    },
    {
     "name": "stderr",
     "output_type": "stream",
     "text": [
      "200it [23:44,  8.66s/it]"
     ]
    },
    {
     "name": "stdout",
     "output_type": "stream",
     "text": [
      "达到每日200条限制的key： sess-m1vvBQ2trxJuuKZfYGB3NPybVBeaMzBW1Rg9EPYw\n"
     ]
    },
    {
     "name": "stderr",
     "output_type": "stream",
     "text": [
      "202it [24:05,  9.42s/it]"
     ]
    },
    {
     "name": "stdout",
     "output_type": "stream",
     "text": [
      "达到每日200条限制的key： sess-m1vvBQ2trxJuuKZfYGB3NPybVBeaMzBW1Rg9EPYw\n"
     ]
    },
    {
     "name": "stderr",
     "output_type": "stream",
     "text": [
      "204it [24:24,  9.57s/it]"
     ]
    },
    {
     "name": "stdout",
     "output_type": "stream",
     "text": [
      "达到每日200条限制的key： sess-m1vvBQ2trxJuuKZfYGB3NPybVBeaMzBW1Rg9EPYw\n"
     ]
    },
    {
     "name": "stderr",
     "output_type": "stream",
     "text": [
      "206it [24:42,  9.49s/it]"
     ]
    },
    {
     "name": "stdout",
     "output_type": "stream",
     "text": [
      "达到每日200条限制的key： sess-m1vvBQ2trxJuuKZfYGB3NPybVBeaMzBW1Rg9EPYw\n"
     ]
    },
    {
     "name": "stderr",
     "output_type": "stream",
     "text": [
      "209it [25:07,  8.86s/it]"
     ]
    },
    {
     "name": "stdout",
     "output_type": "stream",
     "text": [
      "达到每日200条限制的key： sess-m1vvBQ2trxJuuKZfYGB3NPybVBeaMzBW1Rg9EPYw\n"
     ]
    },
    {
     "name": "stderr",
     "output_type": "stream",
     "text": [
      "211it [25:22,  8.28s/it]"
     ]
    },
    {
     "name": "stdout",
     "output_type": "stream",
     "text": [
      "达到每日200条限制的key： sess-m1vvBQ2trxJuuKZfYGB3NPybVBeaMzBW1Rg9EPYw\n"
     ]
    },
    {
     "name": "stderr",
     "output_type": "stream",
     "text": [
      "213it [25:43,  9.63s/it]"
     ]
    },
    {
     "name": "stdout",
     "output_type": "stream",
     "text": [
      "达到每日200条限制的key： sess-m1vvBQ2trxJuuKZfYGB3NPybVBeaMzBW1Rg9EPYw\n"
     ]
    },
    {
     "name": "stderr",
     "output_type": "stream",
     "text": [
      "216it [26:07,  8.59s/it]"
     ]
    },
    {
     "name": "stdout",
     "output_type": "stream",
     "text": [
      "达到每日200条限制的key： sess-m1vvBQ2trxJuuKZfYGB3NPybVBeaMzBW1Rg9EPYw\n"
     ]
    },
    {
     "name": "stderr",
     "output_type": "stream",
     "text": [
      "218it [26:31, 10.75s/it]"
     ]
    },
    {
     "name": "stdout",
     "output_type": "stream",
     "text": [
      "达到每日200条限制的key： sess-m1vvBQ2trxJuuKZfYGB3NPybVBeaMzBW1Rg9EPYw\n"
     ]
    },
    {
     "name": "stderr",
     "output_type": "stream",
     "text": [
      "220it [26:49,  9.76s/it]"
     ]
    },
    {
     "name": "stdout",
     "output_type": "stream",
     "text": [
      "达到每日200条限制的key： sess-m1vvBQ2trxJuuKZfYGB3NPybVBeaMzBW1Rg9EPYw\n"
     ]
    },
    {
     "name": "stderr",
     "output_type": "stream",
     "text": [
      "222it [27:06,  9.27s/it]"
     ]
    },
    {
     "name": "stdout",
     "output_type": "stream",
     "text": [
      "达到每日200条限制的key： sess-m1vvBQ2trxJuuKZfYGB3NPybVBeaMzBW1Rg9EPYw\n"
     ]
    },
    {
     "name": "stderr",
     "output_type": "stream",
     "text": [
      "224it [27:23,  8.95s/it]"
     ]
    },
    {
     "name": "stdout",
     "output_type": "stream",
     "text": [
      "达到每日200条限制的key： sess-m1vvBQ2trxJuuKZfYGB3NPybVBeaMzBW1Rg9EPYw\n"
     ]
    },
    {
     "name": "stderr",
     "output_type": "stream",
     "text": [
      "226it [27:43,  9.47s/it]"
     ]
    },
    {
     "name": "stdout",
     "output_type": "stream",
     "text": [
      "达到每日200条限制的key： sess-m1vvBQ2trxJuuKZfYGB3NPybVBeaMzBW1Rg9EPYw\n"
     ]
    },
    {
     "name": "stderr",
     "output_type": "stream",
     "text": [
      "228it [28:02,  9.83s/it]"
     ]
    },
    {
     "name": "stdout",
     "output_type": "stream",
     "text": [
      "达到每日200条限制的key： sess-m1vvBQ2trxJuuKZfYGB3NPybVBeaMzBW1Rg9EPYw\n"
     ]
    },
    {
     "name": "stderr",
     "output_type": "stream",
     "text": [
      "231it [28:27,  8.95s/it]"
     ]
    },
    {
     "name": "stdout",
     "output_type": "stream",
     "text": [
      "达到每日200条限制的key： sess-m1vvBQ2trxJuuKZfYGB3NPybVBeaMzBW1Rg9EPYw\n"
     ]
    },
    {
     "name": "stderr",
     "output_type": "stream",
     "text": [
      "233it [28:42,  8.61s/it]"
     ]
    },
    {
     "name": "stdout",
     "output_type": "stream",
     "text": [
      "达到每日200条限制的key： sess-m1vvBQ2trxJuuKZfYGB3NPybVBeaMzBW1Rg9EPYw\n"
     ]
    },
    {
     "name": "stderr",
     "output_type": "stream",
     "text": [
      "234it [28:48,  7.79s/it]"
     ]
    },
    {
     "name": "stdout",
     "output_type": "stream",
     "text": [
      "出问题的key: sess-O0mv3s6yTcpx8GluWaCOHKLeEKJBWJ4VDmw5Ew5d\n"
     ]
    },
    {
     "name": "stderr",
     "output_type": "stream",
     "text": [
      "235it [28:59,  8.71s/it]"
     ]
    },
    {
     "name": "stdout",
     "output_type": "stream",
     "text": [
      "出问题的key: sess-O0mv3s6yTcpx8GluWaCOHKLeEKJBWJ4VDmw5Ew5d\n"
     ]
    },
    {
     "name": "stderr",
     "output_type": "stream",
     "text": [
      "236it [29:09,  9.03s/it]"
     ]
    },
    {
     "name": "stdout",
     "output_type": "stream",
     "text": [
      "出问题的key: sess-m1vvBQ2trxJuuKZfYGB3NPybVBeaMzBW1Rg9EPYw\n"
     ]
    },
    {
     "name": "stderr",
     "output_type": "stream",
     "text": [
      "237it [29:17,  8.73s/it]"
     ]
    },
    {
     "name": "stdout",
     "output_type": "stream",
     "text": [
      "出问题的key: sess-m1vvBQ2trxJuuKZfYGB3NPybVBeaMzBW1Rg9EPYw\n",
      "出问题的key: sess-O0mv3s6yTcpx8GluWaCOHKLeEKJBWJ4VDmw5Ew5d\n"
     ]
    },
    {
     "name": "stderr",
     "output_type": "stream",
     "text": [
      "238it [29:29,  9.74s/it]"
     ]
    },
    {
     "name": "stdout",
     "output_type": "stream",
     "text": [
      "出问题的key: sess-m1vvBQ2trxJuuKZfYGB3NPybVBeaMzBW1Rg9EPYw\n"
     ]
    },
    {
     "name": "stderr",
     "output_type": "stream",
     "text": [
      "239it [29:35,  8.60s/it]"
     ]
    },
    {
     "name": "stdout",
     "output_type": "stream",
     "text": [
      "出问题的key: sess-m1vvBQ2trxJuuKZfYGB3NPybVBeaMzBW1Rg9EPYw\n",
      "出问题的key: sess-O0mv3s6yTcpx8GluWaCOHKLeEKJBWJ4VDmw5Ew5d\n"
     ]
    },
    {
     "name": "stderr",
     "output_type": "stream",
     "text": [
      "240it [29:53, 11.34s/it]"
     ]
    },
    {
     "name": "stdout",
     "output_type": "stream",
     "text": [
      "出问题的key: sess-m1vvBQ2trxJuuKZfYGB3NPybVBeaMzBW1Rg9EPYw\n"
     ]
    },
    {
     "name": "stderr",
     "output_type": "stream",
     "text": [
      "241it [29:59,  9.82s/it]"
     ]
    },
    {
     "name": "stdout",
     "output_type": "stream",
     "text": [
      "出问题的key: sess-m1vvBQ2trxJuuKZfYGB3NPybVBeaMzBW1Rg9EPYw\n",
      "出问题的key: sess-O0mv3s6yTcpx8GluWaCOHKLeEKJBWJ4VDmw5Ew5d\n"
     ]
    },
    {
     "name": "stderr",
     "output_type": "stream",
     "text": [
      "242it [30:17, 12.40s/it]"
     ]
    },
    {
     "name": "stdout",
     "output_type": "stream",
     "text": [
      "出问题的key: sess-m1vvBQ2trxJuuKZfYGB3NPybVBeaMzBW1Rg9EPYw\n"
     ]
    },
    {
     "name": "stderr",
     "output_type": "stream",
     "text": [
      "243it [30:28, 11.88s/it]"
     ]
    },
    {
     "name": "stdout",
     "output_type": "stream",
     "text": [
      "出问题的key: sess-m1vvBQ2trxJuuKZfYGB3NPybVBeaMzBW1Rg9EPYw\n"
     ]
    },
    {
     "name": "stderr",
     "output_type": "stream",
     "text": [
      "244it [30:34, 10.01s/it]"
     ]
    },
    {
     "name": "stdout",
     "output_type": "stream",
     "text": [
      "出问题的key: sess-m1vvBQ2trxJuuKZfYGB3NPybVBeaMzBW1Rg9EPYw\n",
      "出问题的key: sess-O0mv3s6yTcpx8GluWaCOHKLeEKJBWJ4VDmw5Ew5d\n"
     ]
    },
    {
     "name": "stderr",
     "output_type": "stream",
     "text": [
      "245it [30:46, 10.78s/it]"
     ]
    },
    {
     "name": "stdout",
     "output_type": "stream",
     "text": [
      "出问题的key: sess-m1vvBQ2trxJuuKZfYGB3NPybVBeaMzBW1Rg9EPYw\n"
     ]
    },
    {
     "name": "stderr",
     "output_type": "stream",
     "text": [
      "246it [30:53,  9.55s/it]"
     ]
    },
    {
     "name": "stdout",
     "output_type": "stream",
     "text": [
      "出问题的key: sess-m1vvBQ2trxJuuKZfYGB3NPybVBeaMzBW1Rg9EPYw\n",
      "出问题的key: sess-O0mv3s6yTcpx8GluWaCOHKLeEKJBWJ4VDmw5Ew5d\n"
     ]
    },
    {
     "name": "stderr",
     "output_type": "stream",
     "text": [
      "247it [31:08, 11.21s/it]"
     ]
    },
    {
     "name": "stdout",
     "output_type": "stream",
     "text": [
      "出问题的key: sess-m1vvBQ2trxJuuKZfYGB3NPybVBeaMzBW1Rg9EPYw\n"
     ]
    },
    {
     "name": "stderr",
     "output_type": "stream",
     "text": [
      "248it [31:14,  9.53s/it]"
     ]
    },
    {
     "name": "stdout",
     "output_type": "stream",
     "text": [
      "出问题的key: sess-m1vvBQ2trxJuuKZfYGB3NPybVBeaMzBW1Rg9EPYw\n",
      "出问题的key: sess-O0mv3s6yTcpx8GluWaCOHKLeEKJBWJ4VDmw5Ew5d\n"
     ]
    },
    {
     "name": "stderr",
     "output_type": "stream",
     "text": [
      "249it [31:29, 11.20s/it]"
     ]
    },
    {
     "name": "stdout",
     "output_type": "stream",
     "text": [
      "出问题的key: sess-m1vvBQ2trxJuuKZfYGB3NPybVBeaMzBW1Rg9EPYw\n"
     ]
    },
    {
     "name": "stderr",
     "output_type": "stream",
     "text": [
      "250it [31:35,  9.61s/it]"
     ]
    },
    {
     "name": "stdout",
     "output_type": "stream",
     "text": [
      "出问题的key: sess-m1vvBQ2trxJuuKZfYGB3NPybVBeaMzBW1Rg9EPYw\n",
      "出问题的key: sess-O0mv3s6yTcpx8GluWaCOHKLeEKJBWJ4VDmw5Ew5d\n"
     ]
    },
    {
     "name": "stderr",
     "output_type": "stream",
     "text": [
      "251it [31:44,  9.64s/it]"
     ]
    },
    {
     "name": "stdout",
     "output_type": "stream",
     "text": [
      "出问题的key: sess-m1vvBQ2trxJuuKZfYGB3NPybVBeaMzBW1Rg9EPYw\n"
     ]
    },
    {
     "name": "stderr",
     "output_type": "stream",
     "text": [
      "252it [31:51,  8.68s/it]"
     ]
    },
    {
     "name": "stdout",
     "output_type": "stream",
     "text": [
      "出问题的key: sess-m1vvBQ2trxJuuKZfYGB3NPybVBeaMzBW1Rg9EPYw\n",
      "出问题的key: sess-O0mv3s6yTcpx8GluWaCOHKLeEKJBWJ4VDmw5Ew5d\n"
     ]
    },
    {
     "name": "stderr",
     "output_type": "stream",
     "text": [
      "253it [32:02,  9.37s/it]"
     ]
    },
    {
     "name": "stdout",
     "output_type": "stream",
     "text": [
      "出问题的key: sess-m1vvBQ2trxJuuKZfYGB3NPybVBeaMzBW1Rg9EPYw\n"
     ]
    },
    {
     "name": "stderr",
     "output_type": "stream",
     "text": [
      "254it [32:07,  7.59s/it]\n",
      "0it [00:00, ?it/s]"
     ]
    },
    {
     "name": "stdout",
     "output_type": "stream",
     "text": [
      "出问题的key: sess-m1vvBQ2trxJuuKZfYGB3NPybVBeaMzBW1Rg9EPYw\n",
      "出问题的key: sess-O0mv3s6yTcpx8GluWaCOHKLeEKJBWJ4VDmw5Ew5d\n"
     ]
    },
    {
     "name": "stderr",
     "output_type": "stream",
     "text": [
      "1it [00:11, 11.36s/it]"
     ]
    },
    {
     "name": "stdout",
     "output_type": "stream",
     "text": [
      "出问题的key: sess-m1vvBQ2trxJuuKZfYGB3NPybVBeaMzBW1Rg9EPYw\n",
      "出问题的key: sess-O0mv3s6yTcpx8GluWaCOHKLeEKJBWJ4VDmw5Ew5d\n"
     ]
    },
    {
     "name": "stderr",
     "output_type": "stream",
     "text": [
      "2it [00:25, 12.71s/it]"
     ]
    },
    {
     "name": "stdout",
     "output_type": "stream",
     "text": [
      "出问题的key: sess-m1vvBQ2trxJuuKZfYGB3NPybVBeaMzBW1Rg9EPYw\n"
     ]
    },
    {
     "name": "stderr",
     "output_type": "stream",
     "text": [
      "3it [00:33, 10.99s/it]"
     ]
    },
    {
     "name": "stdout",
     "output_type": "stream",
     "text": [
      "出问题的key: sess-m1vvBQ2trxJuuKZfYGB3NPybVBeaMzBW1Rg9EPYw\n"
     ]
    },
    {
     "name": "stderr",
     "output_type": "stream",
     "text": [
      "4it [00:39,  8.95s/it]"
     ]
    },
    {
     "name": "stdout",
     "output_type": "stream",
     "text": [
      "出问题的key: sess-m1vvBQ2trxJuuKZfYGB3NPybVBeaMzBW1Rg9EPYw\n",
      "出问题的key: sess-O0mv3s6yTcpx8GluWaCOHKLeEKJBWJ4VDmw5Ew5d\n"
     ]
    },
    {
     "name": "stderr",
     "output_type": "stream",
     "text": [
      "5it [00:50,  9.42s/it]"
     ]
    },
    {
     "name": "stdout",
     "output_type": "stream",
     "text": [
      "出问题的key: sess-m1vvBQ2trxJuuKZfYGB3NPybVBeaMzBW1Rg9EPYw\n",
      "出问题的key: sess-O0mv3s6yTcpx8GluWaCOHKLeEKJBWJ4VDmw5Ew5d\n"
     ]
    },
    {
     "name": "stderr",
     "output_type": "stream",
     "text": [
      "6it [01:02, 10.35s/it]"
     ]
    },
    {
     "name": "stdout",
     "output_type": "stream",
     "text": [
      "出问题的key: sess-m1vvBQ2trxJuuKZfYGB3NPybVBeaMzBW1Rg9EPYw\n"
     ]
    },
    {
     "name": "stderr",
     "output_type": "stream",
     "text": [
      "7it [01:09,  9.50s/it]"
     ]
    },
    {
     "name": "stdout",
     "output_type": "stream",
     "text": [
      "出问题的key: sess-m1vvBQ2trxJuuKZfYGB3NPybVBeaMzBW1Rg9EPYw\n",
      "出问题的key: sess-O0mv3s6yTcpx8GluWaCOHKLeEKJBWJ4VDmw5Ew5d\n"
     ]
    },
    {
     "name": "stderr",
     "output_type": "stream",
     "text": [
      "8it [01:21, 10.10s/it]"
     ]
    },
    {
     "name": "stdout",
     "output_type": "stream",
     "text": [
      "出问题的key: sess-m1vvBQ2trxJuuKZfYGB3NPybVBeaMzBW1Rg9EPYw\n"
     ]
    },
    {
     "name": "stderr",
     "output_type": "stream",
     "text": [
      "9it [01:29,  9.47s/it]"
     ]
    },
    {
     "name": "stdout",
     "output_type": "stream",
     "text": [
      "出问题的key: sess-m1vvBQ2trxJuuKZfYGB3NPybVBeaMzBW1Rg9EPYw\n",
      "出问题的key: sess-O0mv3s6yTcpx8GluWaCOHKLeEKJBWJ4VDmw5Ew5d\n"
     ]
    },
    {
     "name": "stderr",
     "output_type": "stream",
     "text": [
      "10it [01:39,  9.67s/it]"
     ]
    },
    {
     "name": "stdout",
     "output_type": "stream",
     "text": [
      "出问题的key: sess-m1vvBQ2trxJuuKZfYGB3NPybVBeaMzBW1Rg9EPYw\n"
     ]
    },
    {
     "name": "stderr",
     "output_type": "stream",
     "text": [
      "11it [01:46,  8.93s/it]"
     ]
    },
    {
     "name": "stdout",
     "output_type": "stream",
     "text": [
      "出问题的key: sess-m1vvBQ2trxJuuKZfYGB3NPybVBeaMzBW1Rg9EPYw\n",
      "出问题的key: sess-O0mv3s6yTcpx8GluWaCOHKLeEKJBWJ4VDmw5Ew5d\n"
     ]
    },
    {
     "name": "stderr",
     "output_type": "stream",
     "text": [
      "12it [02:01, 10.76s/it]"
     ]
    },
    {
     "name": "stdout",
     "output_type": "stream",
     "text": [
      "出问题的key: sess-m1vvBQ2trxJuuKZfYGB3NPybVBeaMzBW1Rg9EPYw\n"
     ]
    },
    {
     "name": "stderr",
     "output_type": "stream",
     "text": [
      "13it [02:08,  9.42s/it]"
     ]
    },
    {
     "name": "stdout",
     "output_type": "stream",
     "text": [
      "出问题的key: sess-m1vvBQ2trxJuuKZfYGB3NPybVBeaMzBW1Rg9EPYw\n",
      "出问题的key: sess-O0mv3s6yTcpx8GluWaCOHKLeEKJBWJ4VDmw5Ew5d\n"
     ]
    },
    {
     "name": "stderr",
     "output_type": "stream",
     "text": [
      "14it [02:17,  9.47s/it]"
     ]
    },
    {
     "name": "stdout",
     "output_type": "stream",
     "text": [
      "出问题的key: sess-m1vvBQ2trxJuuKZfYGB3NPybVBeaMzBW1Rg9EPYw\n",
      "达到每日200条限制的key： sess-Vu8urlfLOti6hhkBxm7Pk1WUsyWxHHa9oqjvSrdp\n",
      "出问题的key: sess-O0mv3s6yTcpx8GluWaCOHKLeEKJBWJ4VDmw5Ew5d\n"
     ]
    },
    {
     "name": "stderr",
     "output_type": "stream",
     "text": [
      "15it [02:27,  9.73s/it]"
     ]
    },
    {
     "name": "stdout",
     "output_type": "stream",
     "text": [
      "出问题的key: sess-m1vvBQ2trxJuuKZfYGB3NPybVBeaMzBW1Rg9EPYw\n",
      "出问题的key: sess-O0mv3s6yTcpx8GluWaCOHKLeEKJBWJ4VDmw5Ew5d\n"
     ]
    },
    {
     "name": "stderr",
     "output_type": "stream",
     "text": [
      "16it [02:38,  9.95s/it]"
     ]
    },
    {
     "name": "stdout",
     "output_type": "stream",
     "text": [
      "出问题的key: sess-m1vvBQ2trxJuuKZfYGB3NPybVBeaMzBW1Rg9EPYw\n",
      "达到每日200条限制的key： sess-Vu8urlfLOti6hhkBxm7Pk1WUsyWxHHa9oqjvSrdp\n",
      "出问题的key: sess-O0mv3s6yTcpx8GluWaCOHKLeEKJBWJ4VDmw5Ew5d\n"
     ]
    },
    {
     "name": "stderr",
     "output_type": "stream",
     "text": [
      "17it [02:51, 10.89s/it]"
     ]
    },
    {
     "name": "stdout",
     "output_type": "stream",
     "text": [
      "出问题的key: sess-m1vvBQ2trxJuuKZfYGB3NPybVBeaMzBW1Rg9EPYw\n",
      "出问题的key: sess-O0mv3s6yTcpx8GluWaCOHKLeEKJBWJ4VDmw5Ew5d\n"
     ]
    },
    {
     "name": "stderr",
     "output_type": "stream",
     "text": [
      "18it [03:04, 11.61s/it]"
     ]
    },
    {
     "name": "stdout",
     "output_type": "stream",
     "text": [
      "达到每日200条限制的key： sess-Vu8urlfLOti6hhkBxm7Pk1WUsyWxHHa9oqjvSrdp\n",
      "出问题的key: sess-O0mv3s6yTcpx8GluWaCOHKLeEKJBWJ4VDmw5Ew5d\n"
     ]
    },
    {
     "name": "stderr",
     "output_type": "stream",
     "text": [
      "19it [03:16, 11.60s/it]"
     ]
    },
    {
     "name": "stdout",
     "output_type": "stream",
     "text": [
      "达到每日200条限制的key： sess-Vu8urlfLOti6hhkBxm7Pk1WUsyWxHHa9oqjvSrdp\n"
     ]
    },
    {
     "name": "stderr",
     "output_type": "stream",
     "text": [
      "22it [03:38,  8.73s/it]"
     ]
    },
    {
     "name": "stdout",
     "output_type": "stream",
     "text": [
      "达到每日200条限制的key： sess-Vu8urlfLOti6hhkBxm7Pk1WUsyWxHHa9oqjvSrdp\n"
     ]
    },
    {
     "name": "stderr",
     "output_type": "stream",
     "text": [
      "24it [03:59,  9.55s/it]"
     ]
    },
    {
     "name": "stdout",
     "output_type": "stream",
     "text": [
      "达到每日200条限制的key： sess-Vu8urlfLOti6hhkBxm7Pk1WUsyWxHHa9oqjvSrdp\n"
     ]
    },
    {
     "name": "stderr",
     "output_type": "stream",
     "text": [
      "29it [04:37,  8.31s/it]"
     ]
    },
    {
     "name": "stdout",
     "output_type": "stream",
     "text": [
      "达到每日200条限制的key： sess-Vu8urlfLOti6hhkBxm7Pk1WUsyWxHHa9oqjvSrdp\n"
     ]
    },
    {
     "name": "stderr",
     "output_type": "stream",
     "text": [
      "32it [04:58,  7.35s/it]"
     ]
    },
    {
     "name": "stdout",
     "output_type": "stream",
     "text": [
      "达到每日200条限制的key： sess-Vu8urlfLOti6hhkBxm7Pk1WUsyWxHHa9oqjvSrdp\n"
     ]
    },
    {
     "name": "stderr",
     "output_type": "stream",
     "text": [
      "34it [05:22,  9.52s/it]"
     ]
    },
    {
     "name": "stdout",
     "output_type": "stream",
     "text": [
      "达到每日200条限制的key： sess-Vu8urlfLOti6hhkBxm7Pk1WUsyWxHHa9oqjvSrdp\n"
     ]
    },
    {
     "name": "stderr",
     "output_type": "stream",
     "text": [
      "36it [05:39,  9.23s/it]"
     ]
    },
    {
     "name": "stdout",
     "output_type": "stream",
     "text": [
      "达到每日200条限制的key： sess-Vu8urlfLOti6hhkBxm7Pk1WUsyWxHHa9oqjvSrdp\n"
     ]
    },
    {
     "name": "stderr",
     "output_type": "stream",
     "text": [
      "38it [06:01, 10.09s/it]"
     ]
    },
    {
     "name": "stdout",
     "output_type": "stream",
     "text": [
      "达到每日200条限制的key： sess-Vu8urlfLOti6hhkBxm7Pk1WUsyWxHHa9oqjvSrdp\n"
     ]
    },
    {
     "name": "stderr",
     "output_type": "stream",
     "text": [
      "40it [06:20, 10.27s/it]"
     ]
    },
    {
     "name": "stdout",
     "output_type": "stream",
     "text": [
      "出问题的key: sess-Vu8urlfLOti6hhkBxm7Pk1WUsyWxHHa9oqjvSrdp\n"
     ]
    },
    {
     "name": "stderr",
     "output_type": "stream",
     "text": [
      "41it [06:28,  9.62s/it]"
     ]
    },
    {
     "name": "stdout",
     "output_type": "stream",
     "text": [
      "出问题的key: sess-Vu8urlfLOti6hhkBxm7Pk1WUsyWxHHa9oqjvSrdp\n"
     ]
    },
    {
     "name": "stderr",
     "output_type": "stream",
     "text": [
      "42it [06:37,  9.33s/it]"
     ]
    },
    {
     "name": "stdout",
     "output_type": "stream",
     "text": [
      "出问题的key: sess-Vu8urlfLOti6hhkBxm7Pk1WUsyWxHHa9oqjvSrdp\n"
     ]
    },
    {
     "name": "stderr",
     "output_type": "stream",
     "text": [
      "43it [06:42,  8.18s/it]"
     ]
    },
    {
     "name": "stdout",
     "output_type": "stream",
     "text": [
      "出问题的key: sess-Vu8urlfLOti6hhkBxm7Pk1WUsyWxHHa9oqjvSrdp\n"
     ]
    },
    {
     "name": "stderr",
     "output_type": "stream",
     "text": [
      "44it [06:52,  8.52s/it]"
     ]
    },
    {
     "name": "stdout",
     "output_type": "stream",
     "text": [
      "出问题的key: sess-Vu8urlfLOti6hhkBxm7Pk1WUsyWxHHa9oqjvSrdp\n"
     ]
    },
    {
     "name": "stderr",
     "output_type": "stream",
     "text": [
      "45it [07:00,  8.40s/it]"
     ]
    },
    {
     "name": "stdout",
     "output_type": "stream",
     "text": [
      "出问题的key: sess-Vu8urlfLOti6hhkBxm7Pk1WUsyWxHHa9oqjvSrdp\n"
     ]
    },
    {
     "name": "stderr",
     "output_type": "stream",
     "text": [
      "46it [07:06,  7.71s/it]"
     ]
    },
    {
     "name": "stdout",
     "output_type": "stream",
     "text": [
      "出问题的key: sess-Vu8urlfLOti6hhkBxm7Pk1WUsyWxHHa9oqjvSrdp\n"
     ]
    },
    {
     "name": "stderr",
     "output_type": "stream",
     "text": [
      "47it [07:16,  8.49s/it]"
     ]
    },
    {
     "name": "stdout",
     "output_type": "stream",
     "text": [
      "出问题的key: sess-Vu8urlfLOti6hhkBxm7Pk1WUsyWxHHa9oqjvSrdp\n"
     ]
    },
    {
     "name": "stderr",
     "output_type": "stream",
     "text": [
      "48it [07:24,  8.45s/it]"
     ]
    },
    {
     "name": "stdout",
     "output_type": "stream",
     "text": [
      "出问题的key: sess-Vu8urlfLOti6hhkBxm7Pk1WUsyWxHHa9oqjvSrdp\n"
     ]
    },
    {
     "name": "stderr",
     "output_type": "stream",
     "text": [
      "49it [07:34,  8.71s/it]"
     ]
    },
    {
     "name": "stdout",
     "output_type": "stream",
     "text": [
      "出问题的key: sess-Vu8urlfLOti6hhkBxm7Pk1WUsyWxHHa9oqjvSrdp\n"
     ]
    },
    {
     "name": "stderr",
     "output_type": "stream",
     "text": [
      "50it [07:42,  8.48s/it]"
     ]
    },
    {
     "name": "stdout",
     "output_type": "stream",
     "text": [
      "出问题的key: sess-Vu8urlfLOti6hhkBxm7Pk1WUsyWxHHa9oqjvSrdp\n"
     ]
    },
    {
     "name": "stderr",
     "output_type": "stream",
     "text": [
      "51it [07:52,  9.17s/it]"
     ]
    },
    {
     "name": "stdout",
     "output_type": "stream",
     "text": [
      "出问题的key: sess-Vu8urlfLOti6hhkBxm7Pk1WUsyWxHHa9oqjvSrdp\n"
     ]
    },
    {
     "name": "stderr",
     "output_type": "stream",
     "text": [
      "52it [07:58,  8.13s/it]"
     ]
    },
    {
     "name": "stdout",
     "output_type": "stream",
     "text": [
      "出问题的key: sess-Vu8urlfLOti6hhkBxm7Pk1WUsyWxHHa9oqjvSrdp\n"
     ]
    },
    {
     "name": "stderr",
     "output_type": "stream",
     "text": [
      "53it [08:08,  8.49s/it]"
     ]
    },
    {
     "name": "stdout",
     "output_type": "stream",
     "text": [
      "出问题的key: sess-Vu8urlfLOti6hhkBxm7Pk1WUsyWxHHa9oqjvSrdp\n"
     ]
    },
    {
     "name": "stderr",
     "output_type": "stream",
     "text": [
      "54it [08:16,  8.53s/it]"
     ]
    },
    {
     "name": "stdout",
     "output_type": "stream",
     "text": [
      "出问题的key: sess-Vu8urlfLOti6hhkBxm7Pk1WUsyWxHHa9oqjvSrdp\n"
     ]
    },
    {
     "name": "stderr",
     "output_type": "stream",
     "text": [
      "55it [08:24,  8.30s/it]"
     ]
    },
    {
     "name": "stdout",
     "output_type": "stream",
     "text": [
      "出问题的key: sess-Vu8urlfLOti6hhkBxm7Pk1WUsyWxHHa9oqjvSrdp\n"
     ]
    },
    {
     "name": "stderr",
     "output_type": "stream",
     "text": [
      "56it [08:34,  8.93s/it]"
     ]
    },
    {
     "name": "stdout",
     "output_type": "stream",
     "text": [
      "出问题的key: sess-Vu8urlfLOti6hhkBxm7Pk1WUsyWxHHa9oqjvSrdp\n"
     ]
    },
    {
     "name": "stderr",
     "output_type": "stream",
     "text": [
      "57it [08:43,  8.89s/it]"
     ]
    },
    {
     "name": "stdout",
     "output_type": "stream",
     "text": [
      "出问题的key: sess-Vu8urlfLOti6hhkBxm7Pk1WUsyWxHHa9oqjvSrdp\n"
     ]
    },
    {
     "name": "stderr",
     "output_type": "stream",
     "text": [
      "58it [08:55,  9.89s/it]"
     ]
    },
    {
     "name": "stdout",
     "output_type": "stream",
     "text": [
      "出问题的key: sess-Vu8urlfLOti6hhkBxm7Pk1WUsyWxHHa9oqjvSrdp\n"
     ]
    },
    {
     "name": "stderr",
     "output_type": "stream",
     "text": [
      "59it [09:04,  9.59s/it]"
     ]
    },
    {
     "name": "stdout",
     "output_type": "stream",
     "text": [
      "出问题的key: sess-Vu8urlfLOti6hhkBxm7Pk1WUsyWxHHa9oqjvSrdp\n"
     ]
    },
    {
     "name": "stderr",
     "output_type": "stream",
     "text": [
      "60it [09:16, 10.23s/it]"
     ]
    },
    {
     "name": "stdout",
     "output_type": "stream",
     "text": [
      "出问题的key: sess-Vu8urlfLOti6hhkBxm7Pk1WUsyWxHHa9oqjvSrdp\n"
     ]
    },
    {
     "name": "stderr",
     "output_type": "stream",
     "text": [
      "61it [09:22,  8.91s/it]"
     ]
    },
    {
     "name": "stdout",
     "output_type": "stream",
     "text": [
      "出问题的key: sess-Vu8urlfLOti6hhkBxm7Pk1WUsyWxHHa9oqjvSrdp\n"
     ]
    },
    {
     "name": "stderr",
     "output_type": "stream",
     "text": [
      "62it [09:30,  8.77s/it]"
     ]
    },
    {
     "name": "stdout",
     "output_type": "stream",
     "text": [
      "出问题的key: sess-Vu8urlfLOti6hhkBxm7Pk1WUsyWxHHa9oqjvSrdp\n"
     ]
    },
    {
     "name": "stderr",
     "output_type": "stream",
     "text": [
      "63it [09:39,  8.78s/it]"
     ]
    },
    {
     "name": "stdout",
     "output_type": "stream",
     "text": [
      "出问题的key: sess-Vu8urlfLOti6hhkBxm7Pk1WUsyWxHHa9oqjvSrdp\n"
     ]
    },
    {
     "name": "stderr",
     "output_type": "stream",
     "text": [
      "64it [09:45,  8.05s/it]"
     ]
    },
    {
     "name": "stdout",
     "output_type": "stream",
     "text": [
      "出问题的key: sess-Vu8urlfLOti6hhkBxm7Pk1WUsyWxHHa9oqjvSrdp\n"
     ]
    },
    {
     "name": "stderr",
     "output_type": "stream",
     "text": [
      "65it [10:00, 10.11s/it]"
     ]
    },
    {
     "name": "stdout",
     "output_type": "stream",
     "text": [
      "出问题的key: sess-Vu8urlfLOti6hhkBxm7Pk1WUsyWxHHa9oqjvSrdp\n"
     ]
    },
    {
     "name": "stderr",
     "output_type": "stream",
     "text": [
      "66it [10:07,  9.06s/it]"
     ]
    },
    {
     "name": "stdout",
     "output_type": "stream",
     "text": [
      "出问题的key: sess-Vu8urlfLOti6hhkBxm7Pk1WUsyWxHHa9oqjvSrdp\n"
     ]
    },
    {
     "name": "stderr",
     "output_type": "stream",
     "text": [
      "67it [10:18,  9.80s/it]"
     ]
    },
    {
     "name": "stdout",
     "output_type": "stream",
     "text": [
      "出问题的key: sess-Vu8urlfLOti6hhkBxm7Pk1WUsyWxHHa9oqjvSrdp\n"
     ]
    },
    {
     "name": "stderr",
     "output_type": "stream",
     "text": [
      "68it [10:27,  9.40s/it]"
     ]
    },
    {
     "name": "stdout",
     "output_type": "stream",
     "text": [
      "出问题的key: sess-Vu8urlfLOti6hhkBxm7Pk1WUsyWxHHa9oqjvSrdp\n"
     ]
    },
    {
     "name": "stderr",
     "output_type": "stream",
     "text": [
      "69it [10:35,  8.91s/it]"
     ]
    },
    {
     "name": "stdout",
     "output_type": "stream",
     "text": [
      "出问题的key: sess-Vu8urlfLOti6hhkBxm7Pk1WUsyWxHHa9oqjvSrdp\n"
     ]
    },
    {
     "name": "stderr",
     "output_type": "stream",
     "text": [
      "70it [10:40,  7.97s/it]"
     ]
    },
    {
     "name": "stdout",
     "output_type": "stream",
     "text": [
      "出问题的key: sess-Vu8urlfLOti6hhkBxm7Pk1WUsyWxHHa9oqjvSrdp\n"
     ]
    },
    {
     "name": "stderr",
     "output_type": "stream",
     "text": [
      "71it [10:50,  8.31s/it]"
     ]
    },
    {
     "name": "stdout",
     "output_type": "stream",
     "text": [
      "出问题的key: sess-Vu8urlfLOti6hhkBxm7Pk1WUsyWxHHa9oqjvSrdp\n"
     ]
    },
    {
     "name": "stderr",
     "output_type": "stream",
     "text": [
      "72it [11:01,  9.13s/it]"
     ]
    },
    {
     "name": "stdout",
     "output_type": "stream",
     "text": [
      "出问题的key: sess-Vu8urlfLOti6hhkBxm7Pk1WUsyWxHHa9oqjvSrdp\n"
     ]
    },
    {
     "name": "stderr",
     "output_type": "stream",
     "text": [
      "73it [11:06,  7.88s/it]"
     ]
    },
    {
     "name": "stdout",
     "output_type": "stream",
     "text": [
      "出问题的key: sess-Vu8urlfLOti6hhkBxm7Pk1WUsyWxHHa9oqjvSrdp\n"
     ]
    },
    {
     "name": "stderr",
     "output_type": "stream",
     "text": [
      "74it [11:16,  8.80s/it]"
     ]
    },
    {
     "name": "stdout",
     "output_type": "stream",
     "text": [
      "出问题的key: sess-Vu8urlfLOti6hhkBxm7Pk1WUsyWxHHa9oqjvSrdp\n"
     ]
    },
    {
     "name": "stderr",
     "output_type": "stream",
     "text": [
      "75it [11:24,  8.27s/it]"
     ]
    },
    {
     "name": "stdout",
     "output_type": "stream",
     "text": [
      "出问题的key: sess-Vu8urlfLOti6hhkBxm7Pk1WUsyWxHHa9oqjvSrdp\n"
     ]
    },
    {
     "name": "stderr",
     "output_type": "stream",
     "text": [
      "76it [11:32,  8.41s/it]"
     ]
    },
    {
     "name": "stdout",
     "output_type": "stream",
     "text": [
      "出问题的key: sess-Vu8urlfLOti6hhkBxm7Pk1WUsyWxHHa9oqjvSrdp\n"
     ]
    },
    {
     "name": "stderr",
     "output_type": "stream",
     "text": [
      "77it [11:39,  7.86s/it]"
     ]
    },
    {
     "name": "stdout",
     "output_type": "stream",
     "text": [
      "出问题的key: sess-Vu8urlfLOti6hhkBxm7Pk1WUsyWxHHa9oqjvSrdp\n"
     ]
    },
    {
     "name": "stderr",
     "output_type": "stream",
     "text": [
      "78it [11:49,  8.61s/it]"
     ]
    },
    {
     "name": "stdout",
     "output_type": "stream",
     "text": [
      "出问题的key: sess-Vu8urlfLOti6hhkBxm7Pk1WUsyWxHHa9oqjvSrdp\n"
     ]
    },
    {
     "name": "stderr",
     "output_type": "stream",
     "text": [
      "79it [11:58,  8.61s/it]"
     ]
    },
    {
     "name": "stdout",
     "output_type": "stream",
     "text": [
      "出问题的key: sess-Vu8urlfLOti6hhkBxm7Pk1WUsyWxHHa9oqjvSrdp\n"
     ]
    },
    {
     "name": "stderr",
     "output_type": "stream",
     "text": [
      "80it [12:04,  8.03s/it]"
     ]
    },
    {
     "name": "stdout",
     "output_type": "stream",
     "text": [
      "出问题的key: sess-Vu8urlfLOti6hhkBxm7Pk1WUsyWxHHa9oqjvSrdp\n"
     ]
    },
    {
     "name": "stderr",
     "output_type": "stream",
     "text": [
      "81it [12:16,  9.17s/it]"
     ]
    },
    {
     "name": "stdout",
     "output_type": "stream",
     "text": [
      "出问题的key: sess-Vu8urlfLOti6hhkBxm7Pk1WUsyWxHHa9oqjvSrdp\n"
     ]
    },
    {
     "name": "stderr",
     "output_type": "stream",
     "text": [
      "82it [12:21,  7.94s/it]"
     ]
    },
    {
     "name": "stdout",
     "output_type": "stream",
     "text": [
      "出问题的key: sess-Vu8urlfLOti6hhkBxm7Pk1WUsyWxHHa9oqjvSrdp\n"
     ]
    },
    {
     "name": "stderr",
     "output_type": "stream",
     "text": [
      "83it [12:31,  8.38s/it]"
     ]
    },
    {
     "name": "stdout",
     "output_type": "stream",
     "text": [
      "出问题的key: sess-Vu8urlfLOti6hhkBxm7Pk1WUsyWxHHa9oqjvSrdp\n"
     ]
    },
    {
     "name": "stderr",
     "output_type": "stream",
     "text": [
      "84it [12:40,  8.63s/it]"
     ]
    },
    {
     "name": "stdout",
     "output_type": "stream",
     "text": [
      "出问题的key: sess-Vu8urlfLOti6hhkBxm7Pk1WUsyWxHHa9oqjvSrdp\n"
     ]
    },
    {
     "name": "stderr",
     "output_type": "stream",
     "text": [
      "85it [12:45,  7.55s/it]"
     ]
    },
    {
     "name": "stdout",
     "output_type": "stream",
     "text": [
      "出问题的key: sess-Vu8urlfLOti6hhkBxm7Pk1WUsyWxHHa9oqjvSrdp\n"
     ]
    },
    {
     "name": "stderr",
     "output_type": "stream",
     "text": [
      "86it [13:00,  9.63s/it]"
     ]
    },
    {
     "name": "stdout",
     "output_type": "stream",
     "text": [
      "出问题的key: sess-Vu8urlfLOti6hhkBxm7Pk1WUsyWxHHa9oqjvSrdp\n"
     ]
    },
    {
     "name": "stderr",
     "output_type": "stream",
     "text": [
      "87it [13:05,  8.41s/it]"
     ]
    },
    {
     "name": "stdout",
     "output_type": "stream",
     "text": [
      "出问题的key: sess-Vu8urlfLOti6hhkBxm7Pk1WUsyWxHHa9oqjvSrdp\n"
     ]
    },
    {
     "name": "stderr",
     "output_type": "stream",
     "text": [
      "88it [13:14,  8.52s/it]"
     ]
    },
    {
     "name": "stdout",
     "output_type": "stream",
     "text": [
      "出问题的key: sess-Vu8urlfLOti6hhkBxm7Pk1WUsyWxHHa9oqjvSrdp\n"
     ]
    },
    {
     "name": "stderr",
     "output_type": "stream",
     "text": [
      "89it [13:21,  8.00s/it]"
     ]
    },
    {
     "name": "stdout",
     "output_type": "stream",
     "text": [
      "出问题的key: sess-Vu8urlfLOti6hhkBxm7Pk1WUsyWxHHa9oqjvSrdp\n"
     ]
    },
    {
     "name": "stderr",
     "output_type": "stream",
     "text": [
      "90it [13:29,  8.02s/it]"
     ]
    },
    {
     "name": "stdout",
     "output_type": "stream",
     "text": [
      "出问题的key: sess-Vu8urlfLOti6hhkBxm7Pk1WUsyWxHHa9oqjvSrdp\n"
     ]
    },
    {
     "name": "stderr",
     "output_type": "stream",
     "text": [
      "91it [13:37,  8.16s/it]"
     ]
    },
    {
     "name": "stdout",
     "output_type": "stream",
     "text": [
      "出问题的key: sess-Vu8urlfLOti6hhkBxm7Pk1WUsyWxHHa9oqjvSrdp\n"
     ]
    },
    {
     "name": "stderr",
     "output_type": "stream",
     "text": [
      "92it [13:44,  7.89s/it]"
     ]
    },
    {
     "name": "stdout",
     "output_type": "stream",
     "text": [
      "出问题的key: sess-Vu8urlfLOti6hhkBxm7Pk1WUsyWxHHa9oqjvSrdp\n"
     ]
    },
    {
     "name": "stderr",
     "output_type": "stream",
     "text": [
      "93it [13:56,  9.04s/it]"
     ]
    },
    {
     "name": "stdout",
     "output_type": "stream",
     "text": [
      "出问题的key: sess-Vu8urlfLOti6hhkBxm7Pk1WUsyWxHHa9oqjvSrdp\n"
     ]
    },
    {
     "name": "stderr",
     "output_type": "stream",
     "text": [
      "94it [14:02,  8.03s/it]"
     ]
    },
    {
     "name": "stdout",
     "output_type": "stream",
     "text": [
      "出问题的key: sess-Vu8urlfLOti6hhkBxm7Pk1WUsyWxHHa9oqjvSrdp\n"
     ]
    },
    {
     "name": "stderr",
     "output_type": "stream",
     "text": [
      "95it [14:12,  8.69s/it]"
     ]
    },
    {
     "name": "stdout",
     "output_type": "stream",
     "text": [
      "出问题的key: sess-Vu8urlfLOti6hhkBxm7Pk1WUsyWxHHa9oqjvSrdp\n"
     ]
    },
    {
     "name": "stderr",
     "output_type": "stream",
     "text": [
      "96it [14:18,  7.80s/it]"
     ]
    },
    {
     "name": "stdout",
     "output_type": "stream",
     "text": [
      "出问题的key: sess-Vu8urlfLOti6hhkBxm7Pk1WUsyWxHHa9oqjvSrdp\n"
     ]
    },
    {
     "name": "stderr",
     "output_type": "stream",
     "text": [
      "97it [14:28,  8.37s/it]"
     ]
    },
    {
     "name": "stdout",
     "output_type": "stream",
     "text": [
      "出问题的key: sess-Vu8urlfLOti6hhkBxm7Pk1WUsyWxHHa9oqjvSrdp\n"
     ]
    },
    {
     "name": "stderr",
     "output_type": "stream",
     "text": [
      "98it [14:38,  9.13s/it]"
     ]
    },
    {
     "name": "stdout",
     "output_type": "stream",
     "text": [
      "出问题的key: sess-Vu8urlfLOti6hhkBxm7Pk1WUsyWxHHa9oqjvSrdp\n"
     ]
    },
    {
     "name": "stderr",
     "output_type": "stream",
     "text": [
      "99it [14:44,  8.01s/it]"
     ]
    },
    {
     "name": "stdout",
     "output_type": "stream",
     "text": [
      "出问题的key: sess-Vu8urlfLOti6hhkBxm7Pk1WUsyWxHHa9oqjvSrdp\n"
     ]
    },
    {
     "name": "stderr",
     "output_type": "stream",
     "text": [
      "100it [14:53,  8.42s/it]"
     ]
    },
    {
     "name": "stdout",
     "output_type": "stream",
     "text": [
      "出问题的key: sess-Vu8urlfLOti6hhkBxm7Pk1WUsyWxHHa9oqjvSrdp\n"
     ]
    },
    {
     "name": "stderr",
     "output_type": "stream",
     "text": [
      "101it [14:59,  7.64s/it]"
     ]
    },
    {
     "name": "stdout",
     "output_type": "stream",
     "text": [
      "出问题的key: sess-Vu8urlfLOti6hhkBxm7Pk1WUsyWxHHa9oqjvSrdp\n"
     ]
    },
    {
     "name": "stderr",
     "output_type": "stream",
     "text": [
      "102it [15:09,  8.33s/it]"
     ]
    },
    {
     "name": "stdout",
     "output_type": "stream",
     "text": [
      "出问题的key: sess-Vu8urlfLOti6hhkBxm7Pk1WUsyWxHHa9oqjvSrdp\n"
     ]
    },
    {
     "name": "stderr",
     "output_type": "stream",
     "text": [
      "103it [15:18,  8.49s/it]"
     ]
    },
    {
     "name": "stdout",
     "output_type": "stream",
     "text": [
      "出问题的key: sess-Vu8urlfLOti6hhkBxm7Pk1WUsyWxHHa9oqjvSrdp\n"
     ]
    },
    {
     "name": "stderr",
     "output_type": "stream",
     "text": [
      "104it [15:26,  8.50s/it]"
     ]
    },
    {
     "name": "stdout",
     "output_type": "stream",
     "text": [
      "出问题的key: sess-Vu8urlfLOti6hhkBxm7Pk1WUsyWxHHa9oqjvSrdp\n"
     ]
    },
    {
     "name": "stderr",
     "output_type": "stream",
     "text": [
      "105it [15:39,  9.82s/it]"
     ]
    },
    {
     "name": "stdout",
     "output_type": "stream",
     "text": [
      "出问题的key: sess-Vu8urlfLOti6hhkBxm7Pk1WUsyWxHHa9oqjvSrdp\n"
     ]
    },
    {
     "name": "stderr",
     "output_type": "stream",
     "text": [
      "106it [15:45,  8.46s/it]"
     ]
    },
    {
     "name": "stdout",
     "output_type": "stream",
     "text": [
      "出问题的key: sess-Vu8urlfLOti6hhkBxm7Pk1WUsyWxHHa9oqjvSrdp\n"
     ]
    },
    {
     "name": "stderr",
     "output_type": "stream",
     "text": [
      "107it [15:54,  8.66s/it]"
     ]
    },
    {
     "name": "stdout",
     "output_type": "stream",
     "text": [
      "出问题的key: sess-Vu8urlfLOti6hhkBxm7Pk1WUsyWxHHa9oqjvSrdp\n"
     ]
    },
    {
     "name": "stderr",
     "output_type": "stream",
     "text": [
      "108it [16:00,  7.91s/it]"
     ]
    },
    {
     "name": "stdout",
     "output_type": "stream",
     "text": [
      "出问题的key: sess-Vu8urlfLOti6hhkBxm7Pk1WUsyWxHHa9oqjvSrdp\n"
     ]
    },
    {
     "name": "stderr",
     "output_type": "stream",
     "text": [
      "109it [16:10,  8.57s/it]"
     ]
    },
    {
     "name": "stdout",
     "output_type": "stream",
     "text": [
      "出问题的key: sess-Vu8urlfLOti6hhkBxm7Pk1WUsyWxHHa9oqjvSrdp\n"
     ]
    },
    {
     "name": "stderr",
     "output_type": "stream",
     "text": [
      "110it [16:18,  8.40s/it]"
     ]
    },
    {
     "name": "stdout",
     "output_type": "stream",
     "text": [
      "出问题的key: sess-Vu8urlfLOti6hhkBxm7Pk1WUsyWxHHa9oqjvSrdp\n"
     ]
    },
    {
     "name": "stderr",
     "output_type": "stream",
     "text": [
      "111it [16:26,  8.31s/it]"
     ]
    },
    {
     "name": "stdout",
     "output_type": "stream",
     "text": [
      "出问题的key: sess-Vu8urlfLOti6hhkBxm7Pk1WUsyWxHHa9oqjvSrdp\n"
     ]
    },
    {
     "name": "stderr",
     "output_type": "stream",
     "text": [
      "112it [16:39,  9.65s/it]"
     ]
    },
    {
     "name": "stdout",
     "output_type": "stream",
     "text": [
      "出问题的key: sess-Vu8urlfLOti6hhkBxm7Pk1WUsyWxHHa9oqjvSrdp\n"
     ]
    },
    {
     "name": "stderr",
     "output_type": "stream",
     "text": [
      "113it [16:45,  8.55s/it]"
     ]
    },
    {
     "name": "stdout",
     "output_type": "stream",
     "text": [
      "出问题的key: sess-Vu8urlfLOti6hhkBxm7Pk1WUsyWxHHa9oqjvSrdp\n"
     ]
    },
    {
     "name": "stderr",
     "output_type": "stream",
     "text": [
      "114it [16:54,  8.74s/it]"
     ]
    },
    {
     "name": "stdout",
     "output_type": "stream",
     "text": [
      "出问题的key: sess-Vu8urlfLOti6hhkBxm7Pk1WUsyWxHHa9oqjvSrdp\n"
     ]
    },
    {
     "name": "stderr",
     "output_type": "stream",
     "text": [
      "115it [17:01,  8.34s/it]"
     ]
    },
    {
     "name": "stdout",
     "output_type": "stream",
     "text": [
      "出问题的key: sess-Vu8urlfLOti6hhkBxm7Pk1WUsyWxHHa9oqjvSrdp\n"
     ]
    },
    {
     "name": "stderr",
     "output_type": "stream",
     "text": [
      "116it [17:09,  8.23s/it]"
     ]
    },
    {
     "name": "stdout",
     "output_type": "stream",
     "text": [
      "出问题的key: sess-Vu8urlfLOti6hhkBxm7Pk1WUsyWxHHa9oqjvSrdp\n"
     ]
    },
    {
     "name": "stderr",
     "output_type": "stream",
     "text": [
      "117it [17:20,  8.92s/it]"
     ]
    },
    {
     "name": "stdout",
     "output_type": "stream",
     "text": [
      "出问题的key: sess-Vu8urlfLOti6hhkBxm7Pk1WUsyWxHHa9oqjvSrdp\n"
     ]
    },
    {
     "name": "stderr",
     "output_type": "stream",
     "text": [
      "118it [17:27,  8.30s/it]"
     ]
    },
    {
     "name": "stdout",
     "output_type": "stream",
     "text": [
      "出问题的key: sess-Vu8urlfLOti6hhkBxm7Pk1WUsyWxHHa9oqjvSrdp\n"
     ]
    },
    {
     "name": "stderr",
     "output_type": "stream",
     "text": [
      "119it [17:37,  8.90s/it]"
     ]
    },
    {
     "name": "stdout",
     "output_type": "stream",
     "text": [
      "出问题的key: sess-Vu8urlfLOti6hhkBxm7Pk1WUsyWxHHa9oqjvSrdp\n"
     ]
    },
    {
     "name": "stderr",
     "output_type": "stream",
     "text": [
      "120it [17:43,  7.88s/it]"
     ]
    },
    {
     "name": "stdout",
     "output_type": "stream",
     "text": [
      "出问题的key: sess-Vu8urlfLOti6hhkBxm7Pk1WUsyWxHHa9oqjvSrdp\n"
     ]
    },
    {
     "name": "stderr",
     "output_type": "stream",
     "text": [
      "121it [17:51,  8.13s/it]"
     ]
    },
    {
     "name": "stdout",
     "output_type": "stream",
     "text": [
      "出问题的key: sess-Vu8urlfLOti6hhkBxm7Pk1WUsyWxHHa9oqjvSrdp\n"
     ]
    },
    {
     "name": "stderr",
     "output_type": "stream",
     "text": [
      "122it [17:59,  7.96s/it]"
     ]
    },
    {
     "name": "stdout",
     "output_type": "stream",
     "text": [
      "出问题的key: sess-Vu8urlfLOti6hhkBxm7Pk1WUsyWxHHa9oqjvSrdp\n"
     ]
    },
    {
     "name": "stderr",
     "output_type": "stream",
     "text": [
      "123it [18:04,  7.28s/it]"
     ]
    },
    {
     "name": "stdout",
     "output_type": "stream",
     "text": [
      "出问题的key: sess-Vu8urlfLOti6hhkBxm7Pk1WUsyWxHHa9oqjvSrdp\n"
     ]
    },
    {
     "name": "stderr",
     "output_type": "stream",
     "text": [
      "124it [18:15,  8.14s/it]"
     ]
    },
    {
     "name": "stdout",
     "output_type": "stream",
     "text": [
      "出问题的key: sess-Vu8urlfLOti6hhkBxm7Pk1WUsyWxHHa9oqjvSrdp\n"
     ]
    },
    {
     "name": "stderr",
     "output_type": "stream",
     "text": [
      "125it [18:20,  7.36s/it]"
     ]
    },
    {
     "name": "stdout",
     "output_type": "stream",
     "text": [
      "出问题的key: sess-Vu8urlfLOti6hhkBxm7Pk1WUsyWxHHa9oqjvSrdp\n"
     ]
    },
    {
     "name": "stderr",
     "output_type": "stream",
     "text": [
      "126it [18:34,  9.27s/it]"
     ]
    },
    {
     "name": "stdout",
     "output_type": "stream",
     "text": [
      "出问题的key: sess-Vu8urlfLOti6hhkBxm7Pk1WUsyWxHHa9oqjvSrdp\n"
     ]
    },
    {
     "name": "stderr",
     "output_type": "stream",
     "text": [
      "127it [18:43,  9.10s/it]"
     ]
    },
    {
     "name": "stdout",
     "output_type": "stream",
     "text": [
      "出问题的key: sess-Vu8urlfLOti6hhkBxm7Pk1WUsyWxHHa9oqjvSrdp\n"
     ]
    },
    {
     "name": "stderr",
     "output_type": "stream",
     "text": [
      "128it [18:52,  9.05s/it]"
     ]
    },
    {
     "name": "stdout",
     "output_type": "stream",
     "text": [
      "出问题的key: sess-Vu8urlfLOti6hhkBxm7Pk1WUsyWxHHa9oqjvSrdp\n"
     ]
    },
    {
     "name": "stderr",
     "output_type": "stream",
     "text": [
      "129it [19:03,  9.72s/it]"
     ]
    },
    {
     "name": "stdout",
     "output_type": "stream",
     "text": [
      "出问题的key: sess-Vu8urlfLOti6hhkBxm7Pk1WUsyWxHHa9oqjvSrdp\n"
     ]
    },
    {
     "name": "stderr",
     "output_type": "stream",
     "text": [
      "130it [19:08,  8.31s/it]"
     ]
    },
    {
     "name": "stdout",
     "output_type": "stream",
     "text": [
      "出问题的key: sess-Vu8urlfLOti6hhkBxm7Pk1WUsyWxHHa9oqjvSrdp\n"
     ]
    },
    {
     "name": "stderr",
     "output_type": "stream",
     "text": [
      "131it [19:17,  8.50s/it]"
     ]
    },
    {
     "name": "stdout",
     "output_type": "stream",
     "text": [
      "出问题的key: sess-Vu8urlfLOti6hhkBxm7Pk1WUsyWxHHa9oqjvSrdp\n"
     ]
    },
    {
     "name": "stderr",
     "output_type": "stream",
     "text": [
      "132it [19:23,  7.93s/it]"
     ]
    },
    {
     "name": "stdout",
     "output_type": "stream",
     "text": [
      "出问题的key: sess-Vu8urlfLOti6hhkBxm7Pk1WUsyWxHHa9oqjvSrdp\n"
     ]
    },
    {
     "name": "stderr",
     "output_type": "stream",
     "text": [
      "197it [26:56,  6.78s/it]"
     ]
    },
    {
     "name": "stdout",
     "output_type": "stream",
     "text": [
      "达到每日200条限制的key： sess-LQLHfs8AbSYxl4r6aXdMkwFZX1jrFQrYFBV1WRcl\n"
     ]
    },
    {
     "name": "stderr",
     "output_type": "stream",
     "text": [
      "200it [27:22,  8.23s/it]"
     ]
    },
    {
     "name": "stdout",
     "output_type": "stream",
     "text": [
      "达到每日200条限制的key： sess-LQLHfs8AbSYxl4r6aXdMkwFZX1jrFQrYFBV1WRcl\n"
     ]
    },
    {
     "name": "stderr",
     "output_type": "stream",
     "text": [
      "201it [27:36,  9.89s/it]"
     ]
    },
    {
     "name": "stdout",
     "output_type": "stream",
     "text": [
      "达到每日200条限制的key： sess-LQLHfs8AbSYxl4r6aXdMkwFZX1jrFQrYFBV1WRcl\n"
     ]
    },
    {
     "name": "stderr",
     "output_type": "stream",
     "text": [
      "203it [27:55,  9.75s/it]"
     ]
    },
    {
     "name": "stdout",
     "output_type": "stream",
     "text": [
      "达到每日200条限制的key： sess-LQLHfs8AbSYxl4r6aXdMkwFZX1jrFQrYFBV1WRcl\n"
     ]
    },
    {
     "name": "stderr",
     "output_type": "stream",
     "text": [
      "204it [28:01,  8.63s/it]"
     ]
    },
    {
     "name": "stdout",
     "output_type": "stream",
     "text": [
      "出问题的key: sess-LQLHfs8AbSYxl4r6aXdMkwFZX1jrFQrYFBV1WRcl\n"
     ]
    },
    {
     "name": "stderr",
     "output_type": "stream",
     "text": [
      "205it [28:11,  9.12s/it]"
     ]
    },
    {
     "name": "stdout",
     "output_type": "stream",
     "text": [
      "出问题的key: sess-LQLHfs8AbSYxl4r6aXdMkwFZX1jrFQrYFBV1WRcl\n"
     ]
    },
    {
     "name": "stderr",
     "output_type": "stream",
     "text": [
      "206it [28:21,  9.32s/it]"
     ]
    },
    {
     "name": "stdout",
     "output_type": "stream",
     "text": [
      "出问题的key: sess-LQLHfs8AbSYxl4r6aXdMkwFZX1jrFQrYFBV1WRcl\n"
     ]
    },
    {
     "name": "stderr",
     "output_type": "stream",
     "text": [
      "207it [28:30,  9.18s/it]"
     ]
    },
    {
     "name": "stdout",
     "output_type": "stream",
     "text": [
      "出问题的key: sess-LQLHfs8AbSYxl4r6aXdMkwFZX1jrFQrYFBV1WRcl\n"
     ]
    },
    {
     "name": "stderr",
     "output_type": "stream",
     "text": [
      "208it [28:39,  9.15s/it]"
     ]
    },
    {
     "name": "stdout",
     "output_type": "stream",
     "text": [
      "出问题的key: sess-LQLHfs8AbSYxl4r6aXdMkwFZX1jrFQrYFBV1WRcl\n"
     ]
    },
    {
     "name": "stderr",
     "output_type": "stream",
     "text": [
      "209it [28:47,  8.76s/it]"
     ]
    },
    {
     "name": "stdout",
     "output_type": "stream",
     "text": [
      "出问题的key: sess-LQLHfs8AbSYxl4r6aXdMkwFZX1jrFQrYFBV1WRcl\n"
     ]
    },
    {
     "name": "stderr",
     "output_type": "stream",
     "text": [
      "210it [28:55,  8.69s/it]"
     ]
    },
    {
     "name": "stdout",
     "output_type": "stream",
     "text": [
      "出问题的key: sess-LQLHfs8AbSYxl4r6aXdMkwFZX1jrFQrYFBV1WRcl\n"
     ]
    },
    {
     "name": "stderr",
     "output_type": "stream",
     "text": [
      "211it [29:01,  7.80s/it]"
     ]
    },
    {
     "name": "stdout",
     "output_type": "stream",
     "text": [
      "出问题的key: sess-LQLHfs8AbSYxl4r6aXdMkwFZX1jrFQrYFBV1WRcl\n"
     ]
    },
    {
     "name": "stderr",
     "output_type": "stream",
     "text": [
      "212it [29:11,  8.52s/it]"
     ]
    },
    {
     "name": "stdout",
     "output_type": "stream",
     "text": [
      "出问题的key: sess-LQLHfs8AbSYxl4r6aXdMkwFZX1jrFQrYFBV1WRcl\n"
     ]
    },
    {
     "name": "stderr",
     "output_type": "stream",
     "text": [
      "213it [29:19,  8.47s/it]"
     ]
    },
    {
     "name": "stdout",
     "output_type": "stream",
     "text": [
      "出问题的key: sess-LQLHfs8AbSYxl4r6aXdMkwFZX1jrFQrYFBV1WRcl\n"
     ]
    },
    {
     "name": "stderr",
     "output_type": "stream",
     "text": [
      "214it [29:29,  8.67s/it]"
     ]
    },
    {
     "name": "stdout",
     "output_type": "stream",
     "text": [
      "出问题的key: sess-LQLHfs8AbSYxl4r6aXdMkwFZX1jrFQrYFBV1WRcl\n"
     ]
    },
    {
     "name": "stderr",
     "output_type": "stream",
     "text": [
      "215it [29:41,  9.88s/it]"
     ]
    },
    {
     "name": "stdout",
     "output_type": "stream",
     "text": [
      "出问题的key: sess-LQLHfs8AbSYxl4r6aXdMkwFZX1jrFQrYFBV1WRcl\n"
     ]
    },
    {
     "name": "stderr",
     "output_type": "stream",
     "text": [
      "216it [29:47,  8.64s/it]"
     ]
    },
    {
     "name": "stdout",
     "output_type": "stream",
     "text": [
      "出问题的key: sess-LQLHfs8AbSYxl4r6aXdMkwFZX1jrFQrYFBV1WRcl\n"
     ]
    },
    {
     "name": "stderr",
     "output_type": "stream",
     "text": [
      "217it [29:57,  9.17s/it]"
     ]
    },
    {
     "name": "stdout",
     "output_type": "stream",
     "text": [
      "出问题的key: sess-LQLHfs8AbSYxl4r6aXdMkwFZX1jrFQrYFBV1WRcl\n"
     ]
    },
    {
     "name": "stderr",
     "output_type": "stream",
     "text": [
      "218it [30:06,  9.06s/it]"
     ]
    },
    {
     "name": "stdout",
     "output_type": "stream",
     "text": [
      "出问题的key: sess-LQLHfs8AbSYxl4r6aXdMkwFZX1jrFQrYFBV1WRcl\n"
     ]
    },
    {
     "name": "stderr",
     "output_type": "stream",
     "text": [
      "219it [30:20, 10.38s/it]"
     ]
    },
    {
     "name": "stdout",
     "output_type": "stream",
     "text": [
      "出问题的key: sess-LQLHfs8AbSYxl4r6aXdMkwFZX1jrFQrYFBV1WRcl\n"
     ]
    },
    {
     "name": "stderr",
     "output_type": "stream",
     "text": [
      "220it [30:28,  9.72s/it]"
     ]
    },
    {
     "name": "stdout",
     "output_type": "stream",
     "text": [
      "出问题的key: sess-LQLHfs8AbSYxl4r6aXdMkwFZX1jrFQrYFBV1WRcl\n"
     ]
    },
    {
     "name": "stderr",
     "output_type": "stream",
     "text": [
      "221it [30:39, 10.23s/it]"
     ]
    },
    {
     "name": "stdout",
     "output_type": "stream",
     "text": [
      "出问题的key: sess-LQLHfs8AbSYxl4r6aXdMkwFZX1jrFQrYFBV1WRcl\n"
     ]
    },
    {
     "name": "stderr",
     "output_type": "stream",
     "text": [
      "222it [30:47,  9.42s/it]"
     ]
    },
    {
     "name": "stdout",
     "output_type": "stream",
     "text": [
      "出问题的key: sess-LQLHfs8AbSYxl4r6aXdMkwFZX1jrFQrYFBV1WRcl\n"
     ]
    },
    {
     "name": "stderr",
     "output_type": "stream",
     "text": [
      "223it [30:55,  9.10s/it]"
     ]
    },
    {
     "name": "stdout",
     "output_type": "stream",
     "text": [
      "出问题的key: sess-LQLHfs8AbSYxl4r6aXdMkwFZX1jrFQrYFBV1WRcl\n"
     ]
    },
    {
     "name": "stderr",
     "output_type": "stream",
     "text": [
      "224it [31:01,  8.26s/it]"
     ]
    },
    {
     "name": "stdout",
     "output_type": "stream",
     "text": [
      "出问题的key: sess-LQLHfs8AbSYxl4r6aXdMkwFZX1jrFQrYFBV1WRcl\n"
     ]
    },
    {
     "name": "stderr",
     "output_type": "stream",
     "text": [
      "225it [31:11,  8.72s/it]"
     ]
    },
    {
     "name": "stdout",
     "output_type": "stream",
     "text": [
      "出问题的key: sess-LQLHfs8AbSYxl4r6aXdMkwFZX1jrFQrYFBV1WRcl\n"
     ]
    },
    {
     "name": "stderr",
     "output_type": "stream",
     "text": [
      "226it [31:19,  8.30s/it]"
     ]
    },
    {
     "name": "stdout",
     "output_type": "stream",
     "text": [
      "出问题的key: sess-LQLHfs8AbSYxl4r6aXdMkwFZX1jrFQrYFBV1WRcl\n"
     ]
    },
    {
     "name": "stderr",
     "output_type": "stream",
     "text": [
      "227it [31:29,  8.87s/it]"
     ]
    },
    {
     "name": "stdout",
     "output_type": "stream",
     "text": [
      "出问题的key: sess-LQLHfs8AbSYxl4r6aXdMkwFZX1jrFQrYFBV1WRcl\n"
     ]
    },
    {
     "name": "stderr",
     "output_type": "stream",
     "text": [
      "228it [31:42, 10.22s/it]"
     ]
    },
    {
     "name": "stdout",
     "output_type": "stream",
     "text": [
      "出问题的key: sess-LQLHfs8AbSYxl4r6aXdMkwFZX1jrFQrYFBV1WRcl\n"
     ]
    },
    {
     "name": "stderr",
     "output_type": "stream",
     "text": [
      "229it [31:51,  9.83s/it]"
     ]
    },
    {
     "name": "stdout",
     "output_type": "stream",
     "text": [
      "出问题的key: sess-LQLHfs8AbSYxl4r6aXdMkwFZX1jrFQrYFBV1WRcl\n"
     ]
    },
    {
     "name": "stderr",
     "output_type": "stream",
     "text": [
      "230it [31:58,  8.96s/it]"
     ]
    },
    {
     "name": "stdout",
     "output_type": "stream",
     "text": [
      "出问题的key: sess-LQLHfs8AbSYxl4r6aXdMkwFZX1jrFQrYFBV1WRcl\n"
     ]
    },
    {
     "name": "stderr",
     "output_type": "stream",
     "text": [
      "231it [32:09,  9.58s/it]"
     ]
    },
    {
     "name": "stdout",
     "output_type": "stream",
     "text": [
      "出问题的key: sess-LQLHfs8AbSYxl4r6aXdMkwFZX1jrFQrYFBV1WRcl\n"
     ]
    },
    {
     "name": "stderr",
     "output_type": "stream",
     "text": [
      "232it [32:14,  8.35s/it]"
     ]
    },
    {
     "name": "stdout",
     "output_type": "stream",
     "text": [
      "出问题的key: sess-LQLHfs8AbSYxl4r6aXdMkwFZX1jrFQrYFBV1WRcl\n"
     ]
    },
    {
     "name": "stderr",
     "output_type": "stream",
     "text": [
      "233it [32:24,  8.77s/it]"
     ]
    },
    {
     "name": "stdout",
     "output_type": "stream",
     "text": [
      "出问题的key: sess-LQLHfs8AbSYxl4r6aXdMkwFZX1jrFQrYFBV1WRcl\n"
     ]
    },
    {
     "name": "stderr",
     "output_type": "stream",
     "text": [
      "234it [32:33,  8.74s/it]"
     ]
    },
    {
     "name": "stdout",
     "output_type": "stream",
     "text": [
      "出问题的key: sess-LQLHfs8AbSYxl4r6aXdMkwFZX1jrFQrYFBV1WRcl\n"
     ]
    },
    {
     "name": "stderr",
     "output_type": "stream",
     "text": [
      "235it [32:39,  7.93s/it]"
     ]
    },
    {
     "name": "stdout",
     "output_type": "stream",
     "text": [
      "出问题的key: sess-LQLHfs8AbSYxl4r6aXdMkwFZX1jrFQrYFBV1WRcl\n"
     ]
    },
    {
     "name": "stderr",
     "output_type": "stream",
     "text": [
      "236it [32:47,  8.05s/it]"
     ]
    },
    {
     "name": "stdout",
     "output_type": "stream",
     "text": [
      "出问题的key: sess-LQLHfs8AbSYxl4r6aXdMkwFZX1jrFQrYFBV1WRcl\n"
     ]
    },
    {
     "name": "stderr",
     "output_type": "stream",
     "text": [
      "237it [33:04, 10.57s/it]"
     ]
    },
    {
     "name": "stdout",
     "output_type": "stream",
     "text": [
      "出问题的key: sess-LQLHfs8AbSYxl4r6aXdMkwFZX1jrFQrYFBV1WRcl\n"
     ]
    },
    {
     "name": "stderr",
     "output_type": "stream",
     "text": [
      "238it [33:12,  9.78s/it]"
     ]
    },
    {
     "name": "stdout",
     "output_type": "stream",
     "text": [
      "出问题的key: sess-LQLHfs8AbSYxl4r6aXdMkwFZX1jrFQrYFBV1WRcl\n"
     ]
    },
    {
     "name": "stderr",
     "output_type": "stream",
     "text": [
      "239it [33:19,  8.96s/it]"
     ]
    },
    {
     "name": "stdout",
     "output_type": "stream",
     "text": [
      "出问题的key: sess-LQLHfs8AbSYxl4r6aXdMkwFZX1jrFQrYFBV1WRcl\n"
     ]
    },
    {
     "name": "stderr",
     "output_type": "stream",
     "text": [
      "240it [33:29,  9.50s/it]"
     ]
    },
    {
     "name": "stdout",
     "output_type": "stream",
     "text": [
      "出问题的key: sess-LQLHfs8AbSYxl4r6aXdMkwFZX1jrFQrYFBV1WRcl\n"
     ]
    },
    {
     "name": "stderr",
     "output_type": "stream",
     "text": [
      "241it [33:36,  8.60s/it]"
     ]
    },
    {
     "name": "stdout",
     "output_type": "stream",
     "text": [
      "出问题的key: sess-LQLHfs8AbSYxl4r6aXdMkwFZX1jrFQrYFBV1WRcl\n"
     ]
    },
    {
     "name": "stderr",
     "output_type": "stream",
     "text": [
      "242it [33:51, 10.45s/it]"
     ]
    },
    {
     "name": "stdout",
     "output_type": "stream",
     "text": [
      "出问题的key: sess-LQLHfs8AbSYxl4r6aXdMkwFZX1jrFQrYFBV1WRcl\n"
     ]
    },
    {
     "name": "stderr",
     "output_type": "stream",
     "text": [
      "243it [33:58,  9.37s/it]"
     ]
    },
    {
     "name": "stdout",
     "output_type": "stream",
     "text": [
      "出问题的key: sess-LQLHfs8AbSYxl4r6aXdMkwFZX1jrFQrYFBV1WRcl\n"
     ]
    },
    {
     "name": "stderr",
     "output_type": "stream",
     "text": [
      "244it [34:08,  9.80s/it]"
     ]
    },
    {
     "name": "stdout",
     "output_type": "stream",
     "text": [
      "出问题的key: sess-LQLHfs8AbSYxl4r6aXdMkwFZX1jrFQrYFBV1WRcl\n"
     ]
    },
    {
     "name": "stderr",
     "output_type": "stream",
     "text": [
      "245it [34:19, 10.20s/it]"
     ]
    },
    {
     "name": "stdout",
     "output_type": "stream",
     "text": [
      "出问题的key: sess-LQLHfs8AbSYxl4r6aXdMkwFZX1jrFQrYFBV1WRcl\n"
     ]
    },
    {
     "name": "stderr",
     "output_type": "stream",
     "text": [
      "246it [34:26,  9.21s/it]"
     ]
    },
    {
     "name": "stdout",
     "output_type": "stream",
     "text": [
      "出问题的key: sess-LQLHfs8AbSYxl4r6aXdMkwFZX1jrFQrYFBV1WRcl\n"
     ]
    },
    {
     "name": "stderr",
     "output_type": "stream",
     "text": [
      "247it [34:36,  9.25s/it]"
     ]
    },
    {
     "name": "stdout",
     "output_type": "stream",
     "text": [
      "出问题的key: sess-LQLHfs8AbSYxl4r6aXdMkwFZX1jrFQrYFBV1WRcl\n"
     ]
    },
    {
     "name": "stderr",
     "output_type": "stream",
     "text": [
      "248it [34:43,  8.60s/it]"
     ]
    },
    {
     "name": "stdout",
     "output_type": "stream",
     "text": [
      "出问题的key: sess-LQLHfs8AbSYxl4r6aXdMkwFZX1jrFQrYFBV1WRcl\n"
     ]
    },
    {
     "name": "stderr",
     "output_type": "stream",
     "text": [
      "249it [34:58, 10.46s/it]"
     ]
    },
    {
     "name": "stdout",
     "output_type": "stream",
     "text": [
      "出问题的key: sess-LQLHfs8AbSYxl4r6aXdMkwFZX1jrFQrYFBV1WRcl\n"
     ]
    },
    {
     "name": "stderr",
     "output_type": "stream",
     "text": [
      "250it [35:03,  9.01s/it]"
     ]
    },
    {
     "name": "stdout",
     "output_type": "stream",
     "text": [
      "出问题的key: sess-LQLHfs8AbSYxl4r6aXdMkwFZX1jrFQrYFBV1WRcl\n"
     ]
    },
    {
     "name": "stderr",
     "output_type": "stream",
     "text": [
      "251it [35:11,  8.56s/it]"
     ]
    },
    {
     "name": "stdout",
     "output_type": "stream",
     "text": [
      "出问题的key: sess-LQLHfs8AbSYxl4r6aXdMkwFZX1jrFQrYFBV1WRcl\n"
     ]
    },
    {
     "name": "stderr",
     "output_type": "stream",
     "text": [
      "252it [35:17,  7.76s/it]"
     ]
    },
    {
     "name": "stdout",
     "output_type": "stream",
     "text": [
      "出问题的key: sess-LQLHfs8AbSYxl4r6aXdMkwFZX1jrFQrYFBV1WRcl\n"
     ]
    },
    {
     "name": "stderr",
     "output_type": "stream",
     "text": [
      "253it [35:26,  8.23s/it]"
     ]
    },
    {
     "name": "stdout",
     "output_type": "stream",
     "text": [
      "出问题的key: sess-LQLHfs8AbSYxl4r6aXdMkwFZX1jrFQrYFBV1WRcl\n"
     ]
    },
    {
     "name": "stderr",
     "output_type": "stream",
     "text": [
      "254it [35:36,  8.41s/it]\n"
     ]
    }
   ],
   "source": [
    "prompt_id_list = [201,202]\n",
    "path_num = 5\n",
    "prompt_type = 1\n",
    "\n",
    "\n",
    "\n",
    "all_paths = get_all_paths(prompt_id_list=prompt_id_list,path_num=path_num,prompt_type=prompt_type)\n",
    "\n",
    "# res_paths = get_combined_paths(all_paths)"
   ]
  },
  {
   "cell_type": "code",
   "execution_count": null,
   "metadata": {},
   "outputs": [],
   "source": [
    "assert len(prompt_id_list) == 2\n",
    "ids = prompt_id_list[0] +prompt_id_list[1]\n",
    "\n",
    "temp_p = f'{Result_Folder}/{dataset}/temp-{format_time}-Type_{prompt_type}-{ids}-Num_{data_scale}-{path_num}.json'\n",
    "# temp_p = \"./jx_result/AQuA/temp-1031_1954-Type_1-403-Num_77-5.json\"\n",
    "write_json(res_paths,path=temp_p)"
   ]
  },
  {
   "cell_type": "markdown",
   "metadata": {},
   "source": [
    "## 使用chatGLM抽取答案"
   ]
  },
  {
   "cell_type": "markdown",
   "metadata": {},
   "source": [
    "### 准备数据"
   ]
  },
  {
   "cell_type": "code",
   "execution_count": null,
   "metadata": {},
   "outputs": [],
   "source": [
    "import json\n",
    "# temp_p = \"jx_result/AQuA/temp-1031_1639-Type_1-403-Num_77-5.json\"\n",
    "\n",
    "with open(temp_p,'r',encoding='utf-8') as f:\n",
    "    data = json.load(f)\n",
    "len(data),data[0]"
   ]
  },
  {
   "cell_type": "markdown",
   "metadata": {},
   "source": [
    "### 抽取答案"
   ]
  },
  {
   "cell_type": "code",
   "execution_count": null,
   "metadata": {},
   "outputs": [],
   "source": [
    "def chatGLM(text,history):\n",
    "    res,history  = model.chat(tokenizer,text,history)\n",
    "#     print(res)\n",
    "    return res"
   ]
  },
  {
   "cell_type": "code",
   "execution_count": null,
   "metadata": {},
   "outputs": [],
   "source": [
    "# induce = \"\\nPlease extract the  option from the text.\\n Reply format should be the answer is xxx.\\nJust replay option.\\n Example: The answer is (A) xx.\""
   ]
  },
  {
   "cell_type": "code",
   "execution_count": null,
   "metadata": {},
   "outputs": [],
   "source": [
    "# a = '[Text]:\\n' + data[9]['paths'][5] + induce \n",
    "print(a)"
   ]
  },
  {
   "cell_type": "code",
   "execution_count": null,
   "metadata": {},
   "outputs": [],
   "source": [
    "# chatGLM(a,[])"
   ]
  },
  {
   "cell_type": "code",
   "execution_count": null,
   "metadata": {},
   "outputs": [],
   "source": [
    "from tqdm import tqdm\n",
    "\n",
    "induce = \"\\nPlease extract the answer option from the text.\\n Reply format should be the answer is xxx.\\nJust replay option.\\n Example: The answer is (A) xx.\"\n",
    "for i in tqdm(range(len(data))):\n",
    "    cots = data[i]['paths']\n",
    "    ans = []\n",
    "    for cot in cots:\n",
    "        induce_prompt = '[Text]:\\n' + cot + induce \n",
    "#         print(induce_prompt)\n",
    "        try:\n",
    "            res = chatGLM(induce_prompt,[])\n",
    "            ans.append(res)\n",
    "        except Exception as e:\n",
    "            print('出错了！')\n",
    "            print(e)\n",
    "    data[i]['answers'] = ans    \n",
    "   "
   ]
  },
  {
   "cell_type": "code",
   "execution_count": null,
   "metadata": {},
   "outputs": [],
   "source": [
    "import copy\n",
    "\n",
    "raw_data = copy.deepcopy(data)"
   ]
  },
  {
   "cell_type": "code",
   "execution_count": null,
   "metadata": {},
   "outputs": [],
   "source": [
    "data[50]['answers'],data[50]['answer']"
   ]
  },
  {
   "cell_type": "code",
   "execution_count": null,
   "metadata": {},
   "outputs": [],
   "source": [
    "import re\n",
    "\n",
    "def extract_option(text:str):\n",
    "    pattern = r'A|B|C|D|E'\n",
    "    match = re.search(pattern=pattern,string=text)\n",
    "    if match:\n",
    "        answer = str(match.group())\n",
    "    else:\n",
    "        answer = None\n",
    "    return answer\n",
    "\n",
    "\n",
    "def extract_answer(text: str):\n",
    "    count = 0\n",
    "    pattern_1 = r'\\d+(?:\\.\\d+)?'\n",
    "    # 尝试直接从cot中抽取答案\n",
    "    answer = extract_option(text)\n",
    "    # 如果抽不出来，则将其再次输入chatGLM-6b,得到新的text\n",
    "    if answer == None:\n",
    "        count += 1\n",
    "        answer = 'E'\n",
    "    return answer,count"
   ]
  },
  {
   "cell_type": "code",
   "execution_count": null,
   "metadata": {},
   "outputs": [],
   "source": [
    "from tqdm import  tqdm\n",
    "    \n",
    "for i in tqdm(range(len(data))):\n",
    "    ans = []\n",
    "    answers = data[i]['answers']\n",
    "    for item in answers:\n",
    "        answer,count = extract_answer(item)\n",
    "        ans.append(answer)\n",
    "    data[i]['answers'] = ans\n",
    "count"
   ]
  },
  {
   "cell_type": "code",
   "execution_count": null,
   "metadata": {},
   "outputs": [],
   "source": [
    "from utils import write_json\n",
    "\n",
    "prompt_id_list = [201,202]\n",
    "\n",
    "assert len(prompt_id_list) == 2\n",
    "ids = prompt_id_list[0] +prompt_id_list[1]\n",
    "\n",
    "# res_p = f'{Result_Folder}/{dataset}/res-{format_time}-Type_{prompt_type}-{ids}-Num_{data_scale}-{path_num}.json'\n",
    "res_p = \"jx_result/AQuA/res-1031_1954-Type_1-403-Num_77-5.json\"\n",
    "\n",
    "write_json(data,path=res_p)"
   ]
  },
  {
   "cell_type": "markdown",
   "metadata": {},
   "source": [
    "## 筛选器"
   ]
  },
  {
   "cell_type": "code",
   "execution_count": null,
   "metadata": {},
   "outputs": [],
   "source": [
    "import json\n",
    "\n",
    "with open(res_p,'r',encoding='utf-8') as f:\n",
    "    res_data = json.load(f)\n",
    "len(res_data),res_data[0]"
   ]
  },
  {
   "cell_type": "code",
   "execution_count": null,
   "metadata": {},
   "outputs": [],
   "source": [
    "from collections import Counter\n",
    "\n",
    "for item in data:\n",
    "    answers = item['answers']\n",
    "    jx = Counter(answers).most_common(1)[0][0]\n",
    "    item['pred_answer'] = jx\n",
    "\n",
    "data[0]"
   ]
  },
  {
   "cell_type": "code",
   "execution_count": null,
   "metadata": {},
   "outputs": [],
   "source": [
    "c1 = 0\n",
    "c2 = 0\n",
    "for item in data:\n",
    "    pred = item['pred_answer']\n",
    "    gold = item['answer']\n",
    "    if pred:\n",
    "        if str(pred) == str(gold):\n",
    "            item['ans'] = True\n",
    "            c1 += 1\n",
    "        else:\n",
    "            item['ans'] = False\n",
    "            c2 += 1\n",
    "    else:\n",
    "        c2 += 1\n",
    "assert c1 + c2 == len(data)\n",
    "c1,c2\n",
    "\n"
   ]
  },
  {
   "cell_type": "code",
   "execution_count": null,
   "metadata": {},
   "outputs": [],
   "source": [
    "p = res_p.replace('res-','ses-')\n",
    "\n",
    "write_json(res_data,p)"
   ]
  },
  {
   "cell_type": "code",
   "execution_count": null,
   "metadata": {},
   "outputs": [],
   "source": [
    "28/77"
   ]
  },
  {
   "cell_type": "code",
   "execution_count": null,
   "metadata": {},
   "outputs": [],
   "source": []
  },
  {
   "cell_type": "code",
   "execution_count": null,
   "metadata": {},
   "outputs": [],
   "source": []
  },
  {
   "cell_type": "code",
   "execution_count": null,
   "metadata": {},
   "outputs": [],
   "source": []
  },
  {
   "cell_type": "code",
   "execution_count": null,
   "metadata": {},
   "outputs": [],
   "source": []
  },
  {
   "cell_type": "code",
   "execution_count": null,
   "metadata": {},
   "outputs": [],
   "source": [
    "# import json\n",
    "\n",
    "# path = './jx_result/gsm8k/1018_1021-Type_1-303-Num_100-0.json'\n",
    "\n",
    "# data = []\n",
    "# with open(path,'r') as f:\n",
    "#    for line in f:\n",
    "#         data.append(line)\n",
    "# len(data)\n",
    "\n",
    "# count = 0\n",
    "# pos = 0\n",
    "# neg = 0\n",
    "# for item in data:\n",
    "#     if \"\\\"ans\\\":\" in item:\n",
    "#         count+=1;\n",
    "#         if \"true\" in item:\n",
    "#             pos+=1\n",
    "#         else:\n",
    "#             neg+=1\n",
    "# assert count == pos + neg,\"统计错误\"\n",
    "# print(count,pos)\n",
    "# print(pos/count)"
   ]
  },
  {
   "cell_type": "code",
   "execution_count": null,
   "metadata": {},
   "outputs": [],
   "source": [
    "# print('Brenda will have a total of $450 after 3 years. This can be calculated using the formula for simple interest: \\n\\nTotal Amount = Principal Amount + Interest Earned \\n\\nTotal Amount = 300 + (300 x 0.75 x 3) \\n\\nTotal Amount = 300 + 225 \\n\\nTotal Amount = $450')"
   ]
  },
  {
   "cell_type": "code",
   "execution_count": null,
   "metadata": {},
   "outputs": [],
   "source": [
    "(203+199+198)/900"
   ]
  },
  {
   "cell_type": "code",
   "execution_count": null,
   "metadata": {},
   "outputs": [],
   "source": [
    "(0.397+0.354+0.5)/3"
   ]
  },
  {
   "cell_type": "code",
   "execution_count": null,
   "metadata": {},
   "outputs": [],
   "source": [
    "(184+33)/300"
   ]
  },
  {
   "cell_type": "code",
   "execution_count": null,
   "metadata": {},
   "outputs": [],
   "source": [
    "c1 = 2\n",
    "c2 = 3\n",
    "\n",
    "print(\"计算完毕，准确率：{},正确个数：{}，错误个数：{}\".format(c1/(c1+c2),c1,c2))"
   ]
  }
 ],
 "metadata": {
  "kernelspec": {
   "display_name": "learn",
   "language": "python",
   "name": "python3"
  },
  "language_info": {
   "codemirror_mode": {
    "name": "ipython",
    "version": 3
   },
   "file_extension": ".py",
   "mimetype": "text/x-python",
   "name": "python",
   "nbconvert_exporter": "python",
   "pygments_lexer": "ipython3",
   "version": "3.7.0"
  }
 },
 "nbformat": 4,
 "nbformat_minor": 2
}
